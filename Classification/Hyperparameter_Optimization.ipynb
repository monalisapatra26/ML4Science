{
  "nbformat": 4,
  "nbformat_minor": 0,
  "metadata": {
    "colab": {
      "provenance": [],
      "authorship_tag": "ABX9TyOEKDgUBIPm08QqkWROx22O",
      "include_colab_link": true
    },
    "kernelspec": {
      "name": "python3",
      "display_name": "Python 3"
    },
    "language_info": {
      "name": "python"
    }
  },
  "cells": [
    {
      "cell_type": "markdown",
      "metadata": {
        "id": "view-in-github",
        "colab_type": "text"
      },
      "source": [
        "<a href=\"https://colab.research.google.com/github/monalisapatra26/ML4Science/blob/main/Classification/Hyperparameter_Optimization.ipynb\" target=\"_parent\"><img src=\"https://colab.research.google.com/assets/colab-badge.svg\" alt=\"Open In Colab\"/></a>"
      ]
    },
    {
      "cell_type": "code",
      "execution_count": null,
      "metadata": {
        "id": "jYzoqU25lANZ"
      },
      "outputs": [],
      "source": [
        "import numpy as np\n",
        "import pandas as pd\n",
        "import seaborn as sns\n",
        "import matplotlib.pyplot as plt\n",
        "from sklearn.metrics import accuracy_score\n",
        "from sklearn.tree import DecisionTreeClassifier\n",
        "from sklearn.model_selection import train_test_split\n",
        "from sklearn.metrics import confusion_matrix\n",
        "\n",
        "df = pd.read_csv(\"https://raw.githubusercontent.com/monalisapatra26/ML4Science/main/Classification/heart_disease.csv\")\n",
        "X = df.drop(columns=\"target\")\n",
        "y = df[\"target\"]\n",
        "\n",
        "X_train, X_test, y_train, y_test = train_test_split(X, y, test_size=0.10,\n",
        "                                                    shuffle=True, random_state=0)"
      ]
    },
    {
      "cell_type": "code",
      "source": [
        "dtclf = DecisionTreeClassifier(random_state=42)\n",
        "dtclf.fit(X_train, y_train)\n",
        "y_pred = dtclf.predict(X_test) # Predictions\n",
        "y_true = y_test # True values"
      ],
      "metadata": {
        "id": "jcDzwc5dvyss"
      },
      "execution_count": null,
      "outputs": []
    },
    {
      "cell_type": "code",
      "source": [
        "print(\"Train accuracy:\", np.round(accuracy_score(y_train,\n",
        "                                                 dtclf.predict(X_train)), 2))\n",
        "print(\"Test accuracy:\", np.round(accuracy_score(y_true, y_pred), 2))\n",
        "\n",
        "cf_matrix = confusion_matrix(y_true, y_pred)\n",
        "print(\"\\nTest confusion_matrix\")\n",
        "sns.heatmap(cf_matrix, annot=True, cmap='Blues')\n",
        "plt.xlabel('Predicted', fontsize=12)\n",
        "plt.ylabel('True', fontsize=12)\n",
        "plt.show()"
      ],
      "metadata": {
        "colab": {
          "base_uri": "https://localhost:8080/",
          "height": 528
        },
        "id": "I574FXPivz8i",
        "outputId": "f0048a4d-5b06-4e89-ea69-b7c275eb0f29"
      },
      "execution_count": null,
      "outputs": [
        {
          "output_type": "stream",
          "name": "stdout",
          "text": [
            "Train accuracy: 1.0\n",
            "Test accuracy: 0.71\n",
            "\n",
            "Test confusion_matrix\n"
          ]
        },
        {
          "output_type": "display_data",
          "data": {
            "text/plain": [
              "<Figure size 640x480 with 2 Axes>"
            ],
            "image/png": "[encoded data removed]"
          },
          "metadata": {}
        }
      ]
    },
    {
      "cell_type": "markdown",
      "source": [
        "We can clearly see here that the Decision Tree model is tending to overfit. The hyperparameters in the decision tree classifier are:\n",
        "\n",
        "1. criterion:{“gini”, “entropy”, “log_loss”}, default=”gini”\n",
        "2. splitter{“best”, “random”}, default=”best”\n",
        "3. max_depth: int, default=None.\n",
        "The maximum depth of the tree. If None, then nodes are expanded until all leaves are pure or until all leaves contain less than min_samples_split samples.\n",
        "4. min_samples_split: int or float, default=2\n",
        "The minimum number of samples required to split an internal node\n",
        "5. min_samples_leaf: int or float, default=1\n",
        "The minimum number of samples required to be at a leaf node. A split point at any depth will only be considered if it leaves at least"
      ],
      "metadata": {
        "id": "nuR1mpQ3PsPK"
      }
    },
    {
      "cell_type": "markdown",
      "source": [
        "### Implement GridSearch CV:\n",
        "\n",
        "1. estimator — (first parameter) A Scikit-learn machine learning model. In other words, this is our base model.\n",
        "2. param_grid — A Python dictionary of search space. Our search space is 3-dimensional and contains 576 (9 x 8 x 8) different combinations. This means we train 576 different models with Grid Search!\n",
        "3. scoring — The scoring method used to measure the models performance. For classification, we generally use ‘accuracy’ or ‘roc_auc’. For regression, ‘r2’ or ‘neg_mean_squared_error’ is preferred. Since our base model is a classification model (decision tree classifier), we use ‘accuracy’ as the scoring method.\n",
        "4. n_jobs — This specifies the number of parallel jobs to be run when executing grid search. If your computer processor has many cores, set a higher value for this. The -1 value uses all available cores. This will speed up the execution process.\n",
        "5. cv — The number of folds for cross-validation. The standard number are 5, 10. Each hyperparameter combination is repeated 10 times as cv is 10 here. So, the total number of iterations is 5760 (576 x 10)."
      ],
      "metadata": {
        "id": "aRKWzaU6Q_zF"
      }
    },
    {
      "cell_type": "code",
      "source": [
        "# Let's measure execution time too\n",
        "import time\n",
        "start = time.time()\n",
        "\n",
        "# Defining 3-dimensional hyperparameter space as a Python dictionary\n",
        "hyperparameter_space = {'max_depth':[2,3,4,6,8,10,12,15,20],\n",
        "                        'min_samples_split':[2,4,6,8,10,15,20,30],\n",
        "                        'min_samples_leaf':[1,2,3,4,5,6,8,10]}\n",
        "\n",
        "from sklearn.model_selection import GridSearchCV\n",
        "gs = GridSearchCV(dtclf, param_grid=hyperparameter_space,\n",
        "                  scoring=\"accuracy\",\n",
        "                  n_jobs=-1, cv=10, return_train_score=True)\n",
        "\n",
        "gs.fit(X_train, y_train)\n",
        "print(\"Optimal hyperparameter combination:\", gs.best_params_)\n",
        "print()\n",
        "print(\"Mean cross-validated training accuracy score:\",\n",
        "      gs.best_score_)\n",
        "gs.best_estimator_.fit(X_train, y_train)\n",
        "y_pred = gs.best_estimator_.predict(X_test) # Predictions\n",
        "y_true = y_test # True values\n",
        "print(\"Test accuracy:\", np.round(accuracy_score(y_true, y_pred), 2))\n",
        "cf_matrix = confusion_matrix(y_true, y_pred)\n",
        "import seaborn as sns\n",
        "import matplotlib.pyplot as plt\n",
        "sns.heatmap(cf_matrix, annot=True, cmap='Blues')\n",
        "plt.xlabel('Predicted')\n",
        "plt.ylabel('True')\n",
        "\n",
        "end = time.time()\n",
        "diff = end - start\n",
        "print('Execution time of Grid Search (in Seconds):', diff)\n",
        "print()"
      ],
      "metadata": {
        "colab": {
          "base_uri": "https://localhost:8080/",
          "height": 553
        },
        "id": "MCUay82hUFnr",
        "outputId": "af698dd2-488e-49c7-8b3b-402122d1706a"
      },
      "execution_count": null,
      "outputs": [
        {
          "output_type": "stream",
          "name": "stdout",
          "text": [
            "Optimal hyperparameter combination: {'max_depth': 6, 'min_samples_leaf': 5, 'min_samples_split': 15}\n",
            "\n",
            "Mean cross-validated training accuracy score: 0.7797619047619048\n",
            "Test accuracy: 0.87\n",
            "Execution time of Grid Search (in Seconds): 41.33580470085144\n",
            "\n"
          ]
        },
        {
          "output_type": "display_data",
          "data": {
            "text/plain": [
              "<Figure size 640x480 with 2 Axes>"
            ],
            "image/png": "[encoded data removed]"
          },
          "metadata": {}
        }
      ]
    },
    {
      "cell_type": "markdown",
      "source": [
        "### Implementation of Random Search\n",
        "\n",
        "The Python implementation of Random Search can be done using the Scikit-learn the RandomizedSearchCV function. Most of the parameters are the same as in the GridSearchCV function.\n",
        "\n",
        "1. n_iter — Specifies the number of hyperparameter combinations to be selected randomly. This is because random search does not check all hyperparameter combinations defined in the search space. Instead, it considers only a random sample of combinations. Here, n_iter=10 means that it tasks a random sample of size 10 which contain 10 different hyperparameter combinations. Therefore, random search only trains 10 different models (previously, 576 models with Grid Search).\n",
        "2. random_state — Controls the randomization of getting the sample of hyperparameter combinations at each different execution. We can use any integer.\n",
        "\n",
        "Here, the total number of iterations is 100 (10 x 10) which is much less than in the previous case (5760 iterations). 10 is from CV"
      ],
      "metadata": {
        "id": "KBo4H6eXYLre"
      }
    },
    {
      "cell_type": "code",
      "source": [
        "# Let's measure execution time too\n",
        "import time\n",
        "start = time.time()\n",
        "\n",
        "# Defining 3-dimensional hyperparameter space as a Python dictionary\n",
        "hyperparameter_space = {'max_depth':[2,3,4,6,8,10,12,15,20],\n",
        "                        'min_samples_split':[2,4,6,8,10,15,20,30],\n",
        "                        'min_samples_leaf':[1,2,3,4,5,6,8,10]}\n",
        "from sklearn.model_selection import RandomizedSearchCV\n",
        "rs = RandomizedSearchCV(dtclf, param_distributions=hyperparameter_space,\n",
        "                        n_iter=10, scoring=\"accuracy\", random_state=0,\n",
        "                        n_jobs=-1, cv=10, return_train_score=True)\n",
        "\n",
        "rs.fit(X_train, y_train)\n",
        "print(\"Optimal hyperparameter combination:\", rs.best_params_)\n",
        "print()\n",
        "print(\"Mean cross-validated training accuracy score:\",\n",
        "      rs.best_score_)\n",
        "rs.best_estimator_.fit(X_train, y_train)\n",
        "y_pred = rs.best_estimator_.predict(X_test) # Predictions\n",
        "y_true = y_test # True values\n",
        "\n",
        "print(\"Test accuracy:\", np.round(accuracy_score(y_true, y_pred), 2))\n",
        "cf_matrix = confusion_matrix(y_true, y_pred)\n",
        "import seaborn as sns\n",
        "import matplotlib.pyplot as plt\n",
        "sns.heatmap(cf_matrix, annot=True, cmap='Blues')\n",
        "plt.xlabel('Predicted')\n",
        "plt.ylabel('True')\n",
        "\n",
        "end = time.time()\n",
        "diff = end - start\n",
        "print('Execution time of Random Search (in Seconds):', diff)\n",
        "print()"
      ],
      "metadata": {
        "colab": {
          "base_uri": "https://localhost:8080/",
          "height": 553
        },
        "id": "sf5b9rh7RDSi",
        "outputId": "530fe143-5183-4d4d-e4e0-c7dba4f14406"
      },
      "execution_count": null,
      "outputs": [
        {
          "output_type": "stream",
          "name": "stdout",
          "text": [
            "Optimal hyperparameter combination: {'min_samples_split': 2, 'min_samples_leaf': 5, 'max_depth': 15}\n",
            "\n",
            "Mean cross-validated training accuracy score: 0.7797619047619048\n",
            "Test accuracy: 0.87\n",
            "Execution time of Random Search (in Seconds): 2.634603261947632\n",
            "\n"
          ]
        },
        {
          "output_type": "display_data",
          "data": {
            "text/plain": [
              "<Figure size 640x480 with 2 Axes>"
            ],
            "image/png": "[encoded data removed]"
          },
          "metadata": {}
        }
      ]
    },
    {
      "cell_type": "markdown",
      "source": [
        "The model performance is exactly the same as in Grid Search. However, optimal hyperparameter values are different. Now, the execution time is just 2.6 seconds which is much less than in the previous one (41 seconds). In this case, the random search is 16 times faster (41/2.6) than the grid search. This is because random search only performs 57.6 times (5760 / 100) fewer iterations!"
      ],
      "metadata": {
        "id": "WEvQTmJvaWCu"
      }
    },
    {
      "cell_type": "code",
      "source": [],
      "metadata": {
        "id": "T1TZYk5RakJz"
      },
      "execution_count": null,
      "outputs": []
    }
  ]
}