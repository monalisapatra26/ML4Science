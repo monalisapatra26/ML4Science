{
  "nbformat": 4,
  "nbformat_minor": 0,
  "metadata": {
    "kernelspec": {
      "display_name": "Python 3",
      "language": "python",
      "name": "python3"
    },
    "language_info": {
      "codemirror_mode": {
        "name": "ipython",
        "version": 3
      },
      "file_extension": ".py",
      "mimetype": "text/x-python",
      "name": "python",
      "nbconvert_exporter": "python",
      "pygments_lexer": "ipython3",
      "version": "3.8.8"
    },
    "colab": {
      "provenance": [],
      "collapsed_sections": [
        "qSWzlM6V3tsu",
        "nYxtj05Z4jdS",
        "LDYpbhLA8DnG",
        "QqrUwlNQ-DSr",
        "2-fziQ7LCbR-"
      ],
      "include_colab_link": true
    }
  },
  "cells": [
    {
      "cell_type": "markdown",
      "metadata": {
        "id": "view-in-github",
        "colab_type": "text"
      },
      "source": [
        "<a href=\"https://colab.research.google.com/github/monalisapatra26/ML4Science/blob/main/Classification/Imbalanced_Dataset_customer_churn.ipynb\" target=\"_parent\"><img src=\"https://colab.research.google.com/assets/colab-badge.svg\" alt=\"Open In Colab\"/></a>"
      ]
    },
    {
      "cell_type": "markdown",
      "metadata": {
        "id": "Gpb-jfictU7W"
      },
      "source": [
        "<h3 style='color:blue' align='center'>Customer Churn Prediction Using Artificial Neural Network (ANN)</h3>"
      ]
    },
    {
      "cell_type": "markdown",
      "metadata": {
        "id": "R7QZJbxItU7b"
      },
      "source": [
        "Customer churn prediction is to measure why customers are leaving a business. In this tutorial we will be looking at customer churn in telecom business. We will build a deep learning model to predict the churn and use precision,recall, f1-score to measure performance of our model"
      ]
    },
    {
      "cell_type": "code",
      "metadata": {
        "id": "eP3gEZ9jtU7b"
      },
      "source": [
        "import pandas as pd\n",
        "from matplotlib import pyplot as plt\n",
        "import numpy as np\n",
        "%matplotlib inline\n",
        "import warnings\n",
        "warnings.filterwarnings('ignore')"
      ],
      "execution_count": null,
      "outputs": []
    },
    {
      "cell_type": "markdown",
      "metadata": {
        "id": "C1TNdV7UtU7d"
      },
      "source": [
        "**Load the data**"
      ]
    },
    {
      "cell_type": "code",
      "metadata": {
        "scrolled": true,
        "colab": {
          "base_uri": "https://localhost:8080/",
          "height": 386
        },
        "id": "C-MX2Nw7tU7d",
        "outputId": "28af481d-fa23-4ae7-a0d1-a9e76668ec02"
      },
      "source": [
        "link = \"https://raw.githubusercontent.com/monalisapatra26/supervised_ML_algorithms/main/customer_churn.csv\"\n",
        "df = pd.read_csv(link)\n",
        "df.sample(5)"
      ],
      "execution_count": null,
      "outputs": [
        {
          "output_type": "execute_result",
          "data": {
            "text/plain": [
              "      customerID  gender  SeniorCitizen Partner Dependents  tenure  \\\n",
              "5286  3235-ETOOB    Male              0     Yes         No       8   \n",
              "2793  3904-UKFRE    Male              0      No         No       4   \n",
              "5337  6705-LNMDD    Male              0      No         No      20   \n",
              "5288  8058-INTPH  Female              0      No         No       1   \n",
              "3128  2739-CCZMB    Male              0      No        Yes       5   \n",
              "\n",
              "     PhoneService MultipleLines InternetService       OnlineSecurity  ...  \\\n",
              "5286          Yes            No     Fiber optic                  Yes  ...   \n",
              "2793          Yes           Yes     Fiber optic                  Yes  ...   \n",
              "5337          Yes            No             DSL                   No  ...   \n",
              "5288          Yes            No     Fiber optic                   No  ...   \n",
              "3128          Yes            No              No  No internet service  ...   \n",
              "\n",
              "         DeviceProtection          TechSupport          StreamingTV  \\\n",
              "5286                   No                   No                   No   \n",
              "2793                   No                   No                   No   \n",
              "5337                   No                  Yes                   No   \n",
              "5288                   No                   No                  Yes   \n",
              "3128  No internet service  No internet service  No internet service   \n",
              "\n",
              "          StreamingMovies        Contract PaperlessBilling  \\\n",
              "5286                   No  Month-to-month              Yes   \n",
              "2793                   No  Month-to-month              Yes   \n",
              "5337                   No  Month-to-month               No   \n",
              "5288                   No  Month-to-month              Yes   \n",
              "3128  No internet service  Month-to-month               No   \n",
              "\n",
              "                PaymentMethod MonthlyCharges  TotalCharges Churn  \n",
              "5286         Electronic check          74.50         609.9   Yes  \n",
              "2793         Electronic check          80.10        336.15    No  \n",
              "5337             Mailed check          50.00       1003.05    No  \n",
              "5288         Electronic check          79.65         79.65   Yes  \n",
              "3128  Credit card (automatic)          20.35           122    No  \n",
              "\n",
              "[5 rows x 21 columns]"
            ],
            "text/html": [
              "\n",
              "  <div id=\"df-9d6720f9-a555-4562-a4a7-5e60c42b3e1f\">\n",
              "    <div class=\"colab-df-container\">\n",
              "      <div>\n",
              "<style scoped>\n",
              "    .dataframe tbody tr th:only-of-type {\n",
              "        vertical-align: middle;\n",
              "    }\n",
              "\n",
              "    .dataframe tbody tr th {\n",
              "        vertical-align: top;\n",
              "    }\n",
              "\n",
              "    .dataframe thead th {\n",
              "        text-align: right;\n",
              "    }\n",
              "</style>\n",
              "<table border=\"1\" class=\"dataframe\">\n",
              "  <thead>\n",
              "    <tr style=\"text-align: right;\">\n",
              "      <th></th>\n",
              "      <th>customerID</th>\n",
              "      <th>gender</th>\n",
              "      <th>SeniorCitizen</th>\n",
              "      <th>Partner</th>\n",
              "      <th>Dependents</th>\n",
              "      <th>tenure</th>\n",
              "      <th>PhoneService</th>\n",
              "      <th>MultipleLines</th>\n",
              "      <th>InternetService</th>\n",
              "      <th>OnlineSecurity</th>\n",
              "      <th>...</th>\n",
              "      <th>DeviceProtection</th>\n",
              "      <th>TechSupport</th>\n",
              "      <th>StreamingTV</th>\n",
              "      <th>StreamingMovies</th>\n",
              "      <th>Contract</th>\n",
              "      <th>PaperlessBilling</th>\n",
              "      <th>PaymentMethod</th>\n",
              "      <th>MonthlyCharges</th>\n",
              "      <th>TotalCharges</th>\n",
              "      <th>Churn</th>\n",
              "    </tr>\n",
              "  </thead>\n",
              "  <tbody>\n",
              "    <tr>\n",
              "      <th>5286</th>\n",
              "      <td>3235-ETOOB</td>\n",
              "      <td>Male</td>\n",
              "      <td>0</td>\n",
              "      <td>Yes</td>\n",
              "      <td>No</td>\n",
              "      <td>8</td>\n",
              "      <td>Yes</td>\n",
              "      <td>No</td>\n",
              "      <td>Fiber optic</td>\n",
              "      <td>Yes</td>\n",
              "      <td>...</td>\n",
              "      <td>No</td>\n",
              "      <td>No</td>\n",
              "      <td>No</td>\n",
              "      <td>No</td>\n",
              "      <td>Month-to-month</td>\n",
              "      <td>Yes</td>\n",
              "      <td>Electronic check</td>\n",
              "      <td>74.50</td>\n",
              "      <td>609.9</td>\n",
              "      <td>Yes</td>\n",
              "    </tr>\n",
              "    <tr>\n",
              "      <th>2793</th>\n",
              "      <td>3904-UKFRE</td>\n",
              "      <td>Male</td>\n",
              "      <td>0</td>\n",
              "      <td>No</td>\n",
              "      <td>No</td>\n",
              "      <td>4</td>\n",
              "      <td>Yes</td>\n",
              "      <td>Yes</td>\n",
              "      <td>Fiber optic</td>\n",
              "      <td>Yes</td>\n",
              "      <td>...</td>\n",
              "      <td>No</td>\n",
              "      <td>No</td>\n",
              "      <td>No</td>\n",
              "      <td>No</td>\n",
              "      <td>Month-to-month</td>\n",
              "      <td>Yes</td>\n",
              "      <td>Electronic check</td>\n",
              "      <td>80.10</td>\n",
              "      <td>336.15</td>\n",
              "      <td>No</td>\n",
              "    </tr>\n",
              "    <tr>\n",
              "      <th>5337</th>\n",
              "      <td>6705-LNMDD</td>\n",
              "      <td>Male</td>\n",
              "      <td>0</td>\n",
              "      <td>No</td>\n",
              "      <td>No</td>\n",
              "      <td>20</td>\n",
              "      <td>Yes</td>\n",
              "      <td>No</td>\n",
              "      <td>DSL</td>\n",
              "      <td>No</td>\n",
              "      <td>...</td>\n",
              "      <td>No</td>\n",
              "      <td>Yes</td>\n",
              "      <td>No</td>\n",
              "      <td>No</td>\n",
              "      <td>Month-to-month</td>\n",
              "      <td>No</td>\n",
              "      <td>Mailed check</td>\n",
              "      <td>50.00</td>\n",
              "      <td>1003.05</td>\n",
              "      <td>No</td>\n",
              "    </tr>\n",
              "    <tr>\n",
              "      <th>5288</th>\n",
              "      <td>8058-INTPH</td>\n",
              "      <td>Female</td>\n",
              "      <td>0</td>\n",
              "      <td>No</td>\n",
              "      <td>No</td>\n",
              "      <td>1</td>\n",
              "      <td>Yes</td>\n",
              "      <td>No</td>\n",
              "      <td>Fiber optic</td>\n",
              "      <td>No</td>\n",
              "      <td>...</td>\n",
              "      <td>No</td>\n",
              "      <td>No</td>\n",
              "      <td>Yes</td>\n",
              "      <td>No</td>\n",
              "      <td>Month-to-month</td>\n",
              "      <td>Yes</td>\n",
              "      <td>Electronic check</td>\n",
              "      <td>79.65</td>\n",
              "      <td>79.65</td>\n",
              "      <td>Yes</td>\n",
              "    </tr>\n",
              "    <tr>\n",
              "      <th>3128</th>\n",
              "      <td>2739-CCZMB</td>\n",
              "      <td>Male</td>\n",
              "      <td>0</td>\n",
              "      <td>No</td>\n",
              "      <td>Yes</td>\n",
              "      <td>5</td>\n",
              "      <td>Yes</td>\n",
              "      <td>No</td>\n",
              "      <td>No</td>\n",
              "      <td>No internet service</td>\n",
              "      <td>...</td>\n",
              "      <td>No internet service</td>\n",
              "      <td>No internet service</td>\n",
              "      <td>No internet service</td>\n",
              "      <td>No internet service</td>\n",
              "      <td>Month-to-month</td>\n",
              "      <td>No</td>\n",
              "      <td>Credit card (automatic)</td>\n",
              "      <td>20.35</td>\n",
              "      <td>122</td>\n",
              "      <td>No</td>\n",
              "    </tr>\n",
              "  </tbody>\n",
              "</table>\n",
              "<p>5 rows × 21 columns</p>\n",
              "</div>\n",
              "      <button class=\"colab-df-convert\" onclick=\"convertToInteractive('df-9d6720f9-a555-4562-a4a7-5e60c42b3e1f')\"\n",
              "              title=\"Convert this dataframe to an interactive table.\"\n",
              "              style=\"display:none;\">\n",
              "        \n",
              "  <svg xmlns=\"http://www.w3.org/2000/svg\" height=\"24px\"viewBox=\"0 0 24 24\"\n",
              "       width=\"24px\">\n",
              "    <path d=\"M0 0h24v24H0V0z\" fill=\"none\"/>\n",
              "    <path d=\"M18.56 5.44l.94 2.06.94-2.06 2.06-.94-2.06-.94-.94-2.06-.94 2.06-2.06.94zm-11 1L8.5 8.5l.94-2.06 2.06-.94-2.06-.94L8.5 2.5l-.94 2.06-2.06.94zm10 10l.94 2.06.94-2.06 2.06-.94-2.06-.94-.94-2.06-.94 2.06-2.06.94z\"/><path d=\"M17.41 7.96l-1.37-1.37c-.4-.4-.92-.59-1.43-.59-.52 0-1.04.2-1.43.59L10.3 9.45l-7.72 7.72c-.78.78-.78 2.05 0 2.83L4 21.41c.39.39.9.59 1.41.59.51 0 1.02-.2 1.41-.59l7.78-7.78 2.81-2.81c.8-.78.8-2.07 0-2.86zM5.41 20L4 18.59l7.72-7.72 1.47 1.35L5.41 20z\"/>\n",
              "  </svg>\n",
              "      </button>\n",
              "      \n",
              "  <style>\n",
              "    .colab-df-container {\n",
              "      display:flex;\n",
              "      flex-wrap:wrap;\n",
              "      gap: 12px;\n",
              "    }\n",
              "\n",
              "    .colab-df-convert {\n",
              "      background-color: #E8F0FE;\n",
              "      border: none;\n",
              "      border-radius: 50%;\n",
              "      cursor: pointer;\n",
              "      display: none;\n",
              "      fill: #1967D2;\n",
              "      height: 32px;\n",
              "      padding: 0 0 0 0;\n",
              "      width: 32px;\n",
              "    }\n",
              "\n",
              "    .colab-df-convert:hover {\n",
              "      background-color: #E2EBFA;\n",
              "      box-shadow: 0px 1px 2px rgba(60, 64, 67, 0.3), 0px 1px 3px 1px rgba(60, 64, 67, 0.15);\n",
              "      fill: #174EA6;\n",
              "    }\n",
              "\n",
              "    [theme=dark] .colab-df-convert {\n",
              "      background-color: #3B4455;\n",
              "      fill: #D2E3FC;\n",
              "    }\n",
              "\n",
              "    [theme=dark] .colab-df-convert:hover {\n",
              "      background-color: #434B5C;\n",
              "      box-shadow: 0px 1px 3px 1px rgba(0, 0, 0, 0.15);\n",
              "      filter: drop-shadow(0px 1px 2px rgba(0, 0, 0, 0.3));\n",
              "      fill: #FFFFFF;\n",
              "    }\n",
              "  </style>\n",
              "\n",
              "      <script>\n",
              "        const buttonEl =\n",
              "          document.querySelector('#df-9d6720f9-a555-4562-a4a7-5e60c42b3e1f button.colab-df-convert');\n",
              "        buttonEl.style.display =\n",
              "          google.colab.kernel.accessAllowed ? 'block' : 'none';\n",
              "\n",
              "        async function convertToInteractive(key) {\n",
              "          const element = document.querySelector('#df-9d6720f9-a555-4562-a4a7-5e60c42b3e1f');\n",
              "          const dataTable =\n",
              "            await google.colab.kernel.invokeFunction('convertToInteractive',\n",
              "                                                     [key], {});\n",
              "          if (!dataTable) return;\n",
              "\n",
              "          const docLinkHtml = 'Like what you see? Visit the ' +\n",
              "            '<a target=\"_blank\" href=https://colab.research.google.com/notebooks/data_table.ipynb>data table notebook</a>'\n",
              "            + ' to learn more about interactive tables.';\n",
              "          element.innerHTML = '';\n",
              "          dataTable['output_type'] = 'display_data';\n",
              "          await google.colab.output.renderOutput(dataTable, element);\n",
              "          const docLink = document.createElement('div');\n",
              "          docLink.innerHTML = docLinkHtml;\n",
              "          element.appendChild(docLink);\n",
              "        }\n",
              "      </script>\n",
              "    </div>\n",
              "  </div>\n",
              "  "
            ]
          },
          "metadata": {},
          "execution_count": 2
        }
      ]
    },
    {
      "cell_type": "markdown",
      "metadata": {
        "id": "fT3GY11StU7e"
      },
      "source": [
        "**First of all, drop customerID column as it is of no use**"
      ]
    },
    {
      "cell_type": "code",
      "metadata": {
        "id": "1Q9stWX_tU7f"
      },
      "source": [
        "df.drop('customerID',axis='columns',inplace=True)"
      ],
      "execution_count": null,
      "outputs": []
    },
    {
      "cell_type": "code",
      "metadata": {
        "colab": {
          "base_uri": "https://localhost:8080/"
        },
        "id": "w-b1J5R7vFWA",
        "outputId": "a10adc19-b062-4555-f09f-a903937356dd"
      },
      "source": [
        "df.shape"
      ],
      "execution_count": null,
      "outputs": [
        {
          "output_type": "execute_result",
          "data": {
            "text/plain": [
              "(7043, 20)"
            ]
          },
          "metadata": {},
          "execution_count": 4
        }
      ]
    },
    {
      "cell_type": "markdown",
      "source": [
        "### Counting the data samples in each class\n",
        "\n",
        "Our dataset has two classes 1 and a 0 class. The 1 class represents the customers who will leave the bank, and the 0 class represents the customer who will not leave the bank. Counting the data samples in each class will enable us to see the class imbalance."
      ],
      "metadata": {
        "id": "CwC6scZdp2Wu"
      }
    },
    {
      "cell_type": "code",
      "source": [
        "df.Churn.value_counts()"
      ],
      "metadata": {
        "colab": {
          "base_uri": "https://localhost:8080/"
        },
        "id": "H6ELHn9kp9y-",
        "outputId": "1903ec9d-cbdf-42d1-e87e-c1a28aa4839e"
      },
      "execution_count": null,
      "outputs": [
        {
          "output_type": "execute_result",
          "data": {
            "text/plain": [
              "No     5174\n",
              "Yes    1869\n",
              "Name: Churn, dtype: int64"
            ]
          },
          "metadata": {},
          "execution_count": 4
        }
      ]
    },
    {
      "cell_type": "markdown",
      "source": [
        "The 0 class has 5174 data samples, and the 1 class has 1869 data samples. It shows we have a class imbalance, and we will balance the classes later on when implementing the three techniques. The 0 class is the majority class in the imbalanced dataset, and the 1 class is the minority."
      ],
      "metadata": {
        "id": "tzSEESZeqPDz"
      }
    },
    {
      "cell_type": "code",
      "metadata": {
        "scrolled": false,
        "colab": {
          "base_uri": "https://localhost:8080/"
        },
        "id": "wyPQxA9vtU7f",
        "outputId": "54dac966-07f2-487b-9c07-932e80416317"
      },
      "source": [
        "df.dtypes"
      ],
      "execution_count": null,
      "outputs": [
        {
          "output_type": "execute_result",
          "data": {
            "text/plain": [
              "gender               object\n",
              "SeniorCitizen         int64\n",
              "Partner              object\n",
              "Dependents           object\n",
              "tenure                int64\n",
              "PhoneService         object\n",
              "MultipleLines        object\n",
              "InternetService      object\n",
              "OnlineSecurity       object\n",
              "OnlineBackup         object\n",
              "DeviceProtection     object\n",
              "TechSupport          object\n",
              "StreamingTV          object\n",
              "StreamingMovies      object\n",
              "Contract             object\n",
              "PaperlessBilling     object\n",
              "PaymentMethod        object\n",
              "MonthlyCharges      float64\n",
              "TotalCharges         object\n",
              "Churn                object\n",
              "dtype: object"
            ]
          },
          "metadata": {},
          "execution_count": 5
        }
      ]
    },
    {
      "cell_type": "markdown",
      "metadata": {
        "id": "3jGxMxX7tU7g"
      },
      "source": [
        "**Quick glance at above makes me realize that TotalCharges should be float but it is an object. Let's check what's going on with  this column**"
      ]
    },
    {
      "cell_type": "code",
      "metadata": {
        "colab": {
          "base_uri": "https://localhost:8080/"
        },
        "id": "AOtbVCNjtU7g",
        "outputId": "9d06b4ab-3a16-4f44-e7f0-34cbc2983d74"
      },
      "source": [
        "df.TotalCharges.values"
      ],
      "execution_count": null,
      "outputs": [
        {
          "output_type": "execute_result",
          "data": {
            "text/plain": [
              "array(['29.85', '1889.5', '108.15', ..., '346.45', '306.6', '6844.5'],\n",
              "      dtype=object)"
            ]
          },
          "metadata": {},
          "execution_count": 6
        }
      ]
    },
    {
      "cell_type": "markdown",
      "metadata": {
        "id": "X4h3OA4xtU7h"
      },
      "source": [
        "**Ahh... it is string. Lets convert it to numbers**"
      ]
    },
    {
      "cell_type": "code",
      "metadata": {
        "colab": {
          "base_uri": "https://localhost:8080/",
          "height": 293
        },
        "id": "etd7ZMc0tU7h",
        "outputId": "709ec20f-1f9c-487f-97ef-82c2ef36dade"
      },
      "source": [
        "pd.to_numeric(df.TotalCharges)"
      ],
      "execution_count": null,
      "outputs": [
        {
          "output_type": "error",
          "ename": "ValueError",
          "evalue": "ignored",
          "traceback": [
            "\u001b[0;31m---------------------------------------------------------------------------\u001b[0m",
            "\u001b[0;31mValueError\u001b[0m                                Traceback (most recent call last)",
            "\u001b[0;32m/usr/local/lib/python3.10/dist-packages/pandas/_libs/lib.pyx\u001b[0m in \u001b[0;36mpandas._libs.lib.maybe_convert_numeric\u001b[0;34m()\u001b[0m\n",
            "\u001b[0;31mValueError\u001b[0m: Unable to parse string \" \"",
            "\nDuring handling of the above exception, another exception occurred:\n",
            "\u001b[0;31mValueError\u001b[0m                                Traceback (most recent call last)",
            "\u001b[0;32m<ipython-input-8-06ba430a4ba5>\u001b[0m in \u001b[0;36m<cell line: 1>\u001b[0;34m()\u001b[0m\n\u001b[0;32m----> 1\u001b[0;31m \u001b[0mpd\u001b[0m\u001b[0;34m.\u001b[0m\u001b[0mto_numeric\u001b[0m\u001b[0;34m(\u001b[0m\u001b[0mdf\u001b[0m\u001b[0;34m.\u001b[0m\u001b[0mTotalCharges\u001b[0m\u001b[0;34m)\u001b[0m\u001b[0;34m\u001b[0m\u001b[0;34m\u001b[0m\u001b[0m\n\u001b[0m",
            "\u001b[0;32m/usr/local/lib/python3.10/dist-packages/pandas/core/tools/numeric.py\u001b[0m in \u001b[0;36mto_numeric\u001b[0;34m(arg, errors, downcast)\u001b[0m\n\u001b[1;32m    183\u001b[0m         \u001b[0mcoerce_numeric\u001b[0m \u001b[0;34m=\u001b[0m \u001b[0merrors\u001b[0m \u001b[0;32mnot\u001b[0m \u001b[0;32min\u001b[0m \u001b[0;34m(\u001b[0m\u001b[0;34m\"ignore\"\u001b[0m\u001b[0;34m,\u001b[0m \u001b[0;34m\"raise\"\u001b[0m\u001b[0;34m)\u001b[0m\u001b[0;34m\u001b[0m\u001b[0;34m\u001b[0m\u001b[0m\n\u001b[1;32m    184\u001b[0m         \u001b[0;32mtry\u001b[0m\u001b[0;34m:\u001b[0m\u001b[0;34m\u001b[0m\u001b[0;34m\u001b[0m\u001b[0m\n\u001b[0;32m--> 185\u001b[0;31m             values, _ = lib.maybe_convert_numeric(\n\u001b[0m\u001b[1;32m    186\u001b[0m                 \u001b[0mvalues\u001b[0m\u001b[0;34m,\u001b[0m \u001b[0mset\u001b[0m\u001b[0;34m(\u001b[0m\u001b[0;34m)\u001b[0m\u001b[0;34m,\u001b[0m \u001b[0mcoerce_numeric\u001b[0m\u001b[0;34m=\u001b[0m\u001b[0mcoerce_numeric\u001b[0m\u001b[0;34m\u001b[0m\u001b[0;34m\u001b[0m\u001b[0m\n\u001b[1;32m    187\u001b[0m             )\n",
            "\u001b[0;32m/usr/local/lib/python3.10/dist-packages/pandas/_libs/lib.pyx\u001b[0m in \u001b[0;36mpandas._libs.lib.maybe_convert_numeric\u001b[0;34m()\u001b[0m\n",
            "\u001b[0;31mValueError\u001b[0m: Unable to parse string \" \" at position 488"
          ]
        }
      ]
    },
    {
      "cell_type": "markdown",
      "metadata": {
        "id": "FXZYz2yDtU7i"
      },
      "source": [
        "# Some values seems to be not numbers but blank string. Let's find out such rows"
      ]
    },
    {
      "cell_type": "markdown",
      "metadata": {
        "id": "zcxP7Rxgvm4R"
      },
      "source": [
        "errors = 'coerce' will ignore the errors or space. It will put NA there\n",
        "\n",
        "isnull() will say whether there is space or not"
      ]
    },
    {
      "cell_type": "code",
      "metadata": {
        "colab": {
          "base_uri": "https://localhost:8080/"
        },
        "id": "H4mElYfXjT_N",
        "outputId": "f085ec97-fdc7-47d3-dfc0-40d32a010678"
      },
      "source": [
        "pd.to_numeric(df.TotalCharges,errors='coerce')"
      ],
      "execution_count": null,
      "outputs": [
        {
          "output_type": "execute_result",
          "data": {
            "text/plain": [
              "0         29.85\n",
              "1       1889.50\n",
              "2        108.15\n",
              "3       1840.75\n",
              "4        151.65\n",
              "         ...   \n",
              "7038    1990.50\n",
              "7039    7362.90\n",
              "7040     346.45\n",
              "7041     306.60\n",
              "7042    6844.50\n",
              "Name: TotalCharges, Length: 7043, dtype: float64"
            ]
          },
          "metadata": {},
          "execution_count": 7
        }
      ]
    },
    {
      "cell_type": "code",
      "metadata": {
        "id": "gp8oldgKtU7i",
        "outputId": "9b84d166-3059-4314-c278-cb3a2b1746a8",
        "colab": {
          "base_uri": "https://localhost:8080/"
        }
      },
      "source": [
        "pd.to_numeric(df.TotalCharges,errors='coerce').isnull()"
      ],
      "execution_count": null,
      "outputs": [
        {
          "output_type": "execute_result",
          "data": {
            "text/plain": [
              "0       False\n",
              "1       False\n",
              "2       False\n",
              "3       False\n",
              "4       False\n",
              "        ...  \n",
              "7038    False\n",
              "7039    False\n",
              "7040    False\n",
              "7041    False\n",
              "7042    False\n",
              "Name: TotalCharges, Length: 7043, dtype: bool"
            ]
          },
          "metadata": {},
          "execution_count": 8
        }
      ]
    },
    {
      "cell_type": "markdown",
      "metadata": {
        "id": "CTRIOGm6v9-s"
      },
      "source": [
        "The above thing we will serve as a dataframe, and it will serve as an index. Whereever the value is True is will print the row."
      ]
    },
    {
      "cell_type": "code",
      "metadata": {
        "id": "duoVzRK9tU7i",
        "outputId": "c39e2907-ea13-4480-9447-99357a2255cd",
        "colab": {
          "base_uri": "https://localhost:8080/",
          "height": 614
        }
      },
      "source": [
        "df[pd.to_numeric(df.TotalCharges,errors='coerce').isnull()]"
      ],
      "execution_count": null,
      "outputs": [
        {
          "output_type": "execute_result",
          "data": {
            "text/plain": [
              "      gender  SeniorCitizen Partner Dependents  tenure PhoneService  \\\n",
              "488   Female              0     Yes        Yes       0           No   \n",
              "753     Male              0      No        Yes       0          Yes   \n",
              "936   Female              0     Yes        Yes       0          Yes   \n",
              "1082    Male              0     Yes        Yes       0          Yes   \n",
              "1340  Female              0     Yes        Yes       0           No   \n",
              "3331    Male              0     Yes        Yes       0          Yes   \n",
              "3826    Male              0     Yes        Yes       0          Yes   \n",
              "4380  Female              0     Yes        Yes       0          Yes   \n",
              "5218    Male              0     Yes        Yes       0          Yes   \n",
              "6670  Female              0     Yes        Yes       0          Yes   \n",
              "6754    Male              0      No        Yes       0          Yes   \n",
              "\n",
              "         MultipleLines InternetService       OnlineSecurity  \\\n",
              "488   No phone service             DSL                  Yes   \n",
              "753                 No              No  No internet service   \n",
              "936                 No             DSL                  Yes   \n",
              "1082               Yes              No  No internet service   \n",
              "1340  No phone service             DSL                  Yes   \n",
              "3331                No              No  No internet service   \n",
              "3826               Yes              No  No internet service   \n",
              "4380                No              No  No internet service   \n",
              "5218                No              No  No internet service   \n",
              "6670               Yes             DSL                   No   \n",
              "6754               Yes             DSL                  Yes   \n",
              "\n",
              "             OnlineBackup     DeviceProtection          TechSupport  \\\n",
              "488                    No                  Yes                  Yes   \n",
              "753   No internet service  No internet service  No internet service   \n",
              "936                   Yes                  Yes                   No   \n",
              "1082  No internet service  No internet service  No internet service   \n",
              "1340                  Yes                  Yes                  Yes   \n",
              "3331  No internet service  No internet service  No internet service   \n",
              "3826  No internet service  No internet service  No internet service   \n",
              "4380  No internet service  No internet service  No internet service   \n",
              "5218  No internet service  No internet service  No internet service   \n",
              "6670                  Yes                  Yes                  Yes   \n",
              "6754                  Yes                   No                  Yes   \n",
              "\n",
              "              StreamingTV      StreamingMovies  Contract PaperlessBilling  \\\n",
              "488                   Yes                   No  Two year              Yes   \n",
              "753   No internet service  No internet service  Two year               No   \n",
              "936                   Yes                  Yes  Two year               No   \n",
              "1082  No internet service  No internet service  Two year               No   \n",
              "1340                  Yes                   No  Two year               No   \n",
              "3331  No internet service  No internet service  Two year               No   \n",
              "3826  No internet service  No internet service  Two year               No   \n",
              "4380  No internet service  No internet service  Two year               No   \n",
              "5218  No internet service  No internet service  One year              Yes   \n",
              "6670                  Yes                   No  Two year               No   \n",
              "6754                   No                   No  Two year              Yes   \n",
              "\n",
              "                  PaymentMethod  MonthlyCharges TotalCharges Churn  \n",
              "488   Bank transfer (automatic)           52.55                 No  \n",
              "753                Mailed check           20.25                 No  \n",
              "936                Mailed check           80.85                 No  \n",
              "1082               Mailed check           25.75                 No  \n",
              "1340    Credit card (automatic)           56.05                 No  \n",
              "3331               Mailed check           19.85                 No  \n",
              "3826               Mailed check           25.35                 No  \n",
              "4380               Mailed check           20.00                 No  \n",
              "5218               Mailed check           19.70                 No  \n",
              "6670               Mailed check           73.35                 No  \n",
              "6754  Bank transfer (automatic)           61.90                 No  "
            ],
            "text/html": [
              "\n",
              "  <div id=\"df-5688e404-6847-4e5a-90a5-e85621858d5f\">\n",
              "    <div class=\"colab-df-container\">\n",
              "      <div>\n",
              "<style scoped>\n",
              "    .dataframe tbody tr th:only-of-type {\n",
              "        vertical-align: middle;\n",
              "    }\n",
              "\n",
              "    .dataframe tbody tr th {\n",
              "        vertical-align: top;\n",
              "    }\n",
              "\n",
              "    .dataframe thead th {\n",
              "        text-align: right;\n",
              "    }\n",
              "</style>\n",
              "<table border=\"1\" class=\"dataframe\">\n",
              "  <thead>\n",
              "    <tr style=\"text-align: right;\">\n",
              "      <th></th>\n",
              "      <th>gender</th>\n",
              "      <th>SeniorCitizen</th>\n",
              "      <th>Partner</th>\n",
              "      <th>Dependents</th>\n",
              "      <th>tenure</th>\n",
              "      <th>PhoneService</th>\n",
              "      <th>MultipleLines</th>\n",
              "      <th>InternetService</th>\n",
              "      <th>OnlineSecurity</th>\n",
              "      <th>OnlineBackup</th>\n",
              "      <th>DeviceProtection</th>\n",
              "      <th>TechSupport</th>\n",
              "      <th>StreamingTV</th>\n",
              "      <th>StreamingMovies</th>\n",
              "      <th>Contract</th>\n",
              "      <th>PaperlessBilling</th>\n",
              "      <th>PaymentMethod</th>\n",
              "      <th>MonthlyCharges</th>\n",
              "      <th>TotalCharges</th>\n",
              "      <th>Churn</th>\n",
              "    </tr>\n",
              "  </thead>\n",
              "  <tbody>\n",
              "    <tr>\n",
              "      <th>488</th>\n",
              "      <td>Female</td>\n",
              "      <td>0</td>\n",
              "      <td>Yes</td>\n",
              "      <td>Yes</td>\n",
              "      <td>0</td>\n",
              "      <td>No</td>\n",
              "      <td>No phone service</td>\n",
              "      <td>DSL</td>\n",
              "      <td>Yes</td>\n",
              "      <td>No</td>\n",
              "      <td>Yes</td>\n",
              "      <td>Yes</td>\n",
              "      <td>Yes</td>\n",
              "      <td>No</td>\n",
              "      <td>Two year</td>\n",
              "      <td>Yes</td>\n",
              "      <td>Bank transfer (automatic)</td>\n",
              "      <td>52.55</td>\n",
              "      <td></td>\n",
              "      <td>No</td>\n",
              "    </tr>\n",
              "    <tr>\n",
              "      <th>753</th>\n",
              "      <td>Male</td>\n",
              "      <td>0</td>\n",
              "      <td>No</td>\n",
              "      <td>Yes</td>\n",
              "      <td>0</td>\n",
              "      <td>Yes</td>\n",
              "      <td>No</td>\n",
              "      <td>No</td>\n",
              "      <td>No internet service</td>\n",
              "      <td>No internet service</td>\n",
              "      <td>No internet service</td>\n",
              "      <td>No internet service</td>\n",
              "      <td>No internet service</td>\n",
              "      <td>No internet service</td>\n",
              "      <td>Two year</td>\n",
              "      <td>No</td>\n",
              "      <td>Mailed check</td>\n",
              "      <td>20.25</td>\n",
              "      <td></td>\n",
              "      <td>No</td>\n",
              "    </tr>\n",
              "    <tr>\n",
              "      <th>936</th>\n",
              "      <td>Female</td>\n",
              "      <td>0</td>\n",
              "      <td>Yes</td>\n",
              "      <td>Yes</td>\n",
              "      <td>0</td>\n",
              "      <td>Yes</td>\n",
              "      <td>No</td>\n",
              "      <td>DSL</td>\n",
              "      <td>Yes</td>\n",
              "      <td>Yes</td>\n",
              "      <td>Yes</td>\n",
              "      <td>No</td>\n",
              "      <td>Yes</td>\n",
              "      <td>Yes</td>\n",
              "      <td>Two year</td>\n",
              "      <td>No</td>\n",
              "      <td>Mailed check</td>\n",
              "      <td>80.85</td>\n",
              "      <td></td>\n",
              "      <td>No</td>\n",
              "    </tr>\n",
              "    <tr>\n",
              "      <th>1082</th>\n",
              "      <td>Male</td>\n",
              "      <td>0</td>\n",
              "      <td>Yes</td>\n",
              "      <td>Yes</td>\n",
              "      <td>0</td>\n",
              "      <td>Yes</td>\n",
              "      <td>Yes</td>\n",
              "      <td>No</td>\n",
              "      <td>No internet service</td>\n",
              "      <td>No internet service</td>\n",
              "      <td>No internet service</td>\n",
              "      <td>No internet service</td>\n",
              "      <td>No internet service</td>\n",
              "      <td>No internet service</td>\n",
              "      <td>Two year</td>\n",
              "      <td>No</td>\n",
              "      <td>Mailed check</td>\n",
              "      <td>25.75</td>\n",
              "      <td></td>\n",
              "      <td>No</td>\n",
              "    </tr>\n",
              "    <tr>\n",
              "      <th>1340</th>\n",
              "      <td>Female</td>\n",
              "      <td>0</td>\n",
              "      <td>Yes</td>\n",
              "      <td>Yes</td>\n",
              "      <td>0</td>\n",
              "      <td>No</td>\n",
              "      <td>No phone service</td>\n",
              "      <td>DSL</td>\n",
              "      <td>Yes</td>\n",
              "      <td>Yes</td>\n",
              "      <td>Yes</td>\n",
              "      <td>Yes</td>\n",
              "      <td>Yes</td>\n",
              "      <td>No</td>\n",
              "      <td>Two year</td>\n",
              "      <td>No</td>\n",
              "      <td>Credit card (automatic)</td>\n",
              "      <td>56.05</td>\n",
              "      <td></td>\n",
              "      <td>No</td>\n",
              "    </tr>\n",
              "    <tr>\n",
              "      <th>3331</th>\n",
              "      <td>Male</td>\n",
              "      <td>0</td>\n",
              "      <td>Yes</td>\n",
              "      <td>Yes</td>\n",
              "      <td>0</td>\n",
              "      <td>Yes</td>\n",
              "      <td>No</td>\n",
              "      <td>No</td>\n",
              "      <td>No internet service</td>\n",
              "      <td>No internet service</td>\n",
              "      <td>No internet service</td>\n",
              "      <td>No internet service</td>\n",
              "      <td>No internet service</td>\n",
              "      <td>No internet service</td>\n",
              "      <td>Two year</td>\n",
              "      <td>No</td>\n",
              "      <td>Mailed check</td>\n",
              "      <td>19.85</td>\n",
              "      <td></td>\n",
              "      <td>No</td>\n",
              "    </tr>\n",
              "    <tr>\n",
              "      <th>3826</th>\n",
              "      <td>Male</td>\n",
              "      <td>0</td>\n",
              "      <td>Yes</td>\n",
              "      <td>Yes</td>\n",
              "      <td>0</td>\n",
              "      <td>Yes</td>\n",
              "      <td>Yes</td>\n",
              "      <td>No</td>\n",
              "      <td>No internet service</td>\n",
              "      <td>No internet service</td>\n",
              "      <td>No internet service</td>\n",
              "      <td>No internet service</td>\n",
              "      <td>No internet service</td>\n",
              "      <td>No internet service</td>\n",
              "      <td>Two year</td>\n",
              "      <td>No</td>\n",
              "      <td>Mailed check</td>\n",
              "      <td>25.35</td>\n",
              "      <td></td>\n",
              "      <td>No</td>\n",
              "    </tr>\n",
              "    <tr>\n",
              "      <th>4380</th>\n",
              "      <td>Female</td>\n",
              "      <td>0</td>\n",
              "      <td>Yes</td>\n",
              "      <td>Yes</td>\n",
              "      <td>0</td>\n",
              "      <td>Yes</td>\n",
              "      <td>No</td>\n",
              "      <td>No</td>\n",
              "      <td>No internet service</td>\n",
              "      <td>No internet service</td>\n",
              "      <td>No internet service</td>\n",
              "      <td>No internet service</td>\n",
              "      <td>No internet service</td>\n",
              "      <td>No internet service</td>\n",
              "      <td>Two year</td>\n",
              "      <td>No</td>\n",
              "      <td>Mailed check</td>\n",
              "      <td>20.00</td>\n",
              "      <td></td>\n",
              "      <td>No</td>\n",
              "    </tr>\n",
              "    <tr>\n",
              "      <th>5218</th>\n",
              "      <td>Male</td>\n",
              "      <td>0</td>\n",
              "      <td>Yes</td>\n",
              "      <td>Yes</td>\n",
              "      <td>0</td>\n",
              "      <td>Yes</td>\n",
              "      <td>No</td>\n",
              "      <td>No</td>\n",
              "      <td>No internet service</td>\n",
              "      <td>No internet service</td>\n",
              "      <td>No internet service</td>\n",
              "      <td>No internet service</td>\n",
              "      <td>No internet service</td>\n",
              "      <td>No internet service</td>\n",
              "      <td>One year</td>\n",
              "      <td>Yes</td>\n",
              "      <td>Mailed check</td>\n",
              "      <td>19.70</td>\n",
              "      <td></td>\n",
              "      <td>No</td>\n",
              "    </tr>\n",
              "    <tr>\n",
              "      <th>6670</th>\n",
              "      <td>Female</td>\n",
              "      <td>0</td>\n",
              "      <td>Yes</td>\n",
              "      <td>Yes</td>\n",
              "      <td>0</td>\n",
              "      <td>Yes</td>\n",
              "      <td>Yes</td>\n",
              "      <td>DSL</td>\n",
              "      <td>No</td>\n",
              "      <td>Yes</td>\n",
              "      <td>Yes</td>\n",
              "      <td>Yes</td>\n",
              "      <td>Yes</td>\n",
              "      <td>No</td>\n",
              "      <td>Two year</td>\n",
              "      <td>No</td>\n",
              "      <td>Mailed check</td>\n",
              "      <td>73.35</td>\n",
              "      <td></td>\n",
              "      <td>No</td>\n",
              "    </tr>\n",
              "    <tr>\n",
              "      <th>6754</th>\n",
              "      <td>Male</td>\n",
              "      <td>0</td>\n",
              "      <td>No</td>\n",
              "      <td>Yes</td>\n",
              "      <td>0</td>\n",
              "      <td>Yes</td>\n",
              "      <td>Yes</td>\n",
              "      <td>DSL</td>\n",
              "      <td>Yes</td>\n",
              "      <td>Yes</td>\n",
              "      <td>No</td>\n",
              "      <td>Yes</td>\n",
              "      <td>No</td>\n",
              "      <td>No</td>\n",
              "      <td>Two year</td>\n",
              "      <td>Yes</td>\n",
              "      <td>Bank transfer (automatic)</td>\n",
              "      <td>61.90</td>\n",
              "      <td></td>\n",
              "      <td>No</td>\n",
              "    </tr>\n",
              "  </tbody>\n",
              "</table>\n",
              "</div>\n",
              "      <button class=\"colab-df-convert\" onclick=\"convertToInteractive('df-5688e404-6847-4e5a-90a5-e85621858d5f')\"\n",
              "              title=\"Convert this dataframe to an interactive table.\"\n",
              "              style=\"display:none;\">\n",
              "        \n",
              "  <svg xmlns=\"http://www.w3.org/2000/svg\" height=\"24px\"viewBox=\"0 0 24 24\"\n",
              "       width=\"24px\">\n",
              "    <path d=\"M0 0h24v24H0V0z\" fill=\"none\"/>\n",
              "    <path d=\"M18.56 5.44l.94 2.06.94-2.06 2.06-.94-2.06-.94-.94-2.06-.94 2.06-2.06.94zm-11 1L8.5 8.5l.94-2.06 2.06-.94-2.06-.94L8.5 2.5l-.94 2.06-2.06.94zm10 10l.94 2.06.94-2.06 2.06-.94-2.06-.94-.94-2.06-.94 2.06-2.06.94z\"/><path d=\"M17.41 7.96l-1.37-1.37c-.4-.4-.92-.59-1.43-.59-.52 0-1.04.2-1.43.59L10.3 9.45l-7.72 7.72c-.78.78-.78 2.05 0 2.83L4 21.41c.39.39.9.59 1.41.59.51 0 1.02-.2 1.41-.59l7.78-7.78 2.81-2.81c.8-.78.8-2.07 0-2.86zM5.41 20L4 18.59l7.72-7.72 1.47 1.35L5.41 20z\"/>\n",
              "  </svg>\n",
              "      </button>\n",
              "      \n",
              "  <style>\n",
              "    .colab-df-container {\n",
              "      display:flex;\n",
              "      flex-wrap:wrap;\n",
              "      gap: 12px;\n",
              "    }\n",
              "\n",
              "    .colab-df-convert {\n",
              "      background-color: #E8F0FE;\n",
              "      border: none;\n",
              "      border-radius: 50%;\n",
              "      cursor: pointer;\n",
              "      display: none;\n",
              "      fill: #1967D2;\n",
              "      height: 32px;\n",
              "      padding: 0 0 0 0;\n",
              "      width: 32px;\n",
              "    }\n",
              "\n",
              "    .colab-df-convert:hover {\n",
              "      background-color: #E2EBFA;\n",
              "      box-shadow: 0px 1px 2px rgba(60, 64, 67, 0.3), 0px 1px 3px 1px rgba(60, 64, 67, 0.15);\n",
              "      fill: #174EA6;\n",
              "    }\n",
              "\n",
              "    [theme=dark] .colab-df-convert {\n",
              "      background-color: #3B4455;\n",
              "      fill: #D2E3FC;\n",
              "    }\n",
              "\n",
              "    [theme=dark] .colab-df-convert:hover {\n",
              "      background-color: #434B5C;\n",
              "      box-shadow: 0px 1px 3px 1px rgba(0, 0, 0, 0.15);\n",
              "      filter: drop-shadow(0px 1px 2px rgba(0, 0, 0, 0.3));\n",
              "      fill: #FFFFFF;\n",
              "    }\n",
              "  </style>\n",
              "\n",
              "      <script>\n",
              "        const buttonEl =\n",
              "          document.querySelector('#df-5688e404-6847-4e5a-90a5-e85621858d5f button.colab-df-convert');\n",
              "        buttonEl.style.display =\n",
              "          google.colab.kernel.accessAllowed ? 'block' : 'none';\n",
              "\n",
              "        async function convertToInteractive(key) {\n",
              "          const element = document.querySelector('#df-5688e404-6847-4e5a-90a5-e85621858d5f');\n",
              "          const dataTable =\n",
              "            await google.colab.kernel.invokeFunction('convertToInteractive',\n",
              "                                                     [key], {});\n",
              "          if (!dataTable) return;\n",
              "\n",
              "          const docLinkHtml = 'Like what you see? Visit the ' +\n",
              "            '<a target=\"_blank\" href=https://colab.research.google.com/notebooks/data_table.ipynb>data table notebook</a>'\n",
              "            + ' to learn more about interactive tables.';\n",
              "          element.innerHTML = '';\n",
              "          dataTable['output_type'] = 'display_data';\n",
              "          await google.colab.output.renderOutput(dataTable, element);\n",
              "          const docLink = document.createElement('div');\n",
              "          docLink.innerHTML = docLinkHtml;\n",
              "          element.appendChild(docLink);\n",
              "        }\n",
              "      </script>\n",
              "    </div>\n",
              "  </div>\n",
              "  "
            ]
          },
          "metadata": {},
          "execution_count": 9
        }
      ]
    },
    {
      "cell_type": "markdown",
      "metadata": {
        "id": "DqyAwBF1weIL"
      },
      "source": [
        "Only 11 rows have blanks for charges. Therefore drop them as we have in total; 7043 rows"
      ]
    },
    {
      "cell_type": "markdown",
      "metadata": {
        "id": "FMtF7YSRtU7k"
      },
      "source": [
        "**Remove rows with space in TotalCharges**"
      ]
    },
    {
      "cell_type": "code",
      "metadata": {
        "colab": {
          "base_uri": "https://localhost:8080/"
        },
        "id": "V0qTtWw6tU7k",
        "outputId": "124d5ffb-2b65-44c9-b45d-b3e9df73fbb2"
      },
      "source": [
        "df1 = df[df.TotalCharges!=' ']\n",
        "df1.shape"
      ],
      "execution_count": null,
      "outputs": [
        {
          "output_type": "execute_result",
          "data": {
            "text/plain": [
              "(7032, 20)"
            ]
          },
          "metadata": {},
          "execution_count": 10
        }
      ]
    },
    {
      "cell_type": "code",
      "metadata": {
        "id": "5stfp3litU7k"
      },
      "source": [
        "df1.TotalCharges = pd.to_numeric(df1.TotalCharges)"
      ],
      "execution_count": null,
      "outputs": []
    },
    {
      "cell_type": "code",
      "metadata": {
        "colab": {
          "base_uri": "https://localhost:8080/"
        },
        "id": "vD0JKBymxTvF",
        "outputId": "2c09a241-f039-4fe1-e79a-c59fd1ef7cbf"
      },
      "source": [
        "df1.TotalCharges.dtypes"
      ],
      "execution_count": null,
      "outputs": [
        {
          "output_type": "execute_result",
          "data": {
            "text/plain": [
              "dtype('float64')"
            ]
          },
          "metadata": {},
          "execution_count": 12
        }
      ]
    },
    {
      "cell_type": "code",
      "metadata": {
        "colab": {
          "base_uri": "https://localhost:8080/"
        },
        "id": "z6kuoDVdtU7l",
        "outputId": "458ea55b-4d69-475e-db76-516077f93a45"
      },
      "source": [
        "df1.TotalCharges.values"
      ],
      "execution_count": null,
      "outputs": [
        {
          "output_type": "execute_result",
          "data": {
            "text/plain": [
              "array([  29.85, 1889.5 ,  108.15, ...,  346.45,  306.6 , 6844.5 ])"
            ]
          },
          "metadata": {},
          "execution_count": 13
        }
      ]
    },
    {
      "cell_type": "code",
      "metadata": {
        "scrolled": true,
        "id": "McDfb3bztU7l"
      },
      "source": [
        "#df1[df1.Churn=='No']"
      ],
      "execution_count": null,
      "outputs": []
    },
    {
      "cell_type": "markdown",
      "metadata": {
        "id": "FebpqMoytU7l"
      },
      "source": [
        "**Data Visualization**"
      ]
    },
    {
      "cell_type": "code",
      "metadata": {
        "colab": {
          "base_uri": "https://localhost:8080/",
          "height": 472
        },
        "id": "YSGvaltItU7l",
        "outputId": "88c14e11-8fed-4b62-86ff-335e11667c09"
      },
      "source": [
        "tenure_churn_no = df1[df1.Churn=='No'].tenure\n",
        "tenure_churn_yes = df1[df1.Churn=='Yes'].tenure\n",
        "\n",
        "plt.xlabel(\"tenure\")\n",
        "plt.ylabel(\"Number Of Customers\")\n",
        "plt.title(\"Customer Churn Prediction Visualiztion\")\n",
        "\n",
        "plt.hist([tenure_churn_yes, tenure_churn_no], rwidth=0.95, color=['red','green'],label=['Churn=Yes','Churn=No'])\n",
        "plt.legend()\n",
        "plt.show()"
      ],
      "execution_count": null,
      "outputs": [
        {
          "output_type": "display_data",
          "data": {
            "text/plain": [
              "<Figure size 640x480 with 1 Axes>"
            ],
            "image/png": "[encoded data removed]"
          },
          "metadata": {}
        }
      ]
    },
    {
      "cell_type": "code",
      "metadata": {
        "colab": {
          "base_uri": "https://localhost:8080/",
          "height": 472
        },
        "id": "xeTCFt_vtU7m",
        "outputId": "5eecbebd-ce29-40b0-9ecc-6d4cdfd48f66"
      },
      "source": [
        "mc_churn_no = df1[df1.Churn=='No'].MonthlyCharges\n",
        "mc_churn_yes = df1[df1.Churn=='Yes'].MonthlyCharges\n",
        "\n",
        "plt.xlabel(\"Monthly Charges\")\n",
        "plt.ylabel(\"Number Of Customers\")\n",
        "plt.title(\"Customer Churn Prediction Visualiztion\")\n",
        "\n",
        "plt.hist([mc_churn_yes, mc_churn_no], rwidth=0.95, color=['red','green'],label=['Churn=Yes','Churn=No'])\n",
        "plt.legend()\n",
        "plt.show()"
      ],
      "execution_count": null,
      "outputs": [
        {
          "output_type": "display_data",
          "data": {
            "text/plain": [
              "<Figure size 640x480 with 1 Axes>"
            ],
            "image/png": "[encoded data removed]"
          },
          "metadata": {}
        }
      ]
    },
    {
      "cell_type": "markdown",
      "metadata": {
        "id": "W4uJpxNNtU7m"
      },
      "source": [
        "**Many of the columns are yes, no etc. Let's print unique values in object columns to see data values**"
      ]
    },
    {
      "cell_type": "code",
      "metadata": {
        "colab": {
          "base_uri": "https://localhost:8080/"
        },
        "id": "9R_uDI1Ny5AC",
        "outputId": "44ae8086-d5c0-46e6-c46d-ce4cb4802a4c"
      },
      "source": [
        "for column in df:\n",
        "    print(column)"
      ],
      "execution_count": null,
      "outputs": [
        {
          "output_type": "stream",
          "name": "stdout",
          "text": [
            "gender\n",
            "SeniorCitizen\n",
            "Partner\n",
            "Dependents\n",
            "tenure\n",
            "PhoneService\n",
            "MultipleLines\n",
            "InternetService\n",
            "OnlineSecurity\n",
            "OnlineBackup\n",
            "DeviceProtection\n",
            "TechSupport\n",
            "StreamingTV\n",
            "StreamingMovies\n",
            "Contract\n",
            "PaperlessBilling\n",
            "PaymentMethod\n",
            "MonthlyCharges\n",
            "TotalCharges\n",
            "Churn\n"
          ]
        }
      ]
    },
    {
      "cell_type": "code",
      "metadata": {
        "id": "HIXBBkyotU7m"
      },
      "source": [
        "def print_unique_col_values(df):\n",
        "       for column in df:\n",
        "            if df[column].dtypes=='object':\n",
        "                print(f'{column}: {df[column].unique()}')"
      ],
      "execution_count": null,
      "outputs": []
    },
    {
      "cell_type": "code",
      "metadata": {
        "scrolled": true,
        "colab": {
          "base_uri": "https://localhost:8080/"
        },
        "id": "gyTLV1iBtU7m",
        "outputId": "525148fb-ea75-49aa-a47a-176fb52d3e4c"
      },
      "source": [
        "print_unique_col_values(df1)"
      ],
      "execution_count": null,
      "outputs": [
        {
          "output_type": "stream",
          "name": "stdout",
          "text": [
            "gender: ['Female' 'Male']\n",
            "Partner: ['Yes' 'No']\n",
            "Dependents: ['No' 'Yes']\n",
            "PhoneService: ['No' 'Yes']\n",
            "MultipleLines: ['No phone service' 'No' 'Yes']\n",
            "InternetService: ['DSL' 'Fiber optic' 'No']\n",
            "OnlineSecurity: ['No' 'Yes' 'No internet service']\n",
            "OnlineBackup: ['Yes' 'No' 'No internet service']\n",
            "DeviceProtection: ['No' 'Yes' 'No internet service']\n",
            "TechSupport: ['No' 'Yes' 'No internet service']\n",
            "StreamingTV: ['No' 'Yes' 'No internet service']\n",
            "StreamingMovies: ['No' 'Yes' 'No internet service']\n",
            "Contract: ['Month-to-month' 'One year' 'Two year']\n",
            "PaperlessBilling: ['Yes' 'No']\n",
            "PaymentMethod: ['Electronic check' 'Mailed check' 'Bank transfer (automatic)'\n",
            " 'Credit card (automatic)']\n",
            "Churn: ['No' 'Yes']\n"
          ]
        }
      ]
    },
    {
      "cell_type": "markdown",
      "metadata": {
        "id": "kBGMkWvutU7n"
      },
      "source": [
        "**Some of the columns have no internet service or no phone service, that can be replaced with a simple No**"
      ]
    },
    {
      "cell_type": "code",
      "metadata": {
        "scrolled": false,
        "id": "tSkmVvArtU7n"
      },
      "source": [
        "df1.replace('No internet service','No',inplace=True)\n",
        "df1.replace('No phone service','No',inplace=True)"
      ],
      "execution_count": null,
      "outputs": []
    },
    {
      "cell_type": "code",
      "metadata": {
        "scrolled": false,
        "colab": {
          "base_uri": "https://localhost:8080/"
        },
        "id": "kzWO5cs3tU7n",
        "outputId": "7d26aed6-63cf-40f2-ab10-9e2dc1041b77"
      },
      "source": [
        "print_unique_col_values(df1)"
      ],
      "execution_count": null,
      "outputs": [
        {
          "output_type": "stream",
          "name": "stdout",
          "text": [
            "gender: ['Female' 'Male']\n",
            "Partner: ['Yes' 'No']\n",
            "Dependents: ['No' 'Yes']\n",
            "PhoneService: ['No' 'Yes']\n",
            "MultipleLines: ['No' 'Yes']\n",
            "InternetService: ['DSL' 'Fiber optic' 'No']\n",
            "OnlineSecurity: ['No' 'Yes']\n",
            "OnlineBackup: ['Yes' 'No']\n",
            "DeviceProtection: ['No' 'Yes']\n",
            "TechSupport: ['No' 'Yes']\n",
            "StreamingTV: ['No' 'Yes']\n",
            "StreamingMovies: ['No' 'Yes']\n",
            "Contract: ['Month-to-month' 'One year' 'Two year']\n",
            "PaperlessBilling: ['Yes' 'No']\n",
            "PaymentMethod: ['Electronic check' 'Mailed check' 'Bank transfer (automatic)'\n",
            " 'Credit card (automatic)']\n",
            "Churn: ['No' 'Yes']\n"
          ]
        }
      ]
    },
    {
      "cell_type": "markdown",
      "metadata": {
        "id": "g6AQ1fVdtU7n"
      },
      "source": [
        "**Convert Yes and No to 1 or 0**"
      ]
    },
    {
      "cell_type": "code",
      "metadata": {
        "id": "tQL9kOQPtU7n"
      },
      "source": [
        "yes_no_columns = ['Partner','Dependents','PhoneService','MultipleLines','OnlineSecurity','OnlineBackup',\n",
        "                  'DeviceProtection','TechSupport','StreamingTV','StreamingMovies','PaperlessBilling','Churn']\n",
        "for col in yes_no_columns:\n",
        "    df1[col].replace({'Yes': 1,'No': 0},inplace=True)"
      ],
      "execution_count": null,
      "outputs": []
    },
    {
      "cell_type": "code",
      "metadata": {
        "colab": {
          "base_uri": "https://localhost:8080/"
        },
        "id": "VKkbJ4_PtU7n",
        "outputId": "5c46a46d-5670-4e20-f3a0-8296ca51f055"
      },
      "source": [
        "for col in df1:\n",
        "    print(f'{col}: {df1[col].unique()}')"
      ],
      "execution_count": null,
      "outputs": [
        {
          "output_type": "stream",
          "name": "stdout",
          "text": [
            "gender: ['Female' 'Male']\n",
            "SeniorCitizen: [0 1]\n",
            "Partner: [1 0]\n",
            "Dependents: [0 1]\n",
            "tenure: [ 1 34  2 45  8 22 10 28 62 13 16 58 49 25 69 52 71 21 12 30 47 72 17 27\n",
            "  5 46 11 70 63 43 15 60 18 66  9  3 31 50 64 56  7 42 35 48 29 65 38 68\n",
            " 32 55 37 36 41  6  4 33 67 23 57 61 14 20 53 40 59 24 44 19 54 51 26 39]\n",
            "PhoneService: [0 1]\n",
            "MultipleLines: [0 1]\n",
            "InternetService: ['DSL' 'Fiber optic' 'No']\n",
            "OnlineSecurity: [0 1]\n",
            "OnlineBackup: [1 0]\n",
            "DeviceProtection: [0 1]\n",
            "TechSupport: [0 1]\n",
            "StreamingTV: [0 1]\n",
            "StreamingMovies: [0 1]\n",
            "Contract: ['Month-to-month' 'One year' 'Two year']\n",
            "PaperlessBilling: [1 0]\n",
            "PaymentMethod: ['Electronic check' 'Mailed check' 'Bank transfer (automatic)'\n",
            " 'Credit card (automatic)']\n",
            "MonthlyCharges: [29.85 56.95 53.85 ... 63.1  44.2  78.7 ]\n",
            "TotalCharges: [  29.85 1889.5   108.15 ...  346.45  306.6  6844.5 ]\n",
            "Churn: [0 1]\n"
          ]
        }
      ]
    },
    {
      "cell_type": "code",
      "metadata": {
        "id": "OZQcF8Q5tU7o"
      },
      "source": [
        "df1['gender'].replace({'Female':1,'Male':0},inplace=True)"
      ],
      "execution_count": null,
      "outputs": []
    },
    {
      "cell_type": "code",
      "metadata": {
        "colab": {
          "base_uri": "https://localhost:8080/"
        },
        "id": "NGNMUsZctU7o",
        "outputId": "b53c0f6c-69f9-4074-f01a-9996dc1c4a82"
      },
      "source": [
        "#df1.gender.unique()"
      ],
      "execution_count": null,
      "outputs": [
        {
          "output_type": "execute_result",
          "data": {
            "text/plain": [
              "array([1, 0])"
            ]
          },
          "metadata": {},
          "execution_count": 27
        }
      ]
    },
    {
      "cell_type": "markdown",
      "metadata": {
        "id": "QNcl6ah0tU7o"
      },
      "source": [
        "**One hot encoding for categorical columns**"
      ]
    },
    {
      "cell_type": "code",
      "metadata": {
        "id": "37o3VP97tU7o"
      },
      "source": [
        "df2 = pd.get_dummies(data=df1, columns=['InternetService','Contract','PaymentMethod'])\n",
        "#df2.columns"
      ],
      "execution_count": null,
      "outputs": []
    },
    {
      "cell_type": "code",
      "metadata": {
        "colab": {
          "base_uri": "https://localhost:8080/",
          "height": 334
        },
        "id": "h5U0W9LitU7o",
        "outputId": "697eaa72-ed01-4871-af16-00243dab5326"
      },
      "source": [
        "df2.sample(5)"
      ],
      "execution_count": null,
      "outputs": [
        {
          "output_type": "execute_result",
          "data": {
            "text/plain": [
              "      gender  SeniorCitizen  Partner  Dependents  tenure  PhoneService  \\\n",
              "3978       0              0        0           0       3             1   \n",
              "4183       0              0        0           1       1             0   \n",
              "1052       1              0        0           0      40             1   \n",
              "3465       0              0        0           0       4             1   \n",
              "2923       0              0        0           0      54             1   \n",
              "\n",
              "      MultipleLines  OnlineSecurity  OnlineBackup  DeviceProtection  ...  \\\n",
              "3978              0               0             0                 0  ...   \n",
              "4183              0               0             1                 0  ...   \n",
              "1052              1               0             0                 1  ...   \n",
              "3465              0               0             0                 0  ...   \n",
              "2923              0               1             0                 1  ...   \n",
              "\n",
              "      InternetService_DSL  InternetService_Fiber optic  InternetService_No  \\\n",
              "3978                    0                            1                   0   \n",
              "4183                    1                            0                   0   \n",
              "1052                    1                            0                   0   \n",
              "3465                    1                            0                   0   \n",
              "2923                    0                            1                   0   \n",
              "\n",
              "      Contract_Month-to-month  Contract_One year  Contract_Two year  \\\n",
              "3978                        1                  0                  0   \n",
              "4183                        1                  0                  0   \n",
              "1052                        0                  1                  0   \n",
              "3465                        1                  0                  0   \n",
              "2923                        1                  0                  0   \n",
              "\n",
              "      PaymentMethod_Bank transfer (automatic)  \\\n",
              "3978                                        0   \n",
              "4183                                        0   \n",
              "1052                                        0   \n",
              "3465                                        0   \n",
              "2923                                        0   \n",
              "\n",
              "      PaymentMethod_Credit card (automatic)  PaymentMethod_Electronic check  \\\n",
              "3978                                      0                               0   \n",
              "4183                                      0                               0   \n",
              "1052                                      0                               0   \n",
              "3465                                      0                               1   \n",
              "2923                                      0                               0   \n",
              "\n",
              "      PaymentMethod_Mailed check  \n",
              "3978                           1  \n",
              "4183                           1  \n",
              "1052                           1  \n",
              "3465                           0  \n",
              "2923                           1  \n",
              "\n",
              "[5 rows x 27 columns]"
            ],
            "text/html": [
              "\n",
              "  <div id=\"df-a48a92d7-7275-473b-80d4-c177886f7b64\">\n",
              "    <div class=\"colab-df-container\">\n",
              "      <div>\n",
              "<style scoped>\n",
              "    .dataframe tbody tr th:only-of-type {\n",
              "        vertical-align: middle;\n",
              "    }\n",
              "\n",
              "    .dataframe tbody tr th {\n",
              "        vertical-align: top;\n",
              "    }\n",
              "\n",
              "    .dataframe thead th {\n",
              "        text-align: right;\n",
              "    }\n",
              "</style>\n",
              "<table border=\"1\" class=\"dataframe\">\n",
              "  <thead>\n",
              "    <tr style=\"text-align: right;\">\n",
              "      <th></th>\n",
              "      <th>gender</th>\n",
              "      <th>SeniorCitizen</th>\n",
              "      <th>Partner</th>\n",
              "      <th>Dependents</th>\n",
              "      <th>tenure</th>\n",
              "      <th>PhoneService</th>\n",
              "      <th>MultipleLines</th>\n",
              "      <th>OnlineSecurity</th>\n",
              "      <th>OnlineBackup</th>\n",
              "      <th>DeviceProtection</th>\n",
              "      <th>...</th>\n",
              "      <th>InternetService_DSL</th>\n",
              "      <th>InternetService_Fiber optic</th>\n",
              "      <th>InternetService_No</th>\n",
              "      <th>Contract_Month-to-month</th>\n",
              "      <th>Contract_One year</th>\n",
              "      <th>Contract_Two year</th>\n",
              "      <th>PaymentMethod_Bank transfer (automatic)</th>\n",
              "      <th>PaymentMethod_Credit card (automatic)</th>\n",
              "      <th>PaymentMethod_Electronic check</th>\n",
              "      <th>PaymentMethod_Mailed check</th>\n",
              "    </tr>\n",
              "  </thead>\n",
              "  <tbody>\n",
              "    <tr>\n",
              "      <th>3978</th>\n",
              "      <td>0</td>\n",
              "      <td>0</td>\n",
              "      <td>0</td>\n",
              "      <td>0</td>\n",
              "      <td>3</td>\n",
              "      <td>1</td>\n",
              "      <td>0</td>\n",
              "      <td>0</td>\n",
              "      <td>0</td>\n",
              "      <td>0</td>\n",
              "      <td>...</td>\n",
              "      <td>0</td>\n",
              "      <td>1</td>\n",
              "      <td>0</td>\n",
              "      <td>1</td>\n",
              "      <td>0</td>\n",
              "      <td>0</td>\n",
              "      <td>0</td>\n",
              "      <td>0</td>\n",
              "      <td>0</td>\n",
              "      <td>1</td>\n",
              "    </tr>\n",
              "    <tr>\n",
              "      <th>4183</th>\n",
              "      <td>0</td>\n",
              "      <td>0</td>\n",
              "      <td>0</td>\n",
              "      <td>1</td>\n",
              "      <td>1</td>\n",
              "      <td>0</td>\n",
              "      <td>0</td>\n",
              "      <td>0</td>\n",
              "      <td>1</td>\n",
              "      <td>0</td>\n",
              "      <td>...</td>\n",
              "      <td>1</td>\n",
              "      <td>0</td>\n",
              "      <td>0</td>\n",
              "      <td>1</td>\n",
              "      <td>0</td>\n",
              "      <td>0</td>\n",
              "      <td>0</td>\n",
              "      <td>0</td>\n",
              "      <td>0</td>\n",
              "      <td>1</td>\n",
              "    </tr>\n",
              "    <tr>\n",
              "      <th>1052</th>\n",
              "      <td>1</td>\n",
              "      <td>0</td>\n",
              "      <td>0</td>\n",
              "      <td>0</td>\n",
              "      <td>40</td>\n",
              "      <td>1</td>\n",
              "      <td>1</td>\n",
              "      <td>0</td>\n",
              "      <td>0</td>\n",
              "      <td>1</td>\n",
              "      <td>...</td>\n",
              "      <td>1</td>\n",
              "      <td>0</td>\n",
              "      <td>0</td>\n",
              "      <td>0</td>\n",
              "      <td>1</td>\n",
              "      <td>0</td>\n",
              "      <td>0</td>\n",
              "      <td>0</td>\n",
              "      <td>0</td>\n",
              "      <td>1</td>\n",
              "    </tr>\n",
              "    <tr>\n",
              "      <th>3465</th>\n",
              "      <td>0</td>\n",
              "      <td>0</td>\n",
              "      <td>0</td>\n",
              "      <td>0</td>\n",
              "      <td>4</td>\n",
              "      <td>1</td>\n",
              "      <td>0</td>\n",
              "      <td>0</td>\n",
              "      <td>0</td>\n",
              "      <td>0</td>\n",
              "      <td>...</td>\n",
              "      <td>1</td>\n",
              "      <td>0</td>\n",
              "      <td>0</td>\n",
              "      <td>1</td>\n",
              "      <td>0</td>\n",
              "      <td>0</td>\n",
              "      <td>0</td>\n",
              "      <td>0</td>\n",
              "      <td>1</td>\n",
              "      <td>0</td>\n",
              "    </tr>\n",
              "    <tr>\n",
              "      <th>2923</th>\n",
              "      <td>0</td>\n",
              "      <td>0</td>\n",
              "      <td>0</td>\n",
              "      <td>0</td>\n",
              "      <td>54</td>\n",
              "      <td>1</td>\n",
              "      <td>0</td>\n",
              "      <td>1</td>\n",
              "      <td>0</td>\n",
              "      <td>1</td>\n",
              "      <td>...</td>\n",
              "      <td>0</td>\n",
              "      <td>1</td>\n",
              "      <td>0</td>\n",
              "      <td>1</td>\n",
              "      <td>0</td>\n",
              "      <td>0</td>\n",
              "      <td>0</td>\n",
              "      <td>0</td>\n",
              "      <td>0</td>\n",
              "      <td>1</td>\n",
              "    </tr>\n",
              "  </tbody>\n",
              "</table>\n",
              "<p>5 rows × 27 columns</p>\n",
              "</div>\n",
              "      <button class=\"colab-df-convert\" onclick=\"convertToInteractive('df-a48a92d7-7275-473b-80d4-c177886f7b64')\"\n",
              "              title=\"Convert this dataframe to an interactive table.\"\n",
              "              style=\"display:none;\">\n",
              "        \n",
              "  <svg xmlns=\"http://www.w3.org/2000/svg\" height=\"24px\"viewBox=\"0 0 24 24\"\n",
              "       width=\"24px\">\n",
              "    <path d=\"M0 0h24v24H0V0z\" fill=\"none\"/>\n",
              "    <path d=\"M18.56 5.44l.94 2.06.94-2.06 2.06-.94-2.06-.94-.94-2.06-.94 2.06-2.06.94zm-11 1L8.5 8.5l.94-2.06 2.06-.94-2.06-.94L8.5 2.5l-.94 2.06-2.06.94zm10 10l.94 2.06.94-2.06 2.06-.94-2.06-.94-.94-2.06-.94 2.06-2.06.94z\"/><path d=\"M17.41 7.96l-1.37-1.37c-.4-.4-.92-.59-1.43-.59-.52 0-1.04.2-1.43.59L10.3 9.45l-7.72 7.72c-.78.78-.78 2.05 0 2.83L4 21.41c.39.39.9.59 1.41.59.51 0 1.02-.2 1.41-.59l7.78-7.78 2.81-2.81c.8-.78.8-2.07 0-2.86zM5.41 20L4 18.59l7.72-7.72 1.47 1.35L5.41 20z\"/>\n",
              "  </svg>\n",
              "      </button>\n",
              "      \n",
              "  <style>\n",
              "    .colab-df-container {\n",
              "      display:flex;\n",
              "      flex-wrap:wrap;\n",
              "      gap: 12px;\n",
              "    }\n",
              "\n",
              "    .colab-df-convert {\n",
              "      background-color: #E8F0FE;\n",
              "      border: none;\n",
              "      border-radius: 50%;\n",
              "      cursor: pointer;\n",
              "      display: none;\n",
              "      fill: #1967D2;\n",
              "      height: 32px;\n",
              "      padding: 0 0 0 0;\n",
              "      width: 32px;\n",
              "    }\n",
              "\n",
              "    .colab-df-convert:hover {\n",
              "      background-color: #E2EBFA;\n",
              "      box-shadow: 0px 1px 2px rgba(60, 64, 67, 0.3), 0px 1px 3px 1px rgba(60, 64, 67, 0.15);\n",
              "      fill: #174EA6;\n",
              "    }\n",
              "\n",
              "    [theme=dark] .colab-df-convert {\n",
              "      background-color: #3B4455;\n",
              "      fill: #D2E3FC;\n",
              "    }\n",
              "\n",
              "    [theme=dark] .colab-df-convert:hover {\n",
              "      background-color: #434B5C;\n",
              "      box-shadow: 0px 1px 3px 1px rgba(0, 0, 0, 0.15);\n",
              "      filter: drop-shadow(0px 1px 2px rgba(0, 0, 0, 0.3));\n",
              "      fill: #FFFFFF;\n",
              "    }\n",
              "  </style>\n",
              "\n",
              "      <script>\n",
              "        const buttonEl =\n",
              "          document.querySelector('#df-a48a92d7-7275-473b-80d4-c177886f7b64 button.colab-df-convert');\n",
              "        buttonEl.style.display =\n",
              "          google.colab.kernel.accessAllowed ? 'block' : 'none';\n",
              "\n",
              "        async function convertToInteractive(key) {\n",
              "          const element = document.querySelector('#df-a48a92d7-7275-473b-80d4-c177886f7b64');\n",
              "          const dataTable =\n",
              "            await google.colab.kernel.invokeFunction('convertToInteractive',\n",
              "                                                     [key], {});\n",
              "          if (!dataTable) return;\n",
              "\n",
              "          const docLinkHtml = 'Like what you see? Visit the ' +\n",
              "            '<a target=\"_blank\" href=https://colab.research.google.com/notebooks/data_table.ipynb>data table notebook</a>'\n",
              "            + ' to learn more about interactive tables.';\n",
              "          element.innerHTML = '';\n",
              "          dataTable['output_type'] = 'display_data';\n",
              "          await google.colab.output.renderOutput(dataTable, element);\n",
              "          const docLink = document.createElement('div');\n",
              "          docLink.innerHTML = docLinkHtml;\n",
              "          element.appendChild(docLink);\n",
              "        }\n",
              "      </script>\n",
              "    </div>\n",
              "  </div>\n",
              "  "
            ]
          },
          "metadata": {},
          "execution_count": 26
        }
      ]
    },
    {
      "cell_type": "code",
      "metadata": {
        "scrolled": true,
        "colab": {
          "base_uri": "https://localhost:8080/"
        },
        "id": "HMzSYZBvtU7p",
        "outputId": "c41d416a-621f-4aa2-80db-198da2e5e77a"
      },
      "source": [
        "df2.dtypes"
      ],
      "execution_count": null,
      "outputs": [
        {
          "output_type": "execute_result",
          "data": {
            "text/plain": [
              "gender                                       int64\n",
              "SeniorCitizen                                int64\n",
              "Partner                                      int64\n",
              "Dependents                                   int64\n",
              "tenure                                       int64\n",
              "PhoneService                                 int64\n",
              "MultipleLines                                int64\n",
              "OnlineSecurity                               int64\n",
              "OnlineBackup                                 int64\n",
              "DeviceProtection                             int64\n",
              "TechSupport                                  int64\n",
              "StreamingTV                                  int64\n",
              "StreamingMovies                              int64\n",
              "PaperlessBilling                             int64\n",
              "MonthlyCharges                             float64\n",
              "TotalCharges                               float64\n",
              "Churn                                        int64\n",
              "InternetService_DSL                          uint8\n",
              "InternetService_Fiber optic                  uint8\n",
              "InternetService_No                           uint8\n",
              "Contract_Month-to-month                      uint8\n",
              "Contract_One year                            uint8\n",
              "Contract_Two year                            uint8\n",
              "PaymentMethod_Bank transfer (automatic)      uint8\n",
              "PaymentMethod_Credit card (automatic)        uint8\n",
              "PaymentMethod_Electronic check               uint8\n",
              "PaymentMethod_Mailed check                   uint8\n",
              "dtype: object"
            ]
          },
          "metadata": {},
          "execution_count": 27
        }
      ]
    },
    {
      "cell_type": "code",
      "metadata": {
        "id": "bge-5vLI1Jt_"
      },
      "source": [
        "#df2.sample(4)"
      ],
      "execution_count": null,
      "outputs": []
    },
    {
      "cell_type": "code",
      "metadata": {
        "id": "8Pe496RQtU7p"
      },
      "source": [
        "#for col in df2:\n",
        "#    print(f'{col}: {df2[col].unique()}')"
      ],
      "execution_count": null,
      "outputs": []
    },
    {
      "cell_type": "markdown",
      "metadata": {
        "id": "jp3dKc54tU7p"
      },
      "source": [
        "**Train test split**"
      ]
    },
    {
      "cell_type": "code",
      "metadata": {
        "id": "28fNKxtPtU7p"
      },
      "source": [
        "X = df2.drop('Churn',axis='columns')\n",
        "y = df2['Churn']\n",
        "\n",
        "from sklearn.model_selection import train_test_split\n",
        "X_train, X_test, y_train, y_test = train_test_split(X,y,test_size=0.2,random_state=5)"
      ],
      "execution_count": null,
      "outputs": []
    },
    {
      "cell_type": "code",
      "metadata": {
        "colab": {
          "base_uri": "https://localhost:8080/"
        },
        "id": "ou7thIFmtU7p",
        "outputId": "660797da-3d1f-43ab-90fd-ac5d52e4d718"
      },
      "source": [
        "X_train.shape"
      ],
      "execution_count": null,
      "outputs": [
        {
          "output_type": "execute_result",
          "data": {
            "text/plain": [
              "(5625, 26)"
            ]
          },
          "metadata": {},
          "execution_count": 31
        }
      ]
    },
    {
      "cell_type": "code",
      "metadata": {
        "scrolled": true,
        "colab": {
          "base_uri": "https://localhost:8080/"
        },
        "id": "5ZNaDE9JtU7p",
        "outputId": "54f67d35-62c3-4ac4-eaf0-25d2dd3ff881"
      },
      "source": [
        "X_test.shape"
      ],
      "execution_count": null,
      "outputs": [
        {
          "output_type": "execute_result",
          "data": {
            "text/plain": [
              "(1407, 26)"
            ]
          },
          "metadata": {},
          "execution_count": 32
        }
      ]
    },
    {
      "cell_type": "markdown",
      "metadata": {
        "id": "9NauW4e5072g"
      },
      "source": [
        "We now need to scale our data"
      ]
    },
    {
      "cell_type": "code",
      "metadata": {
        "id": "qN7y2zqKtU7p"
      },
      "source": [
        "cols_to_scale = ['tenure','MonthlyCharges','TotalCharges']\n",
        "\n",
        "from sklearn.preprocessing import MinMaxScaler\n",
        "scaler = MinMaxScaler()\n",
        "X_train[cols_to_scale] = scaler.fit_transform(X_train[cols_to_scale])\n",
        "X_test[cols_to_scale] = scaler.fit_transform(X_test[cols_to_scale])"
      ],
      "execution_count": null,
      "outputs": []
    },
    {
      "cell_type": "code",
      "metadata": {
        "id": "8qgO5AAatU7p",
        "outputId": "09dbb05b-07fe-45b1-d799-072e3c5b2b96",
        "colab": {
          "base_uri": "https://localhost:8080/",
          "height": 491
        }
      },
      "source": [
        "X_train[:10]"
      ],
      "execution_count": null,
      "outputs": [
        {
          "output_type": "execute_result",
          "data": {
            "text/plain": [
              "      gender  SeniorCitizen  Partner  Dependents    tenure  PhoneService  \\\n",
              "5664       1              1        0           0  0.126761             1   \n",
              "101        1              0        1           1  0.000000             1   \n",
              "2621       0              0        1           0  0.985915             1   \n",
              "392        1              1        0           0  0.014085             1   \n",
              "1327       0              0        1           0  0.816901             1   \n",
              "3607       1              0        0           0  0.169014             1   \n",
              "2773       0              0        1           0  0.323944             0   \n",
              "1936       1              0        1           0  0.704225             1   \n",
              "5387       0              0        0           0  0.042254             0   \n",
              "4331       0              0        0           0  0.985915             1   \n",
              "\n",
              "      MultipleLines  OnlineSecurity  OnlineBackup  DeviceProtection  ...  \\\n",
              "5664              0               0             0                 1  ...   \n",
              "101               0               0             0                 0  ...   \n",
              "2621              0               0             1                 1  ...   \n",
              "392               0               0             0                 0  ...   \n",
              "1327              1               0             0                 1  ...   \n",
              "3607              0               1             0                 0  ...   \n",
              "2773              0               0             0                 1  ...   \n",
              "1936              0               1             1                 0  ...   \n",
              "5387              0               0             0                 0  ...   \n",
              "4331              1               0             0                 0  ...   \n",
              "\n",
              "      InternetService_DSL  InternetService_Fiber optic  InternetService_No  \\\n",
              "5664                    0                            1                   0   \n",
              "101                     0                            0                   1   \n",
              "2621                    1                            0                   0   \n",
              "392                     1                            0                   0   \n",
              "1327                    0                            1                   0   \n",
              "3607                    1                            0                   0   \n",
              "2773                    1                            0                   0   \n",
              "1936                    1                            0                   0   \n",
              "5387                    1                            0                   0   \n",
              "4331                    0                            0                   1   \n",
              "\n",
              "      Contract_Month-to-month  Contract_One year  Contract_Two year  \\\n",
              "5664                        1                  0                  0   \n",
              "101                         1                  0                  0   \n",
              "2621                        0                  0                  1   \n",
              "392                         1                  0                  0   \n",
              "1327                        0                  1                  0   \n",
              "3607                        0                  1                  0   \n",
              "2773                        1                  0                  0   \n",
              "1936                        0                  1                  0   \n",
              "5387                        1                  0                  0   \n",
              "4331                        0                  0                  1   \n",
              "\n",
              "      PaymentMethod_Bank transfer (automatic)  \\\n",
              "5664                                        0   \n",
              "101                                         0   \n",
              "2621                                        0   \n",
              "392                                         0   \n",
              "1327                                        1   \n",
              "3607                                        0   \n",
              "2773                                        0   \n",
              "1936                                        1   \n",
              "5387                                        0   \n",
              "4331                                        1   \n",
              "\n",
              "      PaymentMethod_Credit card (automatic)  PaymentMethod_Electronic check  \\\n",
              "5664                                      1                               0   \n",
              "101                                       0                               1   \n",
              "2621                                      1                               0   \n",
              "392                                       0                               1   \n",
              "1327                                      0                               0   \n",
              "3607                                      0                               0   \n",
              "2773                                      0                               1   \n",
              "1936                                      0                               0   \n",
              "5387                                      0                               1   \n",
              "4331                                      0                               0   \n",
              "\n",
              "      PaymentMethod_Mailed check  \n",
              "5664                           0  \n",
              "101                            0  \n",
              "2621                           0  \n",
              "392                            0  \n",
              "1327                           0  \n",
              "3607                           1  \n",
              "2773                           0  \n",
              "1936                           0  \n",
              "5387                           0  \n",
              "4331                           0  \n",
              "\n",
              "[10 rows x 26 columns]"
            ],
            "text/html": [
              "\n",
              "  <div id=\"df-54d43771-c381-4452-b195-fa4b8a40e87f\">\n",
              "    <div class=\"colab-df-container\">\n",
              "      <div>\n",
              "<style scoped>\n",
              "    .dataframe tbody tr th:only-of-type {\n",
              "        vertical-align: middle;\n",
              "    }\n",
              "\n",
              "    .dataframe tbody tr th {\n",
              "        vertical-align: top;\n",
              "    }\n",
              "\n",
              "    .dataframe thead th {\n",
              "        text-align: right;\n",
              "    }\n",
              "</style>\n",
              "<table border=\"1\" class=\"dataframe\">\n",
              "  <thead>\n",
              "    <tr style=\"text-align: right;\">\n",
              "      <th></th>\n",
              "      <th>gender</th>\n",
              "      <th>SeniorCitizen</th>\n",
              "      <th>Partner</th>\n",
              "      <th>Dependents</th>\n",
              "      <th>tenure</th>\n",
              "      <th>PhoneService</th>\n",
              "      <th>MultipleLines</th>\n",
              "      <th>OnlineSecurity</th>\n",
              "      <th>OnlineBackup</th>\n",
              "      <th>DeviceProtection</th>\n",
              "      <th>...</th>\n",
              "      <th>InternetService_DSL</th>\n",
              "      <th>InternetService_Fiber optic</th>\n",
              "      <th>InternetService_No</th>\n",
              "      <th>Contract_Month-to-month</th>\n",
              "      <th>Contract_One year</th>\n",
              "      <th>Contract_Two year</th>\n",
              "      <th>PaymentMethod_Bank transfer (automatic)</th>\n",
              "      <th>PaymentMethod_Credit card (automatic)</th>\n",
              "      <th>PaymentMethod_Electronic check</th>\n",
              "      <th>PaymentMethod_Mailed check</th>\n",
              "    </tr>\n",
              "  </thead>\n",
              "  <tbody>\n",
              "    <tr>\n",
              "      <th>5664</th>\n",
              "      <td>1</td>\n",
              "      <td>1</td>\n",
              "      <td>0</td>\n",
              "      <td>0</td>\n",
              "      <td>0.126761</td>\n",
              "      <td>1</td>\n",
              "      <td>0</td>\n",
              "      <td>0</td>\n",
              "      <td>0</td>\n",
              "      <td>1</td>\n",
              "      <td>...</td>\n",
              "      <td>0</td>\n",
              "      <td>1</td>\n",
              "      <td>0</td>\n",
              "      <td>1</td>\n",
              "      <td>0</td>\n",
              "      <td>0</td>\n",
              "      <td>0</td>\n",
              "      <td>1</td>\n",
              "      <td>0</td>\n",
              "      <td>0</td>\n",
              "    </tr>\n",
              "    <tr>\n",
              "      <th>101</th>\n",
              "      <td>1</td>\n",
              "      <td>0</td>\n",
              "      <td>1</td>\n",
              "      <td>1</td>\n",
              "      <td>0.000000</td>\n",
              "      <td>1</td>\n",
              "      <td>0</td>\n",
              "      <td>0</td>\n",
              "      <td>0</td>\n",
              "      <td>0</td>\n",
              "      <td>...</td>\n",
              "      <td>0</td>\n",
              "      <td>0</td>\n",
              "      <td>1</td>\n",
              "      <td>1</td>\n",
              "      <td>0</td>\n",
              "      <td>0</td>\n",
              "      <td>0</td>\n",
              "      <td>0</td>\n",
              "      <td>1</td>\n",
              "      <td>0</td>\n",
              "    </tr>\n",
              "    <tr>\n",
              "      <th>2621</th>\n",
              "      <td>0</td>\n",
              "      <td>0</td>\n",
              "      <td>1</td>\n",
              "      <td>0</td>\n",
              "      <td>0.985915</td>\n",
              "      <td>1</td>\n",
              "      <td>0</td>\n",
              "      <td>0</td>\n",
              "      <td>1</td>\n",
              "      <td>1</td>\n",
              "      <td>...</td>\n",
              "      <td>1</td>\n",
              "      <td>0</td>\n",
              "      <td>0</td>\n",
              "      <td>0</td>\n",
              "      <td>0</td>\n",
              "      <td>1</td>\n",
              "      <td>0</td>\n",
              "      <td>1</td>\n",
              "      <td>0</td>\n",
              "      <td>0</td>\n",
              "    </tr>\n",
              "    <tr>\n",
              "      <th>392</th>\n",
              "      <td>1</td>\n",
              "      <td>1</td>\n",
              "      <td>0</td>\n",
              "      <td>0</td>\n",
              "      <td>0.014085</td>\n",
              "      <td>1</td>\n",
              "      <td>0</td>\n",
              "      <td>0</td>\n",
              "      <td>0</td>\n",
              "      <td>0</td>\n",
              "      <td>...</td>\n",
              "      <td>1</td>\n",
              "      <td>0</td>\n",
              "      <td>0</td>\n",
              "      <td>1</td>\n",
              "      <td>0</td>\n",
              "      <td>0</td>\n",
              "      <td>0</td>\n",
              "      <td>0</td>\n",
              "      <td>1</td>\n",
              "      <td>0</td>\n",
              "    </tr>\n",
              "    <tr>\n",
              "      <th>1327</th>\n",
              "      <td>0</td>\n",
              "      <td>0</td>\n",
              "      <td>1</td>\n",
              "      <td>0</td>\n",
              "      <td>0.816901</td>\n",
              "      <td>1</td>\n",
              "      <td>1</td>\n",
              "      <td>0</td>\n",
              "      <td>0</td>\n",
              "      <td>1</td>\n",
              "      <td>...</td>\n",
              "      <td>0</td>\n",
              "      <td>1</td>\n",
              "      <td>0</td>\n",
              "      <td>0</td>\n",
              "      <td>1</td>\n",
              "      <td>0</td>\n",
              "      <td>1</td>\n",
              "      <td>0</td>\n",
              "      <td>0</td>\n",
              "      <td>0</td>\n",
              "    </tr>\n",
              "    <tr>\n",
              "      <th>3607</th>\n",
              "      <td>1</td>\n",
              "      <td>0</td>\n",
              "      <td>0</td>\n",
              "      <td>0</td>\n",
              "      <td>0.169014</td>\n",
              "      <td>1</td>\n",
              "      <td>0</td>\n",
              "      <td>1</td>\n",
              "      <td>0</td>\n",
              "      <td>0</td>\n",
              "      <td>...</td>\n",
              "      <td>1</td>\n",
              "      <td>0</td>\n",
              "      <td>0</td>\n",
              "      <td>0</td>\n",
              "      <td>1</td>\n",
              "      <td>0</td>\n",
              "      <td>0</td>\n",
              "      <td>0</td>\n",
              "      <td>0</td>\n",
              "      <td>1</td>\n",
              "    </tr>\n",
              "    <tr>\n",
              "      <th>2773</th>\n",
              "      <td>0</td>\n",
              "      <td>0</td>\n",
              "      <td>1</td>\n",
              "      <td>0</td>\n",
              "      <td>0.323944</td>\n",
              "      <td>0</td>\n",
              "      <td>0</td>\n",
              "      <td>0</td>\n",
              "      <td>0</td>\n",
              "      <td>1</td>\n",
              "      <td>...</td>\n",
              "      <td>1</td>\n",
              "      <td>0</td>\n",
              "      <td>0</td>\n",
              "      <td>1</td>\n",
              "      <td>0</td>\n",
              "      <td>0</td>\n",
              "      <td>0</td>\n",
              "      <td>0</td>\n",
              "      <td>1</td>\n",
              "      <td>0</td>\n",
              "    </tr>\n",
              "    <tr>\n",
              "      <th>1936</th>\n",
              "      <td>1</td>\n",
              "      <td>0</td>\n",
              "      <td>1</td>\n",
              "      <td>0</td>\n",
              "      <td>0.704225</td>\n",
              "      <td>1</td>\n",
              "      <td>0</td>\n",
              "      <td>1</td>\n",
              "      <td>1</td>\n",
              "      <td>0</td>\n",
              "      <td>...</td>\n",
              "      <td>1</td>\n",
              "      <td>0</td>\n",
              "      <td>0</td>\n",
              "      <td>0</td>\n",
              "      <td>1</td>\n",
              "      <td>0</td>\n",
              "      <td>1</td>\n",
              "      <td>0</td>\n",
              "      <td>0</td>\n",
              "      <td>0</td>\n",
              "    </tr>\n",
              "    <tr>\n",
              "      <th>5387</th>\n",
              "      <td>0</td>\n",
              "      <td>0</td>\n",
              "      <td>0</td>\n",
              "      <td>0</td>\n",
              "      <td>0.042254</td>\n",
              "      <td>0</td>\n",
              "      <td>0</td>\n",
              "      <td>0</td>\n",
              "      <td>0</td>\n",
              "      <td>0</td>\n",
              "      <td>...</td>\n",
              "      <td>1</td>\n",
              "      <td>0</td>\n",
              "      <td>0</td>\n",
              "      <td>1</td>\n",
              "      <td>0</td>\n",
              "      <td>0</td>\n",
              "      <td>0</td>\n",
              "      <td>0</td>\n",
              "      <td>1</td>\n",
              "      <td>0</td>\n",
              "    </tr>\n",
              "    <tr>\n",
              "      <th>4331</th>\n",
              "      <td>0</td>\n",
              "      <td>0</td>\n",
              "      <td>0</td>\n",
              "      <td>0</td>\n",
              "      <td>0.985915</td>\n",
              "      <td>1</td>\n",
              "      <td>1</td>\n",
              "      <td>0</td>\n",
              "      <td>0</td>\n",
              "      <td>0</td>\n",
              "      <td>...</td>\n",
              "      <td>0</td>\n",
              "      <td>0</td>\n",
              "      <td>1</td>\n",
              "      <td>0</td>\n",
              "      <td>0</td>\n",
              "      <td>1</td>\n",
              "      <td>1</td>\n",
              "      <td>0</td>\n",
              "      <td>0</td>\n",
              "      <td>0</td>\n",
              "    </tr>\n",
              "  </tbody>\n",
              "</table>\n",
              "<p>10 rows × 26 columns</p>\n",
              "</div>\n",
              "      <button class=\"colab-df-convert\" onclick=\"convertToInteractive('df-54d43771-c381-4452-b195-fa4b8a40e87f')\"\n",
              "              title=\"Convert this dataframe to an interactive table.\"\n",
              "              style=\"display:none;\">\n",
              "        \n",
              "  <svg xmlns=\"http://www.w3.org/2000/svg\" height=\"24px\"viewBox=\"0 0 24 24\"\n",
              "       width=\"24px\">\n",
              "    <path d=\"M0 0h24v24H0V0z\" fill=\"none\"/>\n",
              "    <path d=\"M18.56 5.44l.94 2.06.94-2.06 2.06-.94-2.06-.94-.94-2.06-.94 2.06-2.06.94zm-11 1L8.5 8.5l.94-2.06 2.06-.94-2.06-.94L8.5 2.5l-.94 2.06-2.06.94zm10 10l.94 2.06.94-2.06 2.06-.94-2.06-.94-.94-2.06-.94 2.06-2.06.94z\"/><path d=\"M17.41 7.96l-1.37-1.37c-.4-.4-.92-.59-1.43-.59-.52 0-1.04.2-1.43.59L10.3 9.45l-7.72 7.72c-.78.78-.78 2.05 0 2.83L4 21.41c.39.39.9.59 1.41.59.51 0 1.02-.2 1.41-.59l7.78-7.78 2.81-2.81c.8-.78.8-2.07 0-2.86zM5.41 20L4 18.59l7.72-7.72 1.47 1.35L5.41 20z\"/>\n",
              "  </svg>\n",
              "      </button>\n",
              "      \n",
              "  <style>\n",
              "    .colab-df-container {\n",
              "      display:flex;\n",
              "      flex-wrap:wrap;\n",
              "      gap: 12px;\n",
              "    }\n",
              "\n",
              "    .colab-df-convert {\n",
              "      background-color: #E8F0FE;\n",
              "      border: none;\n",
              "      border-radius: 50%;\n",
              "      cursor: pointer;\n",
              "      display: none;\n",
              "      fill: #1967D2;\n",
              "      height: 32px;\n",
              "      padding: 0 0 0 0;\n",
              "      width: 32px;\n",
              "    }\n",
              "\n",
              "    .colab-df-convert:hover {\n",
              "      background-color: #E2EBFA;\n",
              "      box-shadow: 0px 1px 2px rgba(60, 64, 67, 0.3), 0px 1px 3px 1px rgba(60, 64, 67, 0.15);\n",
              "      fill: #174EA6;\n",
              "    }\n",
              "\n",
              "    [theme=dark] .colab-df-convert {\n",
              "      background-color: #3B4455;\n",
              "      fill: #D2E3FC;\n",
              "    }\n",
              "\n",
              "    [theme=dark] .colab-df-convert:hover {\n",
              "      background-color: #434B5C;\n",
              "      box-shadow: 0px 1px 3px 1px rgba(0, 0, 0, 0.15);\n",
              "      filter: drop-shadow(0px 1px 2px rgba(0, 0, 0, 0.3));\n",
              "      fill: #FFFFFF;\n",
              "    }\n",
              "  </style>\n",
              "\n",
              "      <script>\n",
              "        const buttonEl =\n",
              "          document.querySelector('#df-54d43771-c381-4452-b195-fa4b8a40e87f button.colab-df-convert');\n",
              "        buttonEl.style.display =\n",
              "          google.colab.kernel.accessAllowed ? 'block' : 'none';\n",
              "\n",
              "        async function convertToInteractive(key) {\n",
              "          const element = document.querySelector('#df-54d43771-c381-4452-b195-fa4b8a40e87f');\n",
              "          const dataTable =\n",
              "            await google.colab.kernel.invokeFunction('convertToInteractive',\n",
              "                                                     [key], {});\n",
              "          if (!dataTable) return;\n",
              "\n",
              "          const docLinkHtml = 'Like what you see? Visit the ' +\n",
              "            '<a target=\"_blank\" href=https://colab.research.google.com/notebooks/data_table.ipynb>data table notebook</a>'\n",
              "            + ' to learn more about interactive tables.';\n",
              "          element.innerHTML = '';\n",
              "          dataTable['output_type'] = 'display_data';\n",
              "          await google.colab.output.renderOutput(dataTable, element);\n",
              "          const docLink = document.createElement('div');\n",
              "          docLink.innerHTML = docLinkHtml;\n",
              "          element.appendChild(docLink);\n",
              "        }\n",
              "      </script>\n",
              "    </div>\n",
              "  </div>\n",
              "  "
            ]
          },
          "metadata": {},
          "execution_count": 35
        }
      ]
    },
    {
      "cell_type": "code",
      "metadata": {
        "id": "DO4oeA3ttU7q",
        "outputId": "b24b2298-048e-4c16-d78b-b35f552fc94b",
        "colab": {
          "base_uri": "https://localhost:8080/"
        }
      },
      "source": [
        "len(X_train.columns)"
      ],
      "execution_count": null,
      "outputs": [
        {
          "output_type": "execute_result",
          "data": {
            "text/plain": [
              "26"
            ]
          },
          "metadata": {},
          "execution_count": 36
        }
      ]
    },
    {
      "cell_type": "code",
      "source": [
        "y_train.value_counts()"
      ],
      "metadata": {
        "colab": {
          "base_uri": "https://localhost:8080/"
        },
        "id": "ttqe3Cz4u2F9",
        "outputId": "985d65d4-ca90-4260-ec16-faacbf03f97c"
      },
      "execution_count": null,
      "outputs": [
        {
          "output_type": "execute_result",
          "data": {
            "text/plain": [
              "0    4164\n",
              "1    1461\n",
              "Name: Churn, dtype: int64"
            ]
          },
          "metadata": {},
          "execution_count": 37
        }
      ]
    },
    {
      "cell_type": "code",
      "source": [
        "y_test.value_counts()"
      ],
      "metadata": {
        "colab": {
          "base_uri": "https://localhost:8080/"
        },
        "id": "YshHruSzu7XI",
        "outputId": "0058a75a-ad13-42a2-a2a8-3acbdb6d0e3e"
      },
      "execution_count": null,
      "outputs": [
        {
          "output_type": "execute_result",
          "data": {
            "text/plain": [
              "0    999\n",
              "1    408\n",
              "Name: Churn, dtype: int64"
            ]
          },
          "metadata": {},
          "execution_count": 38
        }
      ]
    },
    {
      "cell_type": "markdown",
      "metadata": {
        "id": "dmdyUgs2tU7q"
      },
      "source": [
        "**Build a model (ANN) in tensorflow/keras**"
      ]
    },
    {
      "cell_type": "code",
      "metadata": {
        "scrolled": false,
        "colab": {
          "base_uri": "https://localhost:8080/"
        },
        "id": "9-RQCgtYtU7q",
        "outputId": "126c68a7-100e-4563-d974-10deccb68221"
      },
      "source": [
        "import tensorflow as tf\n",
        "from tensorflow import keras\n",
        "\n",
        "\n",
        "model = keras.Sequential([\n",
        "    keras.layers.Dense(26, input_shape=(26,), activation='relu'),\n",
        "    keras.layers.Dense(15, activation='relu'),\n",
        "    keras.layers.Dense(1, activation='sigmoid')\n",
        "])\n",
        "\n",
        "# opt = keras.optimizers.Adam(learning_rate=0.01)\n",
        "\n",
        "model.compile(optimizer='adam',\n",
        "              loss='binary_crossentropy',\n",
        "              metrics=['accuracy'])\n",
        "\n",
        "model.fit(X_train, y_train, epochs=100)"
      ],
      "execution_count": null,
      "outputs": [
        {
          "output_type": "stream",
          "name": "stdout",
          "text": [
            "Epoch 1/100\n",
            "176/176 [==============================] - 1s 2ms/step - loss: 0.5636 - accuracy: 0.6876\n",
            "Epoch 2/100\n",
            "176/176 [==============================] - 0s 2ms/step - loss: 0.4289 - accuracy: 0.7947\n",
            "Epoch 3/100\n",
            "176/176 [==============================] - 0s 2ms/step - loss: 0.4207 - accuracy: 0.7993\n",
            "Epoch 4/100\n",
            "176/176 [==============================] - 0s 2ms/step - loss: 0.4170 - accuracy: 0.8041\n",
            "Epoch 5/100\n",
            "176/176 [==============================] - 0s 2ms/step - loss: 0.4147 - accuracy: 0.8028\n",
            "Epoch 6/100\n",
            "176/176 [==============================] - 0s 2ms/step - loss: 0.4114 - accuracy: 0.8053\n",
            "Epoch 7/100\n",
            "176/176 [==============================] - 0s 2ms/step - loss: 0.4095 - accuracy: 0.8043\n",
            "Epoch 8/100\n",
            "176/176 [==============================] - 0s 2ms/step - loss: 0.4083 - accuracy: 0.8078\n",
            "Epoch 9/100\n",
            "176/176 [==============================] - 0s 2ms/step - loss: 0.4073 - accuracy: 0.8082\n",
            "Epoch 10/100\n",
            "176/176 [==============================] - 0s 2ms/step - loss: 0.4056 - accuracy: 0.8078\n",
            "Epoch 11/100\n",
            "176/176 [==============================] - 0s 2ms/step - loss: 0.4041 - accuracy: 0.8107\n",
            "Epoch 12/100\n",
            "176/176 [==============================] - 0s 2ms/step - loss: 0.4029 - accuracy: 0.8107\n",
            "Epoch 13/100\n",
            "176/176 [==============================] - 0s 2ms/step - loss: 0.4016 - accuracy: 0.8107\n",
            "Epoch 14/100\n",
            "176/176 [==============================] - 0s 2ms/step - loss: 0.4003 - accuracy: 0.8133\n",
            "Epoch 15/100\n",
            "176/176 [==============================] - 0s 2ms/step - loss: 0.3995 - accuracy: 0.8140\n",
            "Epoch 16/100\n",
            "176/176 [==============================] - 0s 2ms/step - loss: 0.4001 - accuracy: 0.8132\n",
            "Epoch 17/100\n",
            "176/176 [==============================] - 0s 2ms/step - loss: 0.3983 - accuracy: 0.8132\n",
            "Epoch 18/100\n",
            "176/176 [==============================] - 0s 2ms/step - loss: 0.3971 - accuracy: 0.8171\n",
            "Epoch 19/100\n",
            "176/176 [==============================] - 0s 2ms/step - loss: 0.3947 - accuracy: 0.8162\n",
            "Epoch 20/100\n",
            "176/176 [==============================] - 0s 2ms/step - loss: 0.3942 - accuracy: 0.8176\n",
            "Epoch 21/100\n",
            "176/176 [==============================] - 0s 2ms/step - loss: 0.3934 - accuracy: 0.8180\n",
            "Epoch 22/100\n",
            "176/176 [==============================] - 0s 2ms/step - loss: 0.3928 - accuracy: 0.8183\n",
            "Epoch 23/100\n",
            "176/176 [==============================] - 0s 2ms/step - loss: 0.3923 - accuracy: 0.8167\n",
            "Epoch 24/100\n",
            "176/176 [==============================] - 0s 2ms/step - loss: 0.3913 - accuracy: 0.8176\n",
            "Epoch 25/100\n",
            "176/176 [==============================] - 0s 3ms/step - loss: 0.3907 - accuracy: 0.8194\n",
            "Epoch 26/100\n",
            "176/176 [==============================] - 0s 3ms/step - loss: 0.3896 - accuracy: 0.8196\n",
            "Epoch 27/100\n",
            "176/176 [==============================] - 0s 3ms/step - loss: 0.3892 - accuracy: 0.8165\n",
            "Epoch 28/100\n",
            "176/176 [==============================] - 1s 3ms/step - loss: 0.3876 - accuracy: 0.8226\n",
            "Epoch 29/100\n",
            "176/176 [==============================] - 1s 3ms/step - loss: 0.3861 - accuracy: 0.8215\n",
            "Epoch 30/100\n",
            "176/176 [==============================] - 0s 3ms/step - loss: 0.3864 - accuracy: 0.8212\n",
            "Epoch 31/100\n",
            "176/176 [==============================] - 0s 2ms/step - loss: 0.3853 - accuracy: 0.8222\n",
            "Epoch 32/100\n",
            "176/176 [==============================] - 0s 2ms/step - loss: 0.3854 - accuracy: 0.8236\n",
            "Epoch 33/100\n",
            "176/176 [==============================] - 0s 2ms/step - loss: 0.3833 - accuracy: 0.8190\n",
            "Epoch 34/100\n",
            "176/176 [==============================] - 0s 2ms/step - loss: 0.3839 - accuracy: 0.8217\n",
            "Epoch 35/100\n",
            "176/176 [==============================] - 0s 2ms/step - loss: 0.3826 - accuracy: 0.8228\n",
            "Epoch 36/100\n",
            "176/176 [==============================] - 0s 2ms/step - loss: 0.3822 - accuracy: 0.8210\n",
            "Epoch 37/100\n",
            "176/176 [==============================] - 0s 2ms/step - loss: 0.3809 - accuracy: 0.8252\n",
            "Epoch 38/100\n",
            "176/176 [==============================] - 0s 2ms/step - loss: 0.3808 - accuracy: 0.8240\n",
            "Epoch 39/100\n",
            "176/176 [==============================] - 0s 2ms/step - loss: 0.3782 - accuracy: 0.8270\n",
            "Epoch 40/100\n",
            "176/176 [==============================] - 0s 2ms/step - loss: 0.3783 - accuracy: 0.8236\n",
            "Epoch 41/100\n",
            "176/176 [==============================] - 0s 2ms/step - loss: 0.3777 - accuracy: 0.8238\n",
            "Epoch 42/100\n",
            "176/176 [==============================] - 0s 2ms/step - loss: 0.3768 - accuracy: 0.8208\n",
            "Epoch 43/100\n",
            "176/176 [==============================] - 0s 2ms/step - loss: 0.3766 - accuracy: 0.8276\n",
            "Epoch 44/100\n",
            "176/176 [==============================] - 0s 2ms/step - loss: 0.3756 - accuracy: 0.8260\n",
            "Epoch 45/100\n",
            "176/176 [==============================] - 0s 2ms/step - loss: 0.3751 - accuracy: 0.8258\n",
            "Epoch 46/100\n",
            "176/176 [==============================] - 0s 2ms/step - loss: 0.3738 - accuracy: 0.8265\n",
            "Epoch 47/100\n",
            "176/176 [==============================] - 0s 2ms/step - loss: 0.3735 - accuracy: 0.8249\n",
            "Epoch 48/100\n",
            "176/176 [==============================] - 0s 2ms/step - loss: 0.3729 - accuracy: 0.8270\n",
            "Epoch 49/100\n",
            "176/176 [==============================] - 0s 2ms/step - loss: 0.3717 - accuracy: 0.8292\n",
            "Epoch 50/100\n",
            "176/176 [==============================] - 0s 2ms/step - loss: 0.3722 - accuracy: 0.8251\n",
            "Epoch 51/100\n",
            "176/176 [==============================] - 0s 2ms/step - loss: 0.3704 - accuracy: 0.8313\n",
            "Epoch 52/100\n",
            "176/176 [==============================] - 0s 2ms/step - loss: 0.3696 - accuracy: 0.8286\n",
            "Epoch 53/100\n",
            "176/176 [==============================] - 0s 2ms/step - loss: 0.3694 - accuracy: 0.8261\n",
            "Epoch 54/100\n",
            "176/176 [==============================] - 0s 2ms/step - loss: 0.3686 - accuracy: 0.8277\n",
            "Epoch 55/100\n",
            "176/176 [==============================] - 0s 2ms/step - loss: 0.3695 - accuracy: 0.8270\n",
            "Epoch 56/100\n",
            "176/176 [==============================] - 0s 2ms/step - loss: 0.3678 - accuracy: 0.8272\n",
            "Epoch 57/100\n",
            "176/176 [==============================] - 0s 2ms/step - loss: 0.3663 - accuracy: 0.8290\n",
            "Epoch 58/100\n",
            "176/176 [==============================] - 0s 2ms/step - loss: 0.3658 - accuracy: 0.8311\n",
            "Epoch 59/100\n",
            "176/176 [==============================] - 0s 2ms/step - loss: 0.3658 - accuracy: 0.8283\n",
            "Epoch 60/100\n",
            "176/176 [==============================] - 0s 2ms/step - loss: 0.3642 - accuracy: 0.8295\n",
            "Epoch 61/100\n",
            "176/176 [==============================] - 0s 2ms/step - loss: 0.3646 - accuracy: 0.8290\n",
            "Epoch 62/100\n",
            "176/176 [==============================] - 0s 3ms/step - loss: 0.3646 - accuracy: 0.8276\n",
            "Epoch 63/100\n",
            "176/176 [==============================] - 0s 2ms/step - loss: 0.3638 - accuracy: 0.8288\n",
            "Epoch 64/100\n",
            "176/176 [==============================] - 0s 3ms/step - loss: 0.3614 - accuracy: 0.8324\n",
            "Epoch 65/100\n",
            "176/176 [==============================] - 0s 2ms/step - loss: 0.3625 - accuracy: 0.8274\n",
            "Epoch 66/100\n",
            "176/176 [==============================] - 0s 2ms/step - loss: 0.3614 - accuracy: 0.8318\n",
            "Epoch 67/100\n",
            "176/176 [==============================] - 0s 3ms/step - loss: 0.3616 - accuracy: 0.8286\n",
            "Epoch 68/100\n",
            "176/176 [==============================] - 0s 2ms/step - loss: 0.3592 - accuracy: 0.8320\n",
            "Epoch 69/100\n",
            "176/176 [==============================] - 0s 2ms/step - loss: 0.3599 - accuracy: 0.8304\n",
            "Epoch 70/100\n",
            "176/176 [==============================] - 0s 2ms/step - loss: 0.3587 - accuracy: 0.8308\n",
            "Epoch 71/100\n",
            "176/176 [==============================] - 0s 2ms/step - loss: 0.3587 - accuracy: 0.8277\n",
            "Epoch 72/100\n",
            "176/176 [==============================] - 0s 2ms/step - loss: 0.3585 - accuracy: 0.8299\n",
            "Epoch 73/100\n",
            "176/176 [==============================] - 0s 2ms/step - loss: 0.3578 - accuracy: 0.8284\n",
            "Epoch 74/100\n",
            "176/176 [==============================] - 0s 2ms/step - loss: 0.3569 - accuracy: 0.8324\n",
            "Epoch 75/100\n",
            "176/176 [==============================] - 0s 2ms/step - loss: 0.3567 - accuracy: 0.8322\n",
            "Epoch 76/100\n",
            "176/176 [==============================] - 0s 2ms/step - loss: 0.3558 - accuracy: 0.8329\n",
            "Epoch 77/100\n",
            "176/176 [==============================] - 0s 2ms/step - loss: 0.3562 - accuracy: 0.8297\n",
            "Epoch 78/100\n",
            "176/176 [==============================] - 0s 2ms/step - loss: 0.3550 - accuracy: 0.8315\n",
            "Epoch 79/100\n",
            "176/176 [==============================] - 0s 2ms/step - loss: 0.3550 - accuracy: 0.8359\n",
            "Epoch 80/100\n",
            "176/176 [==============================] - 0s 2ms/step - loss: 0.3535 - accuracy: 0.8338\n",
            "Epoch 81/100\n",
            "176/176 [==============================] - 0s 2ms/step - loss: 0.3521 - accuracy: 0.8336\n",
            "Epoch 82/100\n",
            "176/176 [==============================] - 0s 2ms/step - loss: 0.3538 - accuracy: 0.8364\n",
            "Epoch 83/100\n",
            "176/176 [==============================] - 0s 2ms/step - loss: 0.3518 - accuracy: 0.8334\n",
            "Epoch 84/100\n",
            "176/176 [==============================] - 0s 2ms/step - loss: 0.3513 - accuracy: 0.8354\n",
            "Epoch 85/100\n",
            "176/176 [==============================] - 0s 3ms/step - loss: 0.3513 - accuracy: 0.8318\n",
            "Epoch 86/100\n",
            "176/176 [==============================] - 1s 3ms/step - loss: 0.3504 - accuracy: 0.8361\n",
            "Epoch 87/100\n",
            "176/176 [==============================] - 0s 3ms/step - loss: 0.3502 - accuracy: 0.8343\n",
            "Epoch 88/100\n",
            "176/176 [==============================] - 0s 3ms/step - loss: 0.3499 - accuracy: 0.8370\n",
            "Epoch 89/100\n",
            "176/176 [==============================] - 0s 3ms/step - loss: 0.3511 - accuracy: 0.8343\n",
            "Epoch 90/100\n",
            "176/176 [==============================] - 0s 3ms/step - loss: 0.3496 - accuracy: 0.8336\n",
            "Epoch 91/100\n",
            "176/176 [==============================] - 0s 2ms/step - loss: 0.3477 - accuracy: 0.8380\n",
            "Epoch 92/100\n",
            "176/176 [==============================] - 0s 2ms/step - loss: 0.3479 - accuracy: 0.8345\n",
            "Epoch 93/100\n",
            "176/176 [==============================] - 0s 2ms/step - loss: 0.3476 - accuracy: 0.8363\n",
            "Epoch 94/100\n",
            "176/176 [==============================] - 0s 2ms/step - loss: 0.3478 - accuracy: 0.8347\n",
            "Epoch 95/100\n",
            "176/176 [==============================] - 0s 2ms/step - loss: 0.3466 - accuracy: 0.8375\n",
            "Epoch 96/100\n",
            "176/176 [==============================] - 0s 3ms/step - loss: 0.3455 - accuracy: 0.8375\n",
            "Epoch 97/100\n",
            "176/176 [==============================] - 0s 3ms/step - loss: 0.3458 - accuracy: 0.8364\n",
            "Epoch 98/100\n",
            "176/176 [==============================] - 0s 2ms/step - loss: 0.3465 - accuracy: 0.8370\n",
            "Epoch 99/100\n",
            "176/176 [==============================] - 0s 2ms/step - loss: 0.3450 - accuracy: 0.8363\n",
            "Epoch 100/100\n",
            "176/176 [==============================] - 0s 2ms/step - loss: 0.3434 - accuracy: 0.8364\n"
          ]
        },
        {
          "output_type": "execute_result",
          "data": {
            "text/plain": [
              "<keras.callbacks.History at 0x7f76bde47520>"
            ]
          },
          "metadata": {},
          "execution_count": 39
        }
      ]
    },
    {
      "cell_type": "code",
      "metadata": {
        "scrolled": true,
        "colab": {
          "base_uri": "https://localhost:8080/"
        },
        "id": "rX24cF3mtU7q",
        "outputId": "0f52f17d-33d2-43b5-9091-2ea24eccf50f"
      },
      "source": [
        "model.evaluate(X_test, y_test)"
      ],
      "execution_count": null,
      "outputs": [
        {
          "output_type": "stream",
          "name": "stdout",
          "text": [
            "44/44 [==============================] - 0s 2ms/step - loss: 0.4937 - accuracy: 0.7719\n"
          ]
        },
        {
          "output_type": "execute_result",
          "data": {
            "text/plain": [
              "[0.4936818778514862, 0.7718549966812134]"
            ]
          },
          "metadata": {},
          "execution_count": 40
        }
      ]
    },
    {
      "cell_type": "code",
      "metadata": {
        "colab": {
          "base_uri": "https://localhost:8080/"
        },
        "id": "Iz4Lvl6AtU7q",
        "outputId": "dc1d1862-243e-457b-bfd7-c939cd095105"
      },
      "source": [
        "yp = model.predict(X_test)\n",
        "yp[:5]"
      ],
      "execution_count": null,
      "outputs": [
        {
          "output_type": "stream",
          "name": "stdout",
          "text": [
            "44/44 [==============================] - 0s 2ms/step\n"
          ]
        },
        {
          "output_type": "execute_result",
          "data": {
            "text/plain": [
              "array([[0.15199976],\n",
              "       [0.36818612],\n",
              "       [0.00218644],\n",
              "       [0.74710214],\n",
              "       [0.45040086]], dtype=float32)"
            ]
          },
          "metadata": {},
          "execution_count": 41
        }
      ]
    },
    {
      "cell_type": "code",
      "metadata": {
        "colab": {
          "base_uri": "https://localhost:8080/"
        },
        "id": "1uI4rD8i2NTY",
        "outputId": "5fdd69b4-5481-4afd-dcaa-5ae5828702a0"
      },
      "source": [
        "y_test[:5]"
      ],
      "execution_count": null,
      "outputs": [
        {
          "output_type": "execute_result",
          "data": {
            "text/plain": [
              "2660    0\n",
              "744     0\n",
              "5579    1\n",
              "64      1\n",
              "3287    1\n",
              "Name: Churn, dtype: int64"
            ]
          },
          "metadata": {},
          "execution_count": 42
        }
      ]
    },
    {
      "cell_type": "code",
      "metadata": {
        "id": "AgjjEWbPtU7q"
      },
      "source": [
        "y_pred = []\n",
        "for element in yp:\n",
        "    if element > 0.5:\n",
        "        y_pred.append(1)\n",
        "    else:\n",
        "        y_pred.append(0)"
      ],
      "execution_count": null,
      "outputs": []
    },
    {
      "cell_type": "code",
      "metadata": {
        "colab": {
          "base_uri": "https://localhost:8080/"
        },
        "id": "xPi2sJbHtU7q",
        "outputId": "1d7669e7-1da8-4721-ef37-9f8f71fed12a"
      },
      "source": [
        "y_pred[:10]"
      ],
      "execution_count": null,
      "outputs": [
        {
          "output_type": "execute_result",
          "data": {
            "text/plain": [
              "[0, 0, 0, 1, 0, 1, 0, 0, 0, 0]"
            ]
          },
          "metadata": {},
          "execution_count": 44
        }
      ]
    },
    {
      "cell_type": "code",
      "metadata": {
        "colab": {
          "base_uri": "https://localhost:8080/"
        },
        "id": "-__FtKUCtU7r",
        "outputId": "6809f5e3-c68c-4db9-b815-1160cd73ddf7"
      },
      "source": [
        "y_test[:10]"
      ],
      "execution_count": null,
      "outputs": [
        {
          "output_type": "execute_result",
          "data": {
            "text/plain": [
              "2660    0\n",
              "744     0\n",
              "5579    1\n",
              "64      1\n",
              "3287    1\n",
              "816     1\n",
              "2670    0\n",
              "5920    0\n",
              "1023    0\n",
              "6087    0\n",
              "Name: Churn, dtype: int64"
            ]
          },
          "metadata": {},
          "execution_count": 45
        }
      ]
    },
    {
      "cell_type": "code",
      "metadata": {
        "id": "og2mB1eGtU7r",
        "outputId": "434144ae-d3d7-4f39-ad08-8a5fbb95f67d",
        "colab": {
          "base_uri": "https://localhost:8080/"
        }
      },
      "source": [
        "from sklearn.metrics import confusion_matrix , classification_report\n",
        "\n",
        "print(classification_report(y_test,y_pred))"
      ],
      "execution_count": null,
      "outputs": [
        {
          "output_type": "stream",
          "name": "stdout",
          "text": [
            "              precision    recall  f1-score   support\n",
            "\n",
            "           0       0.82      0.88      0.85       999\n",
            "           1       0.63      0.51      0.57       408\n",
            "\n",
            "    accuracy                           0.77      1407\n",
            "   macro avg       0.72      0.70      0.71      1407\n",
            "weighted avg       0.76      0.77      0.76      1407\n",
            "\n"
          ]
        }
      ]
    },
    {
      "cell_type": "markdown",
      "source": [
        "The precision, recall, and f1-score values for both the classes (0 and 1) are given. You will notice that the 0 class has higher score values than the 1 class. The scores need to be almost uniform for both the classes to ensure we can trust the model.\n",
        "\n",
        "Implementing dataset balancing using the three-techniques will ensure we give fair treatment to both classes. It will increase the performance score for the minority class."
      ],
      "metadata": {
        "id": "1RTnVyitvtA5"
      }
    },
    {
      "cell_type": "code",
      "metadata": {
        "scrolled": false,
        "id": "MZ-z_xuHtU7r",
        "outputId": "a1dd32cb-f5f6-4174-8fb8-ee0981e340b3"
      },
      "source": [
        "import seaborn as sn\n",
        "cm = tf.math.confusion_matrix(labels=y_test,predictions=y_pred)\n",
        "\n",
        "plt.figure(figsize = (10,7))\n",
        "sn.heatmap(cm, annot=True, fmt='d')\n",
        "plt.xlabel('Predicted')\n",
        "plt.ylabel('Truth')"
      ],
      "execution_count": null,
      "outputs": [
        {
          "data": {
            "text/plain": [
              "Text(69.0, 0.5, 'Truth')"
            ]
          },
          "execution_count": 222,
          "metadata": {},
          "output_type": "execute_result"
        },
        {
          "data": {
            "image/png": "[encoded data removed]",
            "text/plain": [
              "<Figure size 720x504 with 2 Axes>"
            ]
          },
          "metadata": {
            "needs_background": "light"
          },
          "output_type": "display_data"
        }
      ]
    },
    {
      "cell_type": "code",
      "metadata": {
        "id": "_Ys9lA_btU7r",
        "outputId": "8c397e22-f1db-4565-9cf4-4a61ebb5dbbb"
      },
      "source": [
        "y_test.shape"
      ],
      "execution_count": null,
      "outputs": [
        {
          "data": {
            "text/plain": [
              "(1407,)"
            ]
          },
          "execution_count": 224,
          "metadata": {},
          "output_type": "execute_result"
        }
      ]
    },
    {
      "cell_type": "markdown",
      "metadata": {
        "id": "I6DzsXKXtU7r"
      },
      "source": [
        "**Accuracy**"
      ]
    },
    {
      "cell_type": "code",
      "metadata": {
        "scrolled": true,
        "id": "WWAZ0XCMtU7r"
      },
      "source": [
        "#round((862+229)/(862+229+137+179),2)"
      ],
      "execution_count": null,
      "outputs": []
    },
    {
      "cell_type": "markdown",
      "metadata": {
        "id": "qixQAooftU7r"
      },
      "source": [
        "**Precision for 0 class. i.e. Precision for customers who did not churn**"
      ]
    },
    {
      "cell_type": "code",
      "metadata": {
        "scrolled": true,
        "id": "QXl98kkBtU7s"
      },
      "source": [
        "#round(862/(862+179),2)"
      ],
      "execution_count": null,
      "outputs": []
    },
    {
      "cell_type": "markdown",
      "metadata": {
        "id": "CE2DPf5htU7s"
      },
      "source": [
        "**Precision for 1 class. i.e. Precision for customers who actually churned**"
      ]
    },
    {
      "cell_type": "code",
      "metadata": {
        "scrolled": true,
        "id": "tyzbm71-tU7s"
      },
      "source": [
        "#round(229/(229+137),2)"
      ],
      "execution_count": null,
      "outputs": []
    },
    {
      "cell_type": "markdown",
      "metadata": {
        "id": "XzkQouqHtU7s"
      },
      "source": [
        "**Recall for 0 class**"
      ]
    },
    {
      "cell_type": "code",
      "metadata": {
        "id": "CYPngAmGtU7s"
      },
      "source": [
        "#round(862/(862+137),2)"
      ],
      "execution_count": null,
      "outputs": []
    },
    {
      "cell_type": "code",
      "metadata": {
        "scrolled": true,
        "id": "nHqT4a91tU7s"
      },
      "source": [
        "#round(229/(229+179),2)"
      ],
      "execution_count": null,
      "outputs": []
    },
    {
      "cell_type": "markdown",
      "metadata": {
        "id": "qSWzlM6V3tsu"
      },
      "source": [
        "### Taking care of Skewdness of Data\n",
        "```\n",
        "Now let us look at the dataset, whether it is imbalanced or not\n",
        "```\n",
        "\n"
      ]
    },
    {
      "cell_type": "code",
      "metadata": {
        "colab": {
          "base_uri": "https://localhost:8080/"
        },
        "id": "JrK5Zyy8305X",
        "outputId": "5b3675c7-e6fd-43f8-91c5-6f89d8e373af"
      },
      "source": [
        "y_test.value_counts()"
      ],
      "execution_count": null,
      "outputs": [
        {
          "output_type": "execute_result",
          "data": {
            "text/plain": [
              "0    999\n",
              "1    408\n",
              "Name: Churn, dtype: int64"
            ]
          },
          "metadata": {},
          "execution_count": 52
        }
      ]
    },
    {
      "cell_type": "markdown",
      "metadata": {
        "id": "nYxtj05Z4jdS"
      },
      "source": [
        "# Method 1: Undersampling\n",
        "\n",
        "reference: [link text](https://www.kaggle.com/rafjaa/resampling-strategies-for-imbalanced-datasets)"
      ]
    },
    {
      "cell_type": "code",
      "metadata": {
        "id": "aATu5hg24EAM"
      },
      "source": [
        "# Class count\n",
        "count_class_0, count_class_1 = df1.Churn.value_counts()\n",
        "\n",
        "# Divide by class\n",
        "# We are saving the majority and minority classes in new variables\n",
        "df_class_0 = df2[df2['Churn'] == 0]\n",
        "df_class_1 = df2[df2['Churn'] == 1]"
      ],
      "execution_count": null,
      "outputs": []
    },
    {
      "cell_type": "code",
      "metadata": {
        "colab": {
          "base_uri": "https://localhost:8080/"
        },
        "id": "kb_Yb_4149fx",
        "outputId": "74906ad6-c4c6-42cd-f8d3-5df8bf9447b0"
      },
      "source": [
        "df_class_0.shape"
      ],
      "execution_count": null,
      "outputs": [
        {
          "output_type": "execute_result",
          "data": {
            "text/plain": [
              "(5163, 27)"
            ]
          },
          "metadata": {},
          "execution_count": 54
        }
      ]
    },
    {
      "cell_type": "code",
      "metadata": {
        "colab": {
          "base_uri": "https://localhost:8080/"
        },
        "id": "PWurTFej5Dr2",
        "outputId": "9e64164c-5412-492a-94ef-14de2cd9ff30"
      },
      "source": [
        "df_class_1.shape"
      ],
      "execution_count": null,
      "outputs": [
        {
          "output_type": "execute_result",
          "data": {
            "text/plain": [
              "(1869, 27)"
            ]
          },
          "metadata": {},
          "execution_count": 55
        }
      ]
    },
    {
      "cell_type": "code",
      "metadata": {
        "colab": {
          "base_uri": "https://localhost:8080/"
        },
        "id": "6B-_nYqB5KVc",
        "outputId": "764acbee-d1ef-4a24-8555-45707ad224f4"
      },
      "source": [
        "df_class_0.sample(count_class_1).shape"
      ],
      "execution_count": null,
      "outputs": [
        {
          "output_type": "execute_result",
          "data": {
            "text/plain": [
              "(1869, 27)"
            ]
          },
          "metadata": {},
          "execution_count": 56
        }
      ]
    },
    {
      "cell_type": "code",
      "metadata": {
        "id": "u5VV92345c47"
      },
      "source": [
        "#Undersampling the zero class\n",
        "df_class_0_under = df_class_0.sample(count_class_1)"
      ],
      "execution_count": null,
      "outputs": []
    },
    {
      "cell_type": "code",
      "metadata": {
        "colab": {
          "base_uri": "https://localhost:8080/"
        },
        "id": "-gsteDsX5m7j",
        "outputId": "aef3b4cc-f1dd-4fb7-f463-01697f389574"
      },
      "source": [
        "#After applying the sample method, we concatenate the undersampled majority class\n",
        "# with the minority class. It will form a single data frame.\n",
        "\n",
        "df_test_under = pd.concat([df_class_0_under, df_class_1], axis=0)\n",
        "df_test_under.shape"
      ],
      "execution_count": null,
      "outputs": [
        {
          "output_type": "execute_result",
          "data": {
            "text/plain": [
              "(3738, 27)"
            ]
          },
          "metadata": {},
          "execution_count": 58
        }
      ]
    },
    {
      "cell_type": "code",
      "metadata": {
        "colab": {
          "base_uri": "https://localhost:8080/"
        },
        "id": "p3Nmaus35_8k",
        "outputId": "e8e77e5c-4ed9-41cd-e0ec-dc917143f769"
      },
      "source": [
        "# We now print the number of data samples in the new balanced dataset.\n",
        "print('Random under-sampling:')\n",
        "print(df_test_under.Churn.value_counts())"
      ],
      "execution_count": null,
      "outputs": [
        {
          "output_type": "stream",
          "name": "stdout",
          "text": [
            "Random under-sampling:\n",
            "0    1869\n",
            "1    1869\n",
            "Name: Churn, dtype: int64\n"
          ]
        }
      ]
    },
    {
      "cell_type": "markdown",
      "source": [
        "The stratify argument will ensure that the classes remain balanced after splitting. We also use the same splitting ratio. We again feed the dataset to our deep neural network"
      ],
      "metadata": {
        "id": "-9wJnYsqzE8k"
      }
    },
    {
      "cell_type": "code",
      "metadata": {
        "id": "NZU50OOj6IZP"
      },
      "source": [
        "# We can see that the two classes have the same data samples.\n",
        "# We have achieved a balanced dataset.\n",
        "X = df_test_under.drop('Churn',axis='columns')\n",
        "y = df_test_under['Churn']\n",
        "\n",
        "from sklearn.model_selection import train_test_split\n",
        "X_train, X_test, y_train, y_test = train_test_split(X, y, test_size=0.2, random_state=15, stratify=y)\n",
        "\n",
        "cols_to_scale = ['tenure','MonthlyCharges','TotalCharges']\n",
        "\n",
        "from sklearn.preprocessing import MinMaxScaler\n",
        "scaler = MinMaxScaler()\n",
        "X_train[cols_to_scale] = scaler.fit_transform(X_train[cols_to_scale])\n",
        "X_test[cols_to_scale] = scaler.fit_transform(X_test[cols_to_scale])"
      ],
      "execution_count": null,
      "outputs": []
    },
    {
      "cell_type": "code",
      "metadata": {
        "colab": {
          "base_uri": "https://localhost:8080/"
        },
        "id": "yMXoAiMc6aSF",
        "outputId": "a85189af-5998-4dbc-edad-6869c36c5131"
      },
      "source": [
        "y_train.value_counts()"
      ],
      "execution_count": null,
      "outputs": [
        {
          "output_type": "execute_result",
          "data": {
            "text/plain": [
              "0    1495\n",
              "1    1495\n",
              "Name: Churn, dtype: int64"
            ]
          },
          "metadata": {},
          "execution_count": 61
        }
      ]
    },
    {
      "cell_type": "markdown",
      "source": [
        "Step 1: Downsample the majority class [Done]\n",
        "\n",
        "Step 2: Upweight the downsampled class: The last step is to add example weights to the downsampled class. Say we downsampled by a factor of 10, the example weight should be 10.  An example weight of 10 means the model treats the example as 10 times as important (when computing loss) as it would an example of weight 1."
      ],
      "metadata": {
        "id": "pq2b7TV10Lw_"
      }
    },
    {
      "cell_type": "code",
      "metadata": {
        "id": "FZjGHO_m7MgQ"
      },
      "source": [
        "from sklearn.metrics import confusion_matrix , classification_report\n",
        "def ANN(X_train, y_train, X_test, y_test, loss, weights):\n",
        "    model = keras.Sequential([\n",
        "        keras.layers.Dense(26, input_dim=26, activation='relu'),\n",
        "        keras.layers.Dense(15, activation='relu'),\n",
        "        keras.layers.Dense(1, activation='sigmoid')\n",
        "    ])\n",
        "\n",
        "    model.compile(optimizer='adam', loss=loss, metrics=['accuracy'])\n",
        "\n",
        "    if weights == -1:\n",
        "        model.fit(X_train, y_train, epochs=100)\n",
        "    else:\n",
        "        model.fit(X_train, y_train, epochs=100, class_weight = weights)\n",
        "\n",
        "    print(model.evaluate(X_test, y_test))\n",
        "\n",
        "    y_preds = model.predict(X_test)\n",
        "    y_preds = np.round(y_preds)\n",
        "\n",
        "    print(\"Classification Report: \\n\", classification_report(y_test, y_preds))\n",
        "\n",
        "    return y_preds"
      ],
      "execution_count": null,
      "outputs": []
    },
    {
      "cell_type": "code",
      "metadata": {
        "colab": {
          "base_uri": "https://localhost:8080/"
        },
        "id": "CIfE5tEB6fZJ",
        "outputId": "dfaece1c-e4df-41b2-f7f5-3550aa353ea8"
      },
      "source": [
        "y_preds = ANN(X_train, y_train, X_test, y_test, 'binary_crossentropy', -1)"
      ],
      "execution_count": null,
      "outputs": [
        {
          "output_type": "stream",
          "name": "stdout",
          "text": [
            "Epoch 1/100\n",
            "94/94 [==============================] - 1s 2ms/step - loss: 0.6089 - accuracy: 0.7020\n",
            "Epoch 2/100\n",
            "94/94 [==============================] - 0s 2ms/step - loss: 0.5081 - accuracy: 0.7599\n",
            "Epoch 3/100\n",
            "94/94 [==============================] - 0s 2ms/step - loss: 0.4911 - accuracy: 0.7666\n",
            "Epoch 4/100\n",
            "94/94 [==============================] - 0s 2ms/step - loss: 0.4846 - accuracy: 0.7639\n",
            "Epoch 5/100\n",
            "94/94 [==============================] - 0s 2ms/step - loss: 0.4804 - accuracy: 0.7712\n",
            "Epoch 6/100\n",
            "94/94 [==============================] - 0s 2ms/step - loss: 0.4768 - accuracy: 0.7689\n",
            "Epoch 7/100\n",
            "94/94 [==============================] - 0s 2ms/step - loss: 0.4732 - accuracy: 0.7716\n",
            "Epoch 8/100\n",
            "94/94 [==============================] - 0s 2ms/step - loss: 0.4723 - accuracy: 0.7726\n",
            "Epoch 9/100\n",
            "94/94 [==============================] - 0s 2ms/step - loss: 0.4704 - accuracy: 0.7699\n",
            "Epoch 10/100\n",
            "94/94 [==============================] - 0s 2ms/step - loss: 0.4696 - accuracy: 0.7726\n",
            "Epoch 11/100\n",
            "94/94 [==============================] - 0s 2ms/step - loss: 0.4673 - accuracy: 0.7719\n",
            "Epoch 12/100\n",
            "94/94 [==============================] - 0s 2ms/step - loss: 0.4642 - accuracy: 0.7773\n",
            "Epoch 13/100\n",
            "94/94 [==============================] - 0s 2ms/step - loss: 0.4630 - accuracy: 0.7732\n",
            "Epoch 14/100\n",
            "94/94 [==============================] - 0s 2ms/step - loss: 0.4618 - accuracy: 0.7776\n",
            "Epoch 15/100\n",
            "94/94 [==============================] - 0s 2ms/step - loss: 0.4595 - accuracy: 0.7783\n",
            "Epoch 16/100\n",
            "94/94 [==============================] - 0s 2ms/step - loss: 0.4595 - accuracy: 0.7783\n",
            "Epoch 17/100\n",
            "94/94 [==============================] - 0s 2ms/step - loss: 0.4575 - accuracy: 0.7783\n",
            "Epoch 18/100\n",
            "94/94 [==============================] - 0s 2ms/step - loss: 0.4567 - accuracy: 0.7809\n",
            "Epoch 19/100\n",
            "94/94 [==============================] - 0s 2ms/step - loss: 0.4542 - accuracy: 0.7779\n",
            "Epoch 20/100\n",
            "94/94 [==============================] - 0s 2ms/step - loss: 0.4538 - accuracy: 0.7829\n",
            "Epoch 21/100\n",
            "94/94 [==============================] - 0s 2ms/step - loss: 0.4515 - accuracy: 0.7809\n",
            "Epoch 22/100\n",
            "94/94 [==============================] - 0s 2ms/step - loss: 0.4511 - accuracy: 0.7890\n",
            "Epoch 23/100\n",
            "94/94 [==============================] - 0s 2ms/step - loss: 0.4509 - accuracy: 0.7849\n",
            "Epoch 24/100\n",
            "94/94 [==============================] - 0s 2ms/step - loss: 0.4479 - accuracy: 0.7866\n",
            "Epoch 25/100\n",
            "94/94 [==============================] - 0s 2ms/step - loss: 0.4491 - accuracy: 0.7836\n",
            "Epoch 26/100\n",
            "94/94 [==============================] - 0s 2ms/step - loss: 0.4462 - accuracy: 0.7906\n",
            "Epoch 27/100\n",
            "94/94 [==============================] - 0s 2ms/step - loss: 0.4448 - accuracy: 0.7836\n",
            "Epoch 28/100\n",
            "94/94 [==============================] - 0s 2ms/step - loss: 0.4448 - accuracy: 0.7876\n",
            "Epoch 29/100\n",
            "94/94 [==============================] - 0s 2ms/step - loss: 0.4429 - accuracy: 0.7883\n",
            "Epoch 30/100\n",
            "94/94 [==============================] - 0s 2ms/step - loss: 0.4410 - accuracy: 0.7916\n",
            "Epoch 31/100\n",
            "94/94 [==============================] - 0s 2ms/step - loss: 0.4396 - accuracy: 0.7970\n",
            "Epoch 32/100\n",
            "94/94 [==============================] - 0s 2ms/step - loss: 0.4405 - accuracy: 0.7906\n",
            "Epoch 33/100\n",
            "94/94 [==============================] - 0s 2ms/step - loss: 0.4381 - accuracy: 0.7930\n",
            "Epoch 34/100\n",
            "94/94 [==============================] - 0s 2ms/step - loss: 0.4387 - accuracy: 0.7977\n",
            "Epoch 35/100\n",
            "94/94 [==============================] - 0s 3ms/step - loss: 0.4375 - accuracy: 0.7983\n",
            "Epoch 36/100\n",
            "94/94 [==============================] - 0s 3ms/step - loss: 0.4348 - accuracy: 0.7936\n",
            "Epoch 37/100\n",
            "94/94 [==============================] - 0s 3ms/step - loss: 0.4335 - accuracy: 0.7940\n",
            "Epoch 38/100\n",
            "94/94 [==============================] - 0s 3ms/step - loss: 0.4330 - accuracy: 0.7963\n",
            "Epoch 39/100\n",
            "94/94 [==============================] - 0s 3ms/step - loss: 0.4315 - accuracy: 0.7970\n",
            "Epoch 40/100\n",
            "94/94 [==============================] - 0s 3ms/step - loss: 0.4301 - accuracy: 0.7990\n",
            "Epoch 41/100\n",
            "94/94 [==============================] - 0s 2ms/step - loss: 0.4321 - accuracy: 0.7950\n",
            "Epoch 42/100\n",
            "94/94 [==============================] - 0s 3ms/step - loss: 0.4279 - accuracy: 0.8017\n",
            "Epoch 43/100\n",
            "94/94 [==============================] - 0s 3ms/step - loss: 0.4283 - accuracy: 0.8030\n",
            "Epoch 44/100\n",
            "94/94 [==============================] - 0s 3ms/step - loss: 0.4285 - accuracy: 0.8023\n",
            "Epoch 45/100\n",
            "94/94 [==============================] - 0s 3ms/step - loss: 0.4267 - accuracy: 0.8027\n",
            "Epoch 46/100\n",
            "94/94 [==============================] - 0s 2ms/step - loss: 0.4253 - accuracy: 0.8007\n",
            "Epoch 47/100\n",
            "94/94 [==============================] - 0s 2ms/step - loss: 0.4255 - accuracy: 0.8013\n",
            "Epoch 48/100\n",
            "94/94 [==============================] - 0s 2ms/step - loss: 0.4259 - accuracy: 0.8037\n",
            "Epoch 49/100\n",
            "94/94 [==============================] - 0s 2ms/step - loss: 0.4227 - accuracy: 0.8003\n",
            "Epoch 50/100\n",
            "94/94 [==============================] - 0s 2ms/step - loss: 0.4236 - accuracy: 0.8067\n",
            "Epoch 51/100\n",
            "94/94 [==============================] - 0s 2ms/step - loss: 0.4209 - accuracy: 0.8003\n",
            "Epoch 52/100\n",
            "94/94 [==============================] - 0s 2ms/step - loss: 0.4188 - accuracy: 0.8047\n",
            "Epoch 53/100\n",
            "94/94 [==============================] - 0s 2ms/step - loss: 0.4177 - accuracy: 0.8070\n",
            "Epoch 54/100\n",
            "94/94 [==============================] - 0s 2ms/step - loss: 0.4176 - accuracy: 0.8023\n",
            "Epoch 55/100\n",
            "94/94 [==============================] - 0s 2ms/step - loss: 0.4155 - accuracy: 0.8100\n",
            "Epoch 56/100\n",
            "94/94 [==============================] - 0s 2ms/step - loss: 0.4145 - accuracy: 0.8067\n",
            "Epoch 57/100\n",
            "94/94 [==============================] - 0s 2ms/step - loss: 0.4125 - accuracy: 0.8080\n",
            "Epoch 58/100\n",
            "94/94 [==============================] - 0s 2ms/step - loss: 0.4141 - accuracy: 0.8047\n",
            "Epoch 59/100\n",
            "94/94 [==============================] - 0s 2ms/step - loss: 0.4101 - accuracy: 0.8087\n",
            "Epoch 60/100\n",
            "94/94 [==============================] - 0s 2ms/step - loss: 0.4097 - accuracy: 0.8104\n",
            "Epoch 61/100\n",
            "94/94 [==============================] - 0s 2ms/step - loss: 0.4079 - accuracy: 0.8080\n",
            "Epoch 62/100\n",
            "94/94 [==============================] - 0s 2ms/step - loss: 0.4085 - accuracy: 0.8070\n",
            "Epoch 63/100\n",
            "94/94 [==============================] - 0s 2ms/step - loss: 0.4087 - accuracy: 0.8090\n",
            "Epoch 64/100\n",
            "94/94 [==============================] - 0s 2ms/step - loss: 0.4059 - accuracy: 0.8107\n",
            "Epoch 65/100\n",
            "94/94 [==============================] - 0s 2ms/step - loss: 0.4037 - accuracy: 0.8104\n",
            "Epoch 66/100\n",
            "94/94 [==============================] - 0s 2ms/step - loss: 0.4030 - accuracy: 0.8147\n",
            "Epoch 67/100\n",
            "94/94 [==============================] - 0s 2ms/step - loss: 0.4033 - accuracy: 0.8094\n",
            "Epoch 68/100\n",
            "94/94 [==============================] - 0s 2ms/step - loss: 0.4016 - accuracy: 0.8114\n",
            "Epoch 69/100\n",
            "94/94 [==============================] - 0s 2ms/step - loss: 0.4013 - accuracy: 0.8100\n",
            "Epoch 70/100\n",
            "94/94 [==============================] - 0s 2ms/step - loss: 0.3995 - accuracy: 0.8117\n",
            "Epoch 71/100\n",
            "94/94 [==============================] - 0s 2ms/step - loss: 0.3993 - accuracy: 0.8154\n",
            "Epoch 72/100\n",
            "94/94 [==============================] - 0s 2ms/step - loss: 0.3975 - accuracy: 0.8134\n",
            "Epoch 73/100\n",
            "94/94 [==============================] - 0s 2ms/step - loss: 0.3961 - accuracy: 0.8157\n",
            "Epoch 74/100\n",
            "94/94 [==============================] - 0s 2ms/step - loss: 0.3954 - accuracy: 0.8107\n",
            "Epoch 75/100\n",
            "94/94 [==============================] - 0s 2ms/step - loss: 0.3966 - accuracy: 0.8124\n",
            "Epoch 76/100\n",
            "94/94 [==============================] - 0s 2ms/step - loss: 0.3955 - accuracy: 0.8137\n",
            "Epoch 77/100\n",
            "94/94 [==============================] - 0s 2ms/step - loss: 0.3925 - accuracy: 0.8164\n",
            "Epoch 78/100\n",
            "94/94 [==============================] - 0s 2ms/step - loss: 0.3915 - accuracy: 0.8201\n",
            "Epoch 79/100\n",
            "94/94 [==============================] - 0s 2ms/step - loss: 0.3899 - accuracy: 0.8157\n",
            "Epoch 80/100\n",
            "94/94 [==============================] - 0s 2ms/step - loss: 0.3903 - accuracy: 0.8184\n",
            "Epoch 81/100\n",
            "94/94 [==============================] - 0s 2ms/step - loss: 0.3878 - accuracy: 0.8181\n",
            "Epoch 82/100\n",
            "94/94 [==============================] - 0s 2ms/step - loss: 0.3856 - accuracy: 0.8227\n",
            "Epoch 83/100\n",
            "94/94 [==============================] - 0s 2ms/step - loss: 0.3850 - accuracy: 0.8221\n",
            "Epoch 84/100\n",
            "94/94 [==============================] - 0s 2ms/step - loss: 0.3856 - accuracy: 0.8211\n",
            "Epoch 85/100\n",
            "94/94 [==============================] - 0s 2ms/step - loss: 0.3832 - accuracy: 0.8207\n",
            "Epoch 86/100\n",
            "94/94 [==============================] - 0s 2ms/step - loss: 0.3826 - accuracy: 0.8247\n",
            "Epoch 87/100\n",
            "94/94 [==============================] - 0s 2ms/step - loss: 0.3819 - accuracy: 0.8191\n",
            "Epoch 88/100\n",
            "94/94 [==============================] - 0s 2ms/step - loss: 0.3808 - accuracy: 0.8224\n",
            "Epoch 89/100\n",
            "94/94 [==============================] - 0s 2ms/step - loss: 0.3795 - accuracy: 0.8281\n",
            "Epoch 90/100\n",
            "94/94 [==============================] - 0s 2ms/step - loss: 0.3794 - accuracy: 0.8224\n",
            "Epoch 91/100\n",
            "94/94 [==============================] - 0s 2ms/step - loss: 0.3776 - accuracy: 0.8268\n",
            "Epoch 92/100\n",
            "94/94 [==============================] - 0s 2ms/step - loss: 0.3743 - accuracy: 0.8281\n",
            "Epoch 93/100\n",
            "94/94 [==============================] - 0s 2ms/step - loss: 0.3743 - accuracy: 0.8321\n",
            "Epoch 94/100\n",
            "94/94 [==============================] - 0s 2ms/step - loss: 0.3749 - accuracy: 0.8318\n",
            "Epoch 95/100\n",
            "94/94 [==============================] - 0s 2ms/step - loss: 0.3727 - accuracy: 0.8314\n",
            "Epoch 96/100\n",
            "94/94 [==============================] - 0s 2ms/step - loss: 0.3715 - accuracy: 0.8308\n",
            "Epoch 97/100\n",
            "94/94 [==============================] - 0s 2ms/step - loss: 0.3715 - accuracy: 0.8291\n",
            "Epoch 98/100\n",
            "94/94 [==============================] - 0s 2ms/step - loss: 0.3699 - accuracy: 0.8298\n",
            "Epoch 99/100\n",
            "94/94 [==============================] - 0s 2ms/step - loss: 0.3715 - accuracy: 0.8311\n",
            "Epoch 100/100\n",
            "94/94 [==============================] - 0s 3ms/step - loss: 0.3695 - accuracy: 0.8314\n",
            "24/24 [==============================] - 0s 2ms/step - loss: 0.5787 - accuracy: 0.7513\n",
            "[0.5787463188171387, 0.7513368725776672]\n",
            "24/24 [==============================] - 0s 2ms/step\n",
            "Classification Report: \n",
            "               precision    recall  f1-score   support\n",
            "\n",
            "           0       0.80      0.68      0.73       374\n",
            "           1       0.72      0.83      0.77       374\n",
            "\n",
            "    accuracy                           0.75       748\n",
            "   macro avg       0.76      0.75      0.75       748\n",
            "weighted avg       0.76      0.75      0.75       748\n",
            "\n"
          ]
        }
      ]
    },
    {
      "cell_type": "markdown",
      "metadata": {
        "id": "S81qy7t672qD"
      },
      "source": [
        "Check classification report above. f1-score for minority class 1 improved from 0.57 to 0.77. Score for class 0 reduced to 0.73 from 0.85 but that's ok. We have more generalized classifier which classifies both classes with similar prediction score"
      ]
    },
    {
      "cell_type": "markdown",
      "metadata": {
        "id": "LDYpbhLA8DnG"
      },
      "source": [
        "# Method 2: Oversampling\n",
        "\n",
        "The oversampling technique will increase the data samples in the minority class (1) to have the same number as the majority class. It will duplicate the data samples in the minority class. We will also use the Pandas sample method to perform oversampling."
      ]
    },
    {
      "cell_type": "code",
      "metadata": {
        "colab": {
          "base_uri": "https://localhost:8080/"
        },
        "id": "-1ObYa9E632s",
        "outputId": "d0dda164-d0e6-48f9-e74b-0047288ab909"
      },
      "source": [
        "count_class_0, count_class_1"
      ],
      "execution_count": null,
      "outputs": [
        {
          "output_type": "execute_result",
          "data": {
            "text/plain": [
              "(5163, 1869)"
            ]
          },
          "metadata": {},
          "execution_count": 64
        }
      ]
    },
    {
      "cell_type": "code",
      "metadata": {
        "colab": {
          "base_uri": "https://localhost:8080/"
        },
        "id": "W3hctv9j8brL",
        "outputId": "b40c4334-6cb0-42c5-a030-5cbc70e20d85"
      },
      "source": [
        "df_class_1.shape"
      ],
      "execution_count": null,
      "outputs": [
        {
          "output_type": "execute_result",
          "data": {
            "text/plain": [
              "(1869, 27)"
            ]
          },
          "metadata": {},
          "execution_count": 65
        }
      ]
    },
    {
      "cell_type": "code",
      "metadata": {
        "colab": {
          "base_uri": "https://localhost:8080/"
        },
        "id": "9xivf-178e6w",
        "outputId": "00a86991-76da-4ddb-beb7-923060c5429c"
      },
      "source": [
        "df_class_1.sample(200).shape"
      ],
      "execution_count": null,
      "outputs": [
        {
          "output_type": "execute_result",
          "data": {
            "text/plain": [
              "(200, 27)"
            ]
          },
          "metadata": {},
          "execution_count": 66
        }
      ]
    },
    {
      "cell_type": "code",
      "metadata": {
        "colab": {
          "base_uri": "https://localhost:8080/",
          "height": 363
        },
        "id": "E5scfgrd8p32",
        "outputId": "0c305e08-371b-48bb-ad06-3126193a65eb"
      },
      "source": [
        "df_class_1.sample(2000).shape"
      ],
      "execution_count": null,
      "outputs": [
        {
          "output_type": "error",
          "ename": "ValueError",
          "evalue": "ignored",
          "traceback": [
            "\u001b[0;31m---------------------------------------------------------------------------\u001b[0m",
            "\u001b[0;31mValueError\u001b[0m                                Traceback (most recent call last)",
            "\u001b[0;32m<ipython-input-67-c464378eea53>\u001b[0m in \u001b[0;36m<cell line: 1>\u001b[0;34m()\u001b[0m\n\u001b[0;32m----> 1\u001b[0;31m \u001b[0mdf_class_1\u001b[0m\u001b[0;34m.\u001b[0m\u001b[0msample\u001b[0m\u001b[0;34m(\u001b[0m\u001b[0;36m2000\u001b[0m\u001b[0;34m)\u001b[0m\u001b[0;34m.\u001b[0m\u001b[0mshape\u001b[0m\u001b[0;34m\u001b[0m\u001b[0;34m\u001b[0m\u001b[0m\n\u001b[0m",
            "\u001b[0;32m/usr/local/lib/python3.10/dist-packages/pandas/core/generic.py\u001b[0m in \u001b[0;36msample\u001b[0;34m(self, n, frac, replace, weights, random_state, axis, ignore_index)\u001b[0m\n\u001b[1;32m   5771\u001b[0m             \u001b[0mweights\u001b[0m \u001b[0;34m=\u001b[0m \u001b[0msample\u001b[0m\u001b[0;34m.\u001b[0m\u001b[0mpreprocess_weights\u001b[0m\u001b[0;34m(\u001b[0m\u001b[0mself\u001b[0m\u001b[0;34m,\u001b[0m \u001b[0mweights\u001b[0m\u001b[0;34m,\u001b[0m \u001b[0maxis\u001b[0m\u001b[0;34m)\u001b[0m\u001b[0;34m\u001b[0m\u001b[0;34m\u001b[0m\u001b[0m\n\u001b[1;32m   5772\u001b[0m \u001b[0;34m\u001b[0m\u001b[0m\n\u001b[0;32m-> 5773\u001b[0;31m         \u001b[0msampled_indices\u001b[0m \u001b[0;34m=\u001b[0m \u001b[0msample\u001b[0m\u001b[0;34m.\u001b[0m\u001b[0msample\u001b[0m\u001b[0;34m(\u001b[0m\u001b[0mobj_len\u001b[0m\u001b[0;34m,\u001b[0m \u001b[0msize\u001b[0m\u001b[0;34m,\u001b[0m \u001b[0mreplace\u001b[0m\u001b[0;34m,\u001b[0m \u001b[0mweights\u001b[0m\u001b[0;34m,\u001b[0m \u001b[0mrs\u001b[0m\u001b[0;34m)\u001b[0m\u001b[0;34m\u001b[0m\u001b[0;34m\u001b[0m\u001b[0m\n\u001b[0m\u001b[1;32m   5774\u001b[0m         \u001b[0mresult\u001b[0m \u001b[0;34m=\u001b[0m \u001b[0mself\u001b[0m\u001b[0;34m.\u001b[0m\u001b[0mtake\u001b[0m\u001b[0;34m(\u001b[0m\u001b[0msampled_indices\u001b[0m\u001b[0;34m,\u001b[0m \u001b[0maxis\u001b[0m\u001b[0;34m=\u001b[0m\u001b[0maxis\u001b[0m\u001b[0;34m)\u001b[0m\u001b[0;34m\u001b[0m\u001b[0;34m\u001b[0m\u001b[0m\n\u001b[1;32m   5775\u001b[0m \u001b[0;34m\u001b[0m\u001b[0m\n",
            "\u001b[0;32m/usr/local/lib/python3.10/dist-packages/pandas/core/sample.py\u001b[0m in \u001b[0;36msample\u001b[0;34m(obj_len, size, replace, weights, random_state)\u001b[0m\n\u001b[1;32m    148\u001b[0m             \u001b[0;32mraise\u001b[0m \u001b[0mValueError\u001b[0m\u001b[0;34m(\u001b[0m\u001b[0;34m\"Invalid weights: weights sum to zero\"\u001b[0m\u001b[0;34m)\u001b[0m\u001b[0;34m\u001b[0m\u001b[0;34m\u001b[0m\u001b[0m\n\u001b[1;32m    149\u001b[0m \u001b[0;34m\u001b[0m\u001b[0m\n\u001b[0;32m--> 150\u001b[0;31m     return random_state.choice(obj_len, size=size, replace=replace, p=weights).astype(\n\u001b[0m\u001b[1;32m    151\u001b[0m         \u001b[0mnp\u001b[0m\u001b[0;34m.\u001b[0m\u001b[0mintp\u001b[0m\u001b[0;34m,\u001b[0m \u001b[0mcopy\u001b[0m\u001b[0;34m=\u001b[0m\u001b[0;32mFalse\u001b[0m\u001b[0;34m\u001b[0m\u001b[0;34m\u001b[0m\u001b[0m\n\u001b[1;32m    152\u001b[0m     )\n",
            "\u001b[0;32mmtrand.pyx\u001b[0m in \u001b[0;36mnumpy.random.mtrand.RandomState.choice\u001b[0;34m()\u001b[0m\n",
            "\u001b[0;31mValueError\u001b[0m: Cannot take a larger sample than population when 'replace=False'"
          ]
        }
      ]
    },
    {
      "cell_type": "markdown",
      "source": [
        "replace: bool, default False\n",
        "It will allow or disallow sampling of the same row more than once."
      ],
      "metadata": {
        "id": "HeKvZhe718T_"
      }
    },
    {
      "cell_type": "code",
      "metadata": {
        "colab": {
          "base_uri": "https://localhost:8080/"
        },
        "id": "lFBUNOxu8scB",
        "outputId": "f527b201-3ed4-4267-c305-ee5066b970b4"
      },
      "source": [
        "df_class_1.sample(2000, replace=True).shape"
      ],
      "execution_count": null,
      "outputs": [
        {
          "output_type": "execute_result",
          "data": {
            "text/plain": [
              "(2000, 27)"
            ]
          },
          "metadata": {},
          "execution_count": 68
        }
      ]
    },
    {
      "cell_type": "code",
      "metadata": {
        "colab": {
          "base_uri": "https://localhost:8080/"
        },
        "id": "2U4qG9h58yY2",
        "outputId": "80cc5cb8-b1b4-4627-af96-082dcf3a2585"
      },
      "source": [
        "df_class_1_over = df_class_1.sample(count_class_0, replace=True)\n",
        "df_class_1_over.shape"
      ],
      "execution_count": null,
      "outputs": [
        {
          "output_type": "execute_result",
          "data": {
            "text/plain": [
              "(5163, 27)"
            ]
          },
          "metadata": {},
          "execution_count": 69
        }
      ]
    },
    {
      "cell_type": "markdown",
      "source": [
        "After applying the sample method, we concatenate the oversampled minority class with the majority class. It will form a single data frame."
      ],
      "metadata": {
        "id": "XfZciuHF2Ov2"
      }
    },
    {
      "cell_type": "code",
      "metadata": {
        "colab": {
          "base_uri": "https://localhost:8080/"
        },
        "id": "REjvSwya9DGU",
        "outputId": "8cb1609f-a2cc-4d0a-913f-d2ebc937124c"
      },
      "source": [
        "df_test_over = pd.concat([df_class_0, df_class_1_over], axis=0)\n",
        "\n",
        "print('Random over-sampling:')\n",
        "print(df_test_over.Churn.value_counts())"
      ],
      "execution_count": null,
      "outputs": [
        {
          "output_type": "stream",
          "name": "stdout",
          "text": [
            "Random over-sampling:\n",
            "0    5163\n",
            "1    5163\n",
            "Name: Churn, dtype: int64\n"
          ]
        }
      ]
    },
    {
      "cell_type": "code",
      "source": [
        "df_test_over"
      ],
      "metadata": {
        "colab": {
          "base_uri": "https://localhost:8080/",
          "height": 522
        },
        "id": "JojBk3_l2jw1",
        "outputId": "43063890-143e-4295-f628-c4f33cc0864c"
      },
      "execution_count": null,
      "outputs": [
        {
          "output_type": "execute_result",
          "data": {
            "text/plain": [
              "      gender  SeniorCitizen  Partner  Dependents  tenure  PhoneService  \\\n",
              "0          1              0        1           0       1             0   \n",
              "1          0              0        0           0      34             1   \n",
              "3          0              0        0           0      45             0   \n",
              "6          0              0        0           1      22             1   \n",
              "7          1              0        0           0      10             0   \n",
              "...      ...            ...      ...         ...     ...           ...   \n",
              "2613       1              0        0           0       1             1   \n",
              "2127       0              0        1           0      40             0   \n",
              "1970       1              0        1           0       7             1   \n",
              "6179       1              1        0           0      11             1   \n",
              "4746       0              0        0           0       2             1   \n",
              "\n",
              "      MultipleLines  OnlineSecurity  OnlineBackup  DeviceProtection  ...  \\\n",
              "0                 0               0             1                 0  ...   \n",
              "1                 0               1             0                 1  ...   \n",
              "3                 0               1             0                 1  ...   \n",
              "6                 1               0             1                 0  ...   \n",
              "7                 0               1             0                 0  ...   \n",
              "...             ...             ...           ...               ...  ...   \n",
              "2613              1               0             1                 0  ...   \n",
              "2127              0               1             1                 1  ...   \n",
              "1970              0               0             0                 0  ...   \n",
              "6179              1               0             0                 0  ...   \n",
              "4746              1               0             0                 0  ...   \n",
              "\n",
              "      InternetService_DSL  InternetService_Fiber optic  InternetService_No  \\\n",
              "0                       1                            0                   0   \n",
              "1                       1                            0                   0   \n",
              "3                       1                            0                   0   \n",
              "6                       0                            1                   0   \n",
              "7                       1                            0                   0   \n",
              "...                   ...                          ...                 ...   \n",
              "2613                    0                            1                   0   \n",
              "2127                    1                            0                   0   \n",
              "1970                    0                            1                   0   \n",
              "6179                    0                            1                   0   \n",
              "4746                    0                            1                   0   \n",
              "\n",
              "      Contract_Month-to-month  Contract_One year  Contract_Two year  \\\n",
              "0                           1                  0                  0   \n",
              "1                           0                  1                  0   \n",
              "3                           0                  1                  0   \n",
              "6                           1                  0                  0   \n",
              "7                           1                  0                  0   \n",
              "...                       ...                ...                ...   \n",
              "2613                        1                  0                  0   \n",
              "2127                        0                  1                  0   \n",
              "1970                        1                  0                  0   \n",
              "6179                        1                  0                  0   \n",
              "4746                        1                  0                  0   \n",
              "\n",
              "      PaymentMethod_Bank transfer (automatic)  \\\n",
              "0                                           0   \n",
              "1                                           0   \n",
              "3                                           1   \n",
              "6                                           0   \n",
              "7                                           0   \n",
              "...                                       ...   \n",
              "2613                                        0   \n",
              "2127                                        0   \n",
              "1970                                        0   \n",
              "6179                                        1   \n",
              "4746                                        0   \n",
              "\n",
              "      PaymentMethod_Credit card (automatic)  PaymentMethod_Electronic check  \\\n",
              "0                                         0                               1   \n",
              "1                                         0                               0   \n",
              "3                                         0                               0   \n",
              "6                                         1                               0   \n",
              "7                                         0                               0   \n",
              "...                                     ...                             ...   \n",
              "2613                                      0                               0   \n",
              "2127                                      0                               1   \n",
              "1970                                      0                               1   \n",
              "6179                                      0                               0   \n",
              "4746                                      0                               1   \n",
              "\n",
              "      PaymentMethod_Mailed check  \n",
              "0                              0  \n",
              "1                              1  \n",
              "3                              0  \n",
              "6                              0  \n",
              "7                              1  \n",
              "...                          ...  \n",
              "2613                           1  \n",
              "2127                           0  \n",
              "1970                           0  \n",
              "6179                           0  \n",
              "4746                           0  \n",
              "\n",
              "[10326 rows x 27 columns]"
            ],
            "text/html": [
              "\n",
              "  <div id=\"df-f5178851-3d62-4ef0-89b7-a6a8e32669ae\">\n",
              "    <div class=\"colab-df-container\">\n",
              "      <div>\n",
              "<style scoped>\n",
              "    .dataframe tbody tr th:only-of-type {\n",
              "        vertical-align: middle;\n",
              "    }\n",
              "\n",
              "    .dataframe tbody tr th {\n",
              "        vertical-align: top;\n",
              "    }\n",
              "\n",
              "    .dataframe thead th {\n",
              "        text-align: right;\n",
              "    }\n",
              "</style>\n",
              "<table border=\"1\" class=\"dataframe\">\n",
              "  <thead>\n",
              "    <tr style=\"text-align: right;\">\n",
              "      <th></th>\n",
              "      <th>gender</th>\n",
              "      <th>SeniorCitizen</th>\n",
              "      <th>Partner</th>\n",
              "      <th>Dependents</th>\n",
              "      <th>tenure</th>\n",
              "      <th>PhoneService</th>\n",
              "      <th>MultipleLines</th>\n",
              "      <th>OnlineSecurity</th>\n",
              "      <th>OnlineBackup</th>\n",
              "      <th>DeviceProtection</th>\n",
              "      <th>...</th>\n",
              "      <th>InternetService_DSL</th>\n",
              "      <th>InternetService_Fiber optic</th>\n",
              "      <th>InternetService_No</th>\n",
              "      <th>Contract_Month-to-month</th>\n",
              "      <th>Contract_One year</th>\n",
              "      <th>Contract_Two year</th>\n",
              "      <th>PaymentMethod_Bank transfer (automatic)</th>\n",
              "      <th>PaymentMethod_Credit card (automatic)</th>\n",
              "      <th>PaymentMethod_Electronic check</th>\n",
              "      <th>PaymentMethod_Mailed check</th>\n",
              "    </tr>\n",
              "  </thead>\n",
              "  <tbody>\n",
              "    <tr>\n",
              "      <th>0</th>\n",
              "      <td>1</td>\n",
              "      <td>0</td>\n",
              "      <td>1</td>\n",
              "      <td>0</td>\n",
              "      <td>1</td>\n",
              "      <td>0</td>\n",
              "      <td>0</td>\n",
              "      <td>0</td>\n",
              "      <td>1</td>\n",
              "      <td>0</td>\n",
              "      <td>...</td>\n",
              "      <td>1</td>\n",
              "      <td>0</td>\n",
              "      <td>0</td>\n",
              "      <td>1</td>\n",
              "      <td>0</td>\n",
              "      <td>0</td>\n",
              "      <td>0</td>\n",
              "      <td>0</td>\n",
              "      <td>1</td>\n",
              "      <td>0</td>\n",
              "    </tr>\n",
              "    <tr>\n",
              "      <th>1</th>\n",
              "      <td>0</td>\n",
              "      <td>0</td>\n",
              "      <td>0</td>\n",
              "      <td>0</td>\n",
              "      <td>34</td>\n",
              "      <td>1</td>\n",
              "      <td>0</td>\n",
              "      <td>1</td>\n",
              "      <td>0</td>\n",
              "      <td>1</td>\n",
              "      <td>...</td>\n",
              "      <td>1</td>\n",
              "      <td>0</td>\n",
              "      <td>0</td>\n",
              "      <td>0</td>\n",
              "      <td>1</td>\n",
              "      <td>0</td>\n",
              "      <td>0</td>\n",
              "      <td>0</td>\n",
              "      <td>0</td>\n",
              "      <td>1</td>\n",
              "    </tr>\n",
              "    <tr>\n",
              "      <th>3</th>\n",
              "      <td>0</td>\n",
              "      <td>0</td>\n",
              "      <td>0</td>\n",
              "      <td>0</td>\n",
              "      <td>45</td>\n",
              "      <td>0</td>\n",
              "      <td>0</td>\n",
              "      <td>1</td>\n",
              "      <td>0</td>\n",
              "      <td>1</td>\n",
              "      <td>...</td>\n",
              "      <td>1</td>\n",
              "      <td>0</td>\n",
              "      <td>0</td>\n",
              "      <td>0</td>\n",
              "      <td>1</td>\n",
              "      <td>0</td>\n",
              "      <td>1</td>\n",
              "      <td>0</td>\n",
              "      <td>0</td>\n",
              "      <td>0</td>\n",
              "    </tr>\n",
              "    <tr>\n",
              "      <th>6</th>\n",
              "      <td>0</td>\n",
              "      <td>0</td>\n",
              "      <td>0</td>\n",
              "      <td>1</td>\n",
              "      <td>22</td>\n",
              "      <td>1</td>\n",
              "      <td>1</td>\n",
              "      <td>0</td>\n",
              "      <td>1</td>\n",
              "      <td>0</td>\n",
              "      <td>...</td>\n",
              "      <td>0</td>\n",
              "      <td>1</td>\n",
              "      <td>0</td>\n",
              "      <td>1</td>\n",
              "      <td>0</td>\n",
              "      <td>0</td>\n",
              "      <td>0</td>\n",
              "      <td>1</td>\n",
              "      <td>0</td>\n",
              "      <td>0</td>\n",
              "    </tr>\n",
              "    <tr>\n",
              "      <th>7</th>\n",
              "      <td>1</td>\n",
              "      <td>0</td>\n",
              "      <td>0</td>\n",
              "      <td>0</td>\n",
              "      <td>10</td>\n",
              "      <td>0</td>\n",
              "      <td>0</td>\n",
              "      <td>1</td>\n",
              "      <td>0</td>\n",
              "      <td>0</td>\n",
              "      <td>...</td>\n",
              "      <td>1</td>\n",
              "      <td>0</td>\n",
              "      <td>0</td>\n",
              "      <td>1</td>\n",
              "      <td>0</td>\n",
              "      <td>0</td>\n",
              "      <td>0</td>\n",
              "      <td>0</td>\n",
              "      <td>0</td>\n",
              "      <td>1</td>\n",
              "    </tr>\n",
              "    <tr>\n",
              "      <th>...</th>\n",
              "      <td>...</td>\n",
              "      <td>...</td>\n",
              "      <td>...</td>\n",
              "      <td>...</td>\n",
              "      <td>...</td>\n",
              "      <td>...</td>\n",
              "      <td>...</td>\n",
              "      <td>...</td>\n",
              "      <td>...</td>\n",
              "      <td>...</td>\n",
              "      <td>...</td>\n",
              "      <td>...</td>\n",
              "      <td>...</td>\n",
              "      <td>...</td>\n",
              "      <td>...</td>\n",
              "      <td>...</td>\n",
              "      <td>...</td>\n",
              "      <td>...</td>\n",
              "      <td>...</td>\n",
              "      <td>...</td>\n",
              "      <td>...</td>\n",
              "    </tr>\n",
              "    <tr>\n",
              "      <th>2613</th>\n",
              "      <td>1</td>\n",
              "      <td>0</td>\n",
              "      <td>0</td>\n",
              "      <td>0</td>\n",
              "      <td>1</td>\n",
              "      <td>1</td>\n",
              "      <td>1</td>\n",
              "      <td>0</td>\n",
              "      <td>1</td>\n",
              "      <td>0</td>\n",
              "      <td>...</td>\n",
              "      <td>0</td>\n",
              "      <td>1</td>\n",
              "      <td>0</td>\n",
              "      <td>1</td>\n",
              "      <td>0</td>\n",
              "      <td>0</td>\n",
              "      <td>0</td>\n",
              "      <td>0</td>\n",
              "      <td>0</td>\n",
              "      <td>1</td>\n",
              "    </tr>\n",
              "    <tr>\n",
              "      <th>2127</th>\n",
              "      <td>0</td>\n",
              "      <td>0</td>\n",
              "      <td>1</td>\n",
              "      <td>0</td>\n",
              "      <td>40</td>\n",
              "      <td>0</td>\n",
              "      <td>0</td>\n",
              "      <td>1</td>\n",
              "      <td>1</td>\n",
              "      <td>1</td>\n",
              "      <td>...</td>\n",
              "      <td>1</td>\n",
              "      <td>0</td>\n",
              "      <td>0</td>\n",
              "      <td>0</td>\n",
              "      <td>1</td>\n",
              "      <td>0</td>\n",
              "      <td>0</td>\n",
              "      <td>0</td>\n",
              "      <td>1</td>\n",
              "      <td>0</td>\n",
              "    </tr>\n",
              "    <tr>\n",
              "      <th>1970</th>\n",
              "      <td>1</td>\n",
              "      <td>0</td>\n",
              "      <td>1</td>\n",
              "      <td>0</td>\n",
              "      <td>7</td>\n",
              "      <td>1</td>\n",
              "      <td>0</td>\n",
              "      <td>0</td>\n",
              "      <td>0</td>\n",
              "      <td>0</td>\n",
              "      <td>...</td>\n",
              "      <td>0</td>\n",
              "      <td>1</td>\n",
              "      <td>0</td>\n",
              "      <td>1</td>\n",
              "      <td>0</td>\n",
              "      <td>0</td>\n",
              "      <td>0</td>\n",
              "      <td>0</td>\n",
              "      <td>1</td>\n",
              "      <td>0</td>\n",
              "    </tr>\n",
              "    <tr>\n",
              "      <th>6179</th>\n",
              "      <td>1</td>\n",
              "      <td>1</td>\n",
              "      <td>0</td>\n",
              "      <td>0</td>\n",
              "      <td>11</td>\n",
              "      <td>1</td>\n",
              "      <td>1</td>\n",
              "      <td>0</td>\n",
              "      <td>0</td>\n",
              "      <td>0</td>\n",
              "      <td>...</td>\n",
              "      <td>0</td>\n",
              "      <td>1</td>\n",
              "      <td>0</td>\n",
              "      <td>1</td>\n",
              "      <td>0</td>\n",
              "      <td>0</td>\n",
              "      <td>1</td>\n",
              "      <td>0</td>\n",
              "      <td>0</td>\n",
              "      <td>0</td>\n",
              "    </tr>\n",
              "    <tr>\n",
              "      <th>4746</th>\n",
              "      <td>0</td>\n",
              "      <td>0</td>\n",
              "      <td>0</td>\n",
              "      <td>0</td>\n",
              "      <td>2</td>\n",
              "      <td>1</td>\n",
              "      <td>1</td>\n",
              "      <td>0</td>\n",
              "      <td>0</td>\n",
              "      <td>0</td>\n",
              "      <td>...</td>\n",
              "      <td>0</td>\n",
              "      <td>1</td>\n",
              "      <td>0</td>\n",
              "      <td>1</td>\n",
              "      <td>0</td>\n",
              "      <td>0</td>\n",
              "      <td>0</td>\n",
              "      <td>0</td>\n",
              "      <td>1</td>\n",
              "      <td>0</td>\n",
              "    </tr>\n",
              "  </tbody>\n",
              "</table>\n",
              "<p>10326 rows × 27 columns</p>\n",
              "</div>\n",
              "      <button class=\"colab-df-convert\" onclick=\"convertToInteractive('df-f5178851-3d62-4ef0-89b7-a6a8e32669ae')\"\n",
              "              title=\"Convert this dataframe to an interactive table.\"\n",
              "              style=\"display:none;\">\n",
              "        \n",
              "  <svg xmlns=\"http://www.w3.org/2000/svg\" height=\"24px\"viewBox=\"0 0 24 24\"\n",
              "       width=\"24px\">\n",
              "    <path d=\"M0 0h24v24H0V0z\" fill=\"none\"/>\n",
              "    <path d=\"M18.56 5.44l.94 2.06.94-2.06 2.06-.94-2.06-.94-.94-2.06-.94 2.06-2.06.94zm-11 1L8.5 8.5l.94-2.06 2.06-.94-2.06-.94L8.5 2.5l-.94 2.06-2.06.94zm10 10l.94 2.06.94-2.06 2.06-.94-2.06-.94-.94-2.06-.94 2.06-2.06.94z\"/><path d=\"M17.41 7.96l-1.37-1.37c-.4-.4-.92-.59-1.43-.59-.52 0-1.04.2-1.43.59L10.3 9.45l-7.72 7.72c-.78.78-.78 2.05 0 2.83L4 21.41c.39.39.9.59 1.41.59.51 0 1.02-.2 1.41-.59l7.78-7.78 2.81-2.81c.8-.78.8-2.07 0-2.86zM5.41 20L4 18.59l7.72-7.72 1.47 1.35L5.41 20z\"/>\n",
              "  </svg>\n",
              "      </button>\n",
              "      \n",
              "  <style>\n",
              "    .colab-df-container {\n",
              "      display:flex;\n",
              "      flex-wrap:wrap;\n",
              "      gap: 12px;\n",
              "    }\n",
              "\n",
              "    .colab-df-convert {\n",
              "      background-color: #E8F0FE;\n",
              "      border: none;\n",
              "      border-radius: 50%;\n",
              "      cursor: pointer;\n",
              "      display: none;\n",
              "      fill: #1967D2;\n",
              "      height: 32px;\n",
              "      padding: 0 0 0 0;\n",
              "      width: 32px;\n",
              "    }\n",
              "\n",
              "    .colab-df-convert:hover {\n",
              "      background-color: #E2EBFA;\n",
              "      box-shadow: 0px 1px 2px rgba(60, 64, 67, 0.3), 0px 1px 3px 1px rgba(60, 64, 67, 0.15);\n",
              "      fill: #174EA6;\n",
              "    }\n",
              "\n",
              "    [theme=dark] .colab-df-convert {\n",
              "      background-color: #3B4455;\n",
              "      fill: #D2E3FC;\n",
              "    }\n",
              "\n",
              "    [theme=dark] .colab-df-convert:hover {\n",
              "      background-color: #434B5C;\n",
              "      box-shadow: 0px 1px 3px 1px rgba(0, 0, 0, 0.15);\n",
              "      filter: drop-shadow(0px 1px 2px rgba(0, 0, 0, 0.3));\n",
              "      fill: #FFFFFF;\n",
              "    }\n",
              "  </style>\n",
              "\n",
              "      <script>\n",
              "        const buttonEl =\n",
              "          document.querySelector('#df-f5178851-3d62-4ef0-89b7-a6a8e32669ae button.colab-df-convert');\n",
              "        buttonEl.style.display =\n",
              "          google.colab.kernel.accessAllowed ? 'block' : 'none';\n",
              "\n",
              "        async function convertToInteractive(key) {\n",
              "          const element = document.querySelector('#df-f5178851-3d62-4ef0-89b7-a6a8e32669ae');\n",
              "          const dataTable =\n",
              "            await google.colab.kernel.invokeFunction('convertToInteractive',\n",
              "                                                     [key], {});\n",
              "          if (!dataTable) return;\n",
              "\n",
              "          const docLinkHtml = 'Like what you see? Visit the ' +\n",
              "            '<a target=\"_blank\" href=https://colab.research.google.com/notebooks/data_table.ipynb>data table notebook</a>'\n",
              "            + ' to learn more about interactive tables.';\n",
              "          element.innerHTML = '';\n",
              "          dataTable['output_type'] = 'display_data';\n",
              "          await google.colab.output.renderOutput(dataTable, element);\n",
              "          const docLink = document.createElement('div');\n",
              "          docLink.innerHTML = docLinkHtml;\n",
              "          element.appendChild(docLink);\n",
              "        }\n",
              "      </script>\n",
              "    </div>\n",
              "  </div>\n",
              "  "
            ]
          },
          "metadata": {},
          "execution_count": 72
        }
      ]
    },
    {
      "cell_type": "code",
      "metadata": {
        "id": "gU9HuRcG9NJO"
      },
      "source": [
        "X = df_test_over.drop('Churn',axis='columns')\n",
        "y = df_test_over['Churn']\n",
        "\n",
        "from sklearn.model_selection import train_test_split\n",
        "X_train, X_test, y_train, y_test = train_test_split(X, y, test_size=0.2, random_state=15, stratify=y)\n",
        "\n",
        "cols_to_scale = ['tenure','MonthlyCharges','TotalCharges']\n",
        "\n",
        "from sklearn.preprocessing import MinMaxScaler\n",
        "scaler = MinMaxScaler()\n",
        "X_train[cols_to_scale] = scaler.fit_transform(X_train[cols_to_scale])\n",
        "X_test[cols_to_scale] = scaler.fit_transform(X_test[cols_to_scale])"
      ],
      "execution_count": null,
      "outputs": []
    },
    {
      "cell_type": "code",
      "metadata": {
        "colab": {
          "base_uri": "https://localhost:8080/"
        },
        "id": "sULseGMu9bvH",
        "outputId": "5524d68c-fb71-4b3c-8b93-c3bb30947b28"
      },
      "source": [
        "# Number of classes in training Data\n",
        "y_train.value_counts()"
      ],
      "execution_count": null,
      "outputs": [
        {
          "output_type": "execute_result",
          "data": {
            "text/plain": [
              "1    4130\n",
              "0    4130\n",
              "Name: Churn, dtype: int64"
            ]
          },
          "metadata": {},
          "execution_count": 73
        }
      ]
    },
    {
      "cell_type": "code",
      "metadata": {
        "colab": {
          "base_uri": "https://localhost:8080/"
        },
        "id": "FvqH7R249dy6",
        "outputId": "763b78fd-92a7-4ade-94d2-9afef8ca5cda"
      },
      "source": [
        "loss = keras.losses.BinaryCrossentropy()\n",
        "weights = -1\n",
        "y_preds = ANN(X_train, y_train, X_test, y_test, 'binary_crossentropy', -1)"
      ],
      "execution_count": null,
      "outputs": [
        {
          "output_type": "stream",
          "name": "stdout",
          "text": [
            "Epoch 1/100\n",
            "259/259 [==============================] - 3s 5ms/step - loss: 0.5540 - accuracy: 0.7127\n",
            "Epoch 2/100\n",
            "259/259 [==============================] - 1s 5ms/step - loss: 0.4934 - accuracy: 0.7582\n",
            "Epoch 3/100\n",
            "259/259 [==============================] - 1s 5ms/step - loss: 0.4853 - accuracy: 0.7594\n",
            "Epoch 4/100\n",
            "259/259 [==============================] - 1s 4ms/step - loss: 0.4822 - accuracy: 0.7669\n",
            "Epoch 5/100\n",
            "259/259 [==============================] - 1s 3ms/step - loss: 0.4789 - accuracy: 0.7678\n",
            "Epoch 6/100\n",
            "259/259 [==============================] - 1s 3ms/step - loss: 0.4755 - accuracy: 0.7712\n",
            "Epoch 7/100\n",
            "259/259 [==============================] - 1s 3ms/step - loss: 0.4725 - accuracy: 0.7749\n",
            "Epoch 8/100\n",
            "259/259 [==============================] - 1s 3ms/step - loss: 0.4698 - accuracy: 0.7752\n",
            "Epoch 9/100\n",
            "259/259 [==============================] - 1s 3ms/step - loss: 0.4673 - accuracy: 0.7747\n",
            "Epoch 10/100\n",
            "259/259 [==============================] - 1s 2ms/step - loss: 0.4629 - accuracy: 0.7797\n",
            "Epoch 11/100\n",
            "259/259 [==============================] - 0s 2ms/step - loss: 0.4613 - accuracy: 0.7806\n",
            "Epoch 12/100\n",
            "259/259 [==============================] - 0s 2ms/step - loss: 0.4579 - accuracy: 0.7810\n",
            "Epoch 13/100\n",
            "259/259 [==============================] - 0s 2ms/step - loss: 0.4562 - accuracy: 0.7822\n",
            "Epoch 14/100\n",
            "259/259 [==============================] - 0s 2ms/step - loss: 0.4538 - accuracy: 0.7840\n",
            "Epoch 15/100\n",
            "259/259 [==============================] - 0s 2ms/step - loss: 0.4511 - accuracy: 0.7861\n",
            "Epoch 16/100\n",
            "259/259 [==============================] - 0s 2ms/step - loss: 0.4489 - accuracy: 0.7856\n",
            "Epoch 17/100\n",
            "259/259 [==============================] - 0s 2ms/step - loss: 0.4466 - accuracy: 0.7889\n",
            "Epoch 18/100\n",
            "259/259 [==============================] - 1s 2ms/step - loss: 0.4440 - accuracy: 0.7880\n",
            "Epoch 19/100\n",
            "259/259 [==============================] - 1s 2ms/step - loss: 0.4421 - accuracy: 0.7924\n",
            "Epoch 20/100\n",
            "259/259 [==============================] - 0s 2ms/step - loss: 0.4408 - accuracy: 0.7927\n",
            "Epoch 21/100\n",
            "259/259 [==============================] - 1s 2ms/step - loss: 0.4403 - accuracy: 0.7898\n",
            "Epoch 22/100\n",
            "259/259 [==============================] - 0s 2ms/step - loss: 0.4393 - accuracy: 0.7939\n",
            "Epoch 23/100\n",
            "259/259 [==============================] - 0s 2ms/step - loss: 0.4384 - accuracy: 0.7900\n",
            "Epoch 24/100\n",
            "259/259 [==============================] - 1s 2ms/step - loss: 0.4347 - accuracy: 0.7964\n",
            "Epoch 25/100\n",
            "259/259 [==============================] - 1s 2ms/step - loss: 0.4335 - accuracy: 0.7971\n",
            "Epoch 26/100\n",
            "259/259 [==============================] - 0s 2ms/step - loss: 0.4328 - accuracy: 0.7984\n",
            "Epoch 27/100\n",
            "259/259 [==============================] - 0s 2ms/step - loss: 0.4320 - accuracy: 0.7979\n",
            "Epoch 28/100\n",
            "259/259 [==============================] - 0s 2ms/step - loss: 0.4299 - accuracy: 0.7999\n",
            "Epoch 29/100\n",
            "259/259 [==============================] - 0s 2ms/step - loss: 0.4285 - accuracy: 0.7996\n",
            "Epoch 30/100\n",
            "259/259 [==============================] - 1s 2ms/step - loss: 0.4278 - accuracy: 0.7998\n",
            "Epoch 31/100\n",
            "259/259 [==============================] - 1s 3ms/step - loss: 0.4263 - accuracy: 0.8022\n",
            "Epoch 32/100\n",
            "259/259 [==============================] - 1s 3ms/step - loss: 0.4250 - accuracy: 0.8031\n",
            "Epoch 33/100\n",
            "259/259 [==============================] - 1s 3ms/step - loss: 0.4240 - accuracy: 0.8034\n",
            "Epoch 34/100\n",
            "259/259 [==============================] - 1s 3ms/step - loss: 0.4222 - accuracy: 0.8057\n",
            "Epoch 35/100\n",
            "259/259 [==============================] - 0s 2ms/step - loss: 0.4222 - accuracy: 0.8042\n",
            "Epoch 36/100\n",
            "259/259 [==============================] - 0s 2ms/step - loss: 0.4213 - accuracy: 0.8030\n",
            "Epoch 37/100\n",
            "259/259 [==============================] - 0s 2ms/step - loss: 0.4219 - accuracy: 0.8068\n",
            "Epoch 38/100\n",
            "259/259 [==============================] - 0s 2ms/step - loss: 0.4194 - accuracy: 0.8052\n",
            "Epoch 39/100\n",
            "259/259 [==============================] - 0s 2ms/step - loss: 0.4166 - accuracy: 0.8076\n",
            "Epoch 40/100\n",
            "259/259 [==============================] - 0s 2ms/step - loss: 0.4171 - accuracy: 0.8097\n",
            "Epoch 41/100\n",
            "259/259 [==============================] - 0s 2ms/step - loss: 0.4152 - accuracy: 0.8081\n",
            "Epoch 42/100\n",
            "259/259 [==============================] - 0s 2ms/step - loss: 0.4141 - accuracy: 0.8062\n",
            "Epoch 43/100\n",
            "259/259 [==============================] - 0s 2ms/step - loss: 0.4137 - accuracy: 0.8099\n",
            "Epoch 44/100\n",
            "259/259 [==============================] - 0s 2ms/step - loss: 0.4125 - accuracy: 0.8103\n",
            "Epoch 45/100\n",
            "259/259 [==============================] - 0s 2ms/step - loss: 0.4137 - accuracy: 0.8077\n",
            "Epoch 46/100\n",
            "259/259 [==============================] - 0s 2ms/step - loss: 0.4106 - accuracy: 0.8120\n",
            "Epoch 47/100\n",
            "259/259 [==============================] - 0s 2ms/step - loss: 0.4104 - accuracy: 0.8073\n",
            "Epoch 48/100\n",
            "259/259 [==============================] - 0s 2ms/step - loss: 0.4085 - accuracy: 0.8115\n",
            "Epoch 49/100\n",
            "259/259 [==============================] - 1s 2ms/step - loss: 0.4071 - accuracy: 0.8145\n",
            "Epoch 50/100\n",
            "259/259 [==============================] - 1s 2ms/step - loss: 0.4065 - accuracy: 0.8142\n",
            "Epoch 51/100\n",
            "259/259 [==============================] - 0s 2ms/step - loss: 0.4066 - accuracy: 0.8128\n",
            "Epoch 52/100\n",
            "259/259 [==============================] - 0s 2ms/step - loss: 0.4059 - accuracy: 0.8156\n",
            "Epoch 53/100\n",
            "259/259 [==============================] - 1s 2ms/step - loss: 0.4062 - accuracy: 0.8134\n",
            "Epoch 54/100\n",
            "259/259 [==============================] - 0s 2ms/step - loss: 0.4031 - accuracy: 0.8122\n",
            "Epoch 55/100\n",
            "259/259 [==============================] - 1s 3ms/step - loss: 0.4023 - accuracy: 0.8140\n",
            "Epoch 56/100\n",
            "259/259 [==============================] - 1s 3ms/step - loss: 0.4030 - accuracy: 0.8153\n",
            "Epoch 57/100\n",
            "259/259 [==============================] - 1s 3ms/step - loss: 0.4016 - accuracy: 0.8165\n",
            "Epoch 58/100\n",
            "259/259 [==============================] - 1s 3ms/step - loss: 0.4013 - accuracy: 0.8160\n",
            "Epoch 59/100\n",
            "259/259 [==============================] - 0s 2ms/step - loss: 0.3988 - accuracy: 0.8168\n",
            "Epoch 60/100\n",
            "259/259 [==============================] - 1s 2ms/step - loss: 0.3990 - accuracy: 0.8196\n",
            "Epoch 61/100\n",
            "259/259 [==============================] - 1s 2ms/step - loss: 0.3987 - accuracy: 0.8184\n",
            "Epoch 62/100\n",
            "259/259 [==============================] - 0s 2ms/step - loss: 0.3972 - accuracy: 0.8185\n",
            "Epoch 63/100\n",
            "259/259 [==============================] - 1s 2ms/step - loss: 0.3968 - accuracy: 0.8188\n",
            "Epoch 64/100\n",
            "259/259 [==============================] - 1s 2ms/step - loss: 0.3960 - accuracy: 0.8194\n",
            "Epoch 65/100\n",
            "259/259 [==============================] - 0s 2ms/step - loss: 0.3953 - accuracy: 0.8225\n",
            "Epoch 66/100\n",
            "259/259 [==============================] - 0s 2ms/step - loss: 0.3941 - accuracy: 0.8205\n",
            "Epoch 67/100\n",
            "259/259 [==============================] - 1s 2ms/step - loss: 0.3935 - accuracy: 0.8211\n",
            "Epoch 68/100\n",
            "259/259 [==============================] - 1s 2ms/step - loss: 0.3918 - accuracy: 0.8243\n",
            "Epoch 69/100\n",
            "259/259 [==============================] - 0s 2ms/step - loss: 0.3926 - accuracy: 0.8179\n",
            "Epoch 70/100\n",
            "259/259 [==============================] - 0s 2ms/step - loss: 0.3913 - accuracy: 0.8246\n",
            "Epoch 71/100\n",
            "259/259 [==============================] - 0s 2ms/step - loss: 0.3905 - accuracy: 0.8219\n",
            "Epoch 72/100\n",
            "259/259 [==============================] - 1s 2ms/step - loss: 0.3902 - accuracy: 0.8223\n",
            "Epoch 73/100\n",
            "259/259 [==============================] - 1s 2ms/step - loss: 0.3891 - accuracy: 0.8232\n",
            "Epoch 74/100\n",
            "259/259 [==============================] - 0s 2ms/step - loss: 0.3886 - accuracy: 0.8240\n",
            "Epoch 75/100\n",
            "259/259 [==============================] - 0s 2ms/step - loss: 0.3867 - accuracy: 0.8240\n",
            "Epoch 76/100\n",
            "259/259 [==============================] - 1s 2ms/step - loss: 0.3868 - accuracy: 0.8265\n",
            "Epoch 77/100\n",
            "259/259 [==============================] - 1s 2ms/step - loss: 0.3869 - accuracy: 0.8255\n",
            "Epoch 78/100\n",
            "259/259 [==============================] - 1s 2ms/step - loss: 0.3867 - accuracy: 0.8259\n",
            "Epoch 79/100\n",
            "259/259 [==============================] - 1s 3ms/step - loss: 0.3859 - accuracy: 0.8236\n",
            "Epoch 80/100\n",
            "259/259 [==============================] - 1s 3ms/step - loss: 0.3845 - accuracy: 0.8255\n",
            "Epoch 81/100\n",
            "259/259 [==============================] - 1s 3ms/step - loss: 0.3860 - accuracy: 0.8271\n",
            "Epoch 82/100\n",
            "259/259 [==============================] - 1s 3ms/step - loss: 0.3832 - accuracy: 0.8276\n",
            "Epoch 83/100\n",
            "259/259 [==============================] - 0s 2ms/step - loss: 0.3825 - accuracy: 0.8293\n",
            "Epoch 84/100\n",
            "259/259 [==============================] - 0s 2ms/step - loss: 0.3830 - accuracy: 0.8271\n",
            "Epoch 85/100\n",
            "259/259 [==============================] - 1s 2ms/step - loss: 0.3825 - accuracy: 0.8264\n",
            "Epoch 86/100\n",
            "259/259 [==============================] - 0s 2ms/step - loss: 0.3818 - accuracy: 0.8231\n",
            "Epoch 87/100\n",
            "259/259 [==============================] - 0s 2ms/step - loss: 0.3804 - accuracy: 0.8299\n",
            "Epoch 88/100\n",
            "259/259 [==============================] - 0s 2ms/step - loss: 0.3794 - accuracy: 0.8285\n",
            "Epoch 89/100\n",
            "259/259 [==============================] - 0s 2ms/step - loss: 0.3796 - accuracy: 0.8291\n",
            "Epoch 90/100\n",
            "259/259 [==============================] - 0s 2ms/step - loss: 0.3784 - accuracy: 0.8304\n",
            "Epoch 91/100\n",
            "259/259 [==============================] - 0s 2ms/step - loss: 0.3777 - accuracy: 0.8289\n",
            "Epoch 92/100\n",
            "259/259 [==============================] - 0s 2ms/step - loss: 0.3772 - accuracy: 0.8287\n",
            "Epoch 93/100\n",
            "259/259 [==============================] - 0s 2ms/step - loss: 0.3778 - accuracy: 0.8317\n",
            "Epoch 94/100\n",
            "259/259 [==============================] - 0s 2ms/step - loss: 0.3766 - accuracy: 0.8297\n",
            "Epoch 95/100\n",
            "259/259 [==============================] - 0s 2ms/step - loss: 0.3756 - accuracy: 0.8291\n",
            "Epoch 96/100\n",
            "259/259 [==============================] - 1s 2ms/step - loss: 0.3753 - accuracy: 0.8317\n",
            "Epoch 97/100\n",
            "259/259 [==============================] - 1s 2ms/step - loss: 0.3749 - accuracy: 0.8300\n",
            "Epoch 98/100\n",
            "259/259 [==============================] - 1s 2ms/step - loss: 0.3752 - accuracy: 0.8301\n",
            "Epoch 99/100\n",
            "259/259 [==============================] - 1s 2ms/step - loss: 0.3728 - accuracy: 0.8315\n",
            "Epoch 100/100\n",
            "259/259 [==============================] - 1s 4ms/step - loss: 0.3728 - accuracy: 0.8309\n",
            "65/65 [==============================] - 0s 2ms/step - loss: 0.4665 - accuracy: 0.7773\n",
            "[0.466525137424469, 0.7773475050926208]\n",
            "65/65 [==============================] - 0s 2ms/step\n",
            "Classification Report: \n",
            "               precision    recall  f1-score   support\n",
            "\n",
            "           0       0.81      0.73      0.77      1033\n",
            "           1       0.75      0.83      0.79      1033\n",
            "\n",
            "    accuracy                           0.78      2066\n",
            "   macro avg       0.78      0.78      0.78      2066\n",
            "weighted avg       0.78      0.78      0.78      2066\n",
            "\n"
          ]
        }
      ]
    },
    {
      "cell_type": "markdown",
      "metadata": {
        "id": "8nrNuTuG97f3"
      },
      "source": [
        "Check classification report above. f1-score for minority class 1 improved from 0.51 to 0.79. Score for class 0 reduced to 0.77 from 0.85 but that's ok. We have more generalized classifier which classifies both classes with similar prediction score"
      ]
    },
    {
      "cell_type": "markdown",
      "metadata": {
        "id": "QqrUwlNQ-DSr"
      },
      "source": [
        "# Method 3: SMOTE\n",
        "\n",
        "Synthetic Minority Oversampling Technique (SMOTE) is a machine learning technique that balances the dataset classes. It generates synthetic and unique data samples for the minority class to achieve a balanced dataset. We will import SMOTE from Imbalanced-learn.\n",
        "\n",
        "To install Imbalanced-learn, execute this command in Google Colab.\n",
        "\n",
        "! pip install imbalanced-learn"
      ]
    },
    {
      "cell_type": "code",
      "metadata": {
        "id": "aIFp3ZJ9-499"
      },
      "source": [
        "X = df2.drop('Churn',axis='columns')\n",
        "y = df2['Churn']"
      ],
      "execution_count": null,
      "outputs": []
    },
    {
      "cell_type": "code",
      "metadata": {
        "colab": {
          "base_uri": "https://localhost:8080/"
        },
        "id": "AhvX2r4A9i4z",
        "outputId": "34945041-501a-48ea-904a-f958670137bc"
      },
      "source": [
        "y.value_counts()"
      ],
      "execution_count": null,
      "outputs": [
        {
          "output_type": "execute_result",
          "data": {
            "text/plain": [
              "0    5163\n",
              "1    1869\n",
              "Name: Churn, dtype: int64"
            ]
          },
          "metadata": {},
          "execution_count": 76
        }
      ]
    },
    {
      "cell_type": "code",
      "metadata": {
        "id": "n93CvMcb-rda"
      },
      "source": [
        "from imblearn.over_sampling import SMOTE\n",
        "\n",
        "smote = SMOTE(sampling_strategy='minority')\n",
        "X_sm, y_sm = smote.fit_resample(X, y)"
      ],
      "execution_count": null,
      "outputs": []
    },
    {
      "cell_type": "code",
      "metadata": {
        "colab": {
          "base_uri": "https://localhost:8080/"
        },
        "id": "LECcfynG_BVK",
        "outputId": "e321f1d3-8bdd-4c4f-e29c-5fd26668491c"
      },
      "source": [
        "y_sm.value_counts()"
      ],
      "execution_count": null,
      "outputs": [
        {
          "output_type": "execute_result",
          "data": {
            "text/plain": [
              "0    5163\n",
              "1    5163\n",
              "Name: Churn, dtype: int64"
            ]
          },
          "metadata": {},
          "execution_count": 79
        }
      ]
    },
    {
      "cell_type": "code",
      "metadata": {
        "id": "qJUk_uke_L-a"
      },
      "source": [
        "from sklearn.model_selection import train_test_split\n",
        "X_train, X_test, y_train, y_test = train_test_split(X_sm, y_sm, test_size=0.2, random_state=15, stratify=y_sm)\n",
        "\n",
        "cols_to_scale = ['tenure','MonthlyCharges','TotalCharges']\n",
        "\n",
        "from sklearn.preprocessing import MinMaxScaler\n",
        "scaler = MinMaxScaler()\n",
        "X_train[cols_to_scale] = scaler.fit_transform(X_train[cols_to_scale])\n",
        "X_test[cols_to_scale] = scaler.fit_transform(X_test[cols_to_scale])"
      ],
      "execution_count": null,
      "outputs": []
    },
    {
      "cell_type": "code",
      "metadata": {
        "colab": {
          "base_uri": "https://localhost:8080/"
        },
        "id": "nzNVkoTR_uEF",
        "outputId": "9799c7c5-abb2-459d-e0a3-8c0cbd53cc98"
      },
      "source": [
        "# Number of classes in training Data\n",
        "y_test.value_counts()"
      ],
      "execution_count": null,
      "outputs": [
        {
          "output_type": "execute_result",
          "data": {
            "text/plain": [
              "1    1033\n",
              "0    1033\n",
              "Name: Churn, dtype: int64"
            ]
          },
          "metadata": {},
          "execution_count": 81
        }
      ]
    },
    {
      "cell_type": "code",
      "metadata": {
        "colab": {
          "base_uri": "https://localhost:8080/"
        },
        "id": "LalFQMr9_xGN",
        "outputId": "eed11b7a-82f8-430e-9472-280efd570e55"
      },
      "source": [
        "y_preds = ANN(X_train, y_train, X_test, y_test, 'binary_crossentropy', -1)"
      ],
      "execution_count": null,
      "outputs": [
        {
          "output_type": "stream",
          "name": "stdout",
          "text": [
            "Epoch 1/100\n",
            "259/259 [==============================] - 1s 2ms/step - loss: 0.4921 - accuracy: 0.7788\n",
            "Epoch 2/100\n",
            "259/259 [==============================] - 0s 2ms/step - loss: 0.4140 - accuracy: 0.8098\n",
            "Epoch 3/100\n",
            "259/259 [==============================] - 0s 2ms/step - loss: 0.3911 - accuracy: 0.8222\n",
            "Epoch 4/100\n",
            "259/259 [==============================] - 0s 2ms/step - loss: 0.3755 - accuracy: 0.8310\n",
            "Epoch 5/100\n",
            "259/259 [==============================] - 0s 2ms/step - loss: 0.3635 - accuracy: 0.8335\n",
            "Epoch 6/100\n",
            "259/259 [==============================] - 0s 2ms/step - loss: 0.3550 - accuracy: 0.8379\n",
            "Epoch 7/100\n",
            "259/259 [==============================] - 0s 2ms/step - loss: 0.3472 - accuracy: 0.8424\n",
            "Epoch 8/100\n",
            "259/259 [==============================] - 0s 2ms/step - loss: 0.3432 - accuracy: 0.8418\n",
            "Epoch 9/100\n",
            "259/259 [==============================] - 0s 2ms/step - loss: 0.3365 - accuracy: 0.8476\n",
            "Epoch 10/100\n",
            "259/259 [==============================] - 0s 2ms/step - loss: 0.3341 - accuracy: 0.8448\n",
            "Epoch 11/100\n",
            "259/259 [==============================] - 1s 2ms/step - loss: 0.3321 - accuracy: 0.8495\n",
            "Epoch 12/100\n",
            "259/259 [==============================] - 0s 2ms/step - loss: 0.3305 - accuracy: 0.8512\n",
            "Epoch 13/100\n",
            "259/259 [==============================] - 0s 2ms/step - loss: 0.3260 - accuracy: 0.8493\n",
            "Epoch 14/100\n",
            "259/259 [==============================] - 0s 2ms/step - loss: 0.3244 - accuracy: 0.8500\n",
            "Epoch 15/100\n",
            "259/259 [==============================] - 0s 2ms/step - loss: 0.3237 - accuracy: 0.8504\n",
            "Epoch 16/100\n",
            "259/259 [==============================] - 1s 2ms/step - loss: 0.3228 - accuracy: 0.8521\n",
            "Epoch 17/100\n",
            "259/259 [==============================] - 1s 3ms/step - loss: 0.3186 - accuracy: 0.8515\n",
            "Epoch 18/100\n",
            "259/259 [==============================] - 1s 3ms/step - loss: 0.3197 - accuracy: 0.8508\n",
            "Epoch 19/100\n",
            "259/259 [==============================] - 1s 2ms/step - loss: 0.3144 - accuracy: 0.8558\n",
            "Epoch 20/100\n",
            "259/259 [==============================] - 1s 2ms/step - loss: 0.3150 - accuracy: 0.8562\n",
            "Epoch 21/100\n",
            "259/259 [==============================] - 0s 2ms/step - loss: 0.3150 - accuracy: 0.8547\n",
            "Epoch 22/100\n",
            "259/259 [==============================] - 0s 2ms/step - loss: 0.3147 - accuracy: 0.8557\n",
            "Epoch 23/100\n",
            "259/259 [==============================] - 0s 2ms/step - loss: 0.3115 - accuracy: 0.8556\n",
            "Epoch 24/100\n",
            "259/259 [==============================] - 0s 2ms/step - loss: 0.3118 - accuracy: 0.8557\n",
            "Epoch 25/100\n",
            "259/259 [==============================] - 0s 2ms/step - loss: 0.3115 - accuracy: 0.8553\n",
            "Epoch 26/100\n",
            "259/259 [==============================] - 0s 2ms/step - loss: 0.3094 - accuracy: 0.8561\n",
            "Epoch 27/100\n",
            "259/259 [==============================] - 0s 2ms/step - loss: 0.3079 - accuracy: 0.8570\n",
            "Epoch 28/100\n",
            "259/259 [==============================] - 0s 2ms/step - loss: 0.3095 - accuracy: 0.8573\n",
            "Epoch 29/100\n",
            "259/259 [==============================] - 1s 2ms/step - loss: 0.3071 - accuracy: 0.8588\n",
            "Epoch 30/100\n",
            "259/259 [==============================] - 0s 2ms/step - loss: 0.3066 - accuracy: 0.8604\n",
            "Epoch 31/100\n",
            "259/259 [==============================] - 0s 2ms/step - loss: 0.3059 - accuracy: 0.8608\n",
            "Epoch 32/100\n",
            "259/259 [==============================] - 0s 2ms/step - loss: 0.3067 - accuracy: 0.8587\n",
            "Epoch 33/100\n",
            "259/259 [==============================] - 0s 2ms/step - loss: 0.3045 - accuracy: 0.8608\n",
            "Epoch 34/100\n",
            "259/259 [==============================] - 0s 2ms/step - loss: 0.3046 - accuracy: 0.8593\n",
            "Epoch 35/100\n",
            "259/259 [==============================] - 0s 2ms/step - loss: 0.3014 - accuracy: 0.8597\n",
            "Epoch 36/100\n",
            "259/259 [==============================] - 0s 2ms/step - loss: 0.3032 - accuracy: 0.8610\n",
            "Epoch 37/100\n",
            "259/259 [==============================] - 0s 2ms/step - loss: 0.3024 - accuracy: 0.8614\n",
            "Epoch 38/100\n",
            "259/259 [==============================] - 0s 2ms/step - loss: 0.3002 - accuracy: 0.8634\n",
            "Epoch 39/100\n",
            "259/259 [==============================] - 0s 2ms/step - loss: 0.2997 - accuracy: 0.8614\n",
            "Epoch 40/100\n",
            "259/259 [==============================] - 0s 2ms/step - loss: 0.3001 - accuracy: 0.8642\n",
            "Epoch 41/100\n",
            "259/259 [==============================] - 1s 2ms/step - loss: 0.2989 - accuracy: 0.8622\n",
            "Epoch 42/100\n",
            "259/259 [==============================] - 1s 2ms/step - loss: 0.2986 - accuracy: 0.8638\n",
            "Epoch 43/100\n",
            "259/259 [==============================] - 1s 3ms/step - loss: 0.2988 - accuracy: 0.8600\n",
            "Epoch 44/100\n",
            "259/259 [==============================] - 1s 3ms/step - loss: 0.2957 - accuracy: 0.8616\n",
            "Epoch 45/100\n",
            "259/259 [==============================] - 1s 3ms/step - loss: 0.2962 - accuracy: 0.8649\n",
            "Epoch 46/100\n",
            "259/259 [==============================] - 0s 2ms/step - loss: 0.2979 - accuracy: 0.8633\n",
            "Epoch 47/100\n",
            "259/259 [==============================] - 0s 2ms/step - loss: 0.2964 - accuracy: 0.8638\n",
            "Epoch 48/100\n",
            "259/259 [==============================] - 0s 2ms/step - loss: 0.2937 - accuracy: 0.8665\n",
            "Epoch 49/100\n",
            "259/259 [==============================] - 1s 2ms/step - loss: 0.2945 - accuracy: 0.8631\n",
            "Epoch 50/100\n",
            "259/259 [==============================] - 0s 2ms/step - loss: 0.2947 - accuracy: 0.8638\n",
            "Epoch 51/100\n",
            "259/259 [==============================] - 0s 2ms/step - loss: 0.2936 - accuracy: 0.8644\n",
            "Epoch 52/100\n",
            "259/259 [==============================] - 0s 2ms/step - loss: 0.2934 - accuracy: 0.8637\n",
            "Epoch 53/100\n",
            "259/259 [==============================] - 0s 2ms/step - loss: 0.2934 - accuracy: 0.8665\n",
            "Epoch 54/100\n",
            "259/259 [==============================] - 0s 2ms/step - loss: 0.2930 - accuracy: 0.8672\n",
            "Epoch 55/100\n",
            "259/259 [==============================] - 0s 2ms/step - loss: 0.2909 - accuracy: 0.8695\n",
            "Epoch 56/100\n",
            "259/259 [==============================] - 0s 2ms/step - loss: 0.2899 - accuracy: 0.8662\n",
            "Epoch 57/100\n",
            "259/259 [==============================] - 0s 2ms/step - loss: 0.2914 - accuracy: 0.8637\n",
            "Epoch 58/100\n",
            "259/259 [==============================] - 0s 2ms/step - loss: 0.2898 - accuracy: 0.8661\n",
            "Epoch 59/100\n",
            "259/259 [==============================] - 0s 2ms/step - loss: 0.2912 - accuracy: 0.8662\n",
            "Epoch 60/100\n",
            "259/259 [==============================] - 0s 2ms/step - loss: 0.2899 - accuracy: 0.8637\n",
            "Epoch 61/100\n",
            "259/259 [==============================] - 0s 2ms/step - loss: 0.2901 - accuracy: 0.8659\n",
            "Epoch 62/100\n",
            "259/259 [==============================] - 1s 2ms/step - loss: 0.2899 - accuracy: 0.8665\n",
            "Epoch 63/100\n",
            "259/259 [==============================] - 0s 2ms/step - loss: 0.2868 - accuracy: 0.8703\n",
            "Epoch 64/100\n",
            "259/259 [==============================] - 0s 2ms/step - loss: 0.2881 - accuracy: 0.8671\n",
            "Epoch 65/100\n",
            "259/259 [==============================] - 1s 3ms/step - loss: 0.2883 - accuracy: 0.8668\n",
            "Epoch 66/100\n",
            "259/259 [==============================] - 2s 6ms/step - loss: 0.2863 - accuracy: 0.8682\n",
            "Epoch 67/100\n",
            "259/259 [==============================] - 1s 3ms/step - loss: 0.2885 - accuracy: 0.8644\n",
            "Epoch 68/100\n",
            "259/259 [==============================] - 1s 3ms/step - loss: 0.2890 - accuracy: 0.8651\n",
            "Epoch 69/100\n",
            "259/259 [==============================] - 1s 2ms/step - loss: 0.2872 - accuracy: 0.8672\n",
            "Epoch 70/100\n",
            "259/259 [==============================] - 0s 2ms/step - loss: 0.2855 - accuracy: 0.8685\n",
            "Epoch 71/100\n",
            "259/259 [==============================] - 0s 2ms/step - loss: 0.2864 - accuracy: 0.8678\n",
            "Epoch 72/100\n",
            "259/259 [==============================] - 0s 2ms/step - loss: 0.2835 - accuracy: 0.8666\n",
            "Epoch 73/100\n",
            "259/259 [==============================] - 0s 2ms/step - loss: 0.2869 - accuracy: 0.8662\n",
            "Epoch 74/100\n",
            "259/259 [==============================] - 0s 2ms/step - loss: 0.2860 - accuracy: 0.8686\n",
            "Epoch 75/100\n",
            "259/259 [==============================] - 0s 2ms/step - loss: 0.2846 - accuracy: 0.8678\n",
            "Epoch 76/100\n",
            "259/259 [==============================] - 0s 2ms/step - loss: 0.2860 - accuracy: 0.8671\n",
            "Epoch 77/100\n",
            "259/259 [==============================] - 0s 2ms/step - loss: 0.2850 - accuracy: 0.8653\n",
            "Epoch 78/100\n",
            "259/259 [==============================] - 0s 2ms/step - loss: 0.2837 - accuracy: 0.8684\n",
            "Epoch 79/100\n",
            "259/259 [==============================] - 0s 2ms/step - loss: 0.2828 - accuracy: 0.8679\n",
            "Epoch 80/100\n",
            "259/259 [==============================] - 0s 2ms/step - loss: 0.2815 - accuracy: 0.8699\n",
            "Epoch 81/100\n",
            "259/259 [==============================] - 0s 2ms/step - loss: 0.2847 - accuracy: 0.8678\n",
            "Epoch 82/100\n",
            "259/259 [==============================] - 0s 2ms/step - loss: 0.2818 - accuracy: 0.8673\n",
            "Epoch 83/100\n",
            "259/259 [==============================] - 0s 2ms/step - loss: 0.2831 - accuracy: 0.8690\n",
            "Epoch 84/100\n",
            "259/259 [==============================] - 0s 2ms/step - loss: 0.2815 - accuracy: 0.8701\n",
            "Epoch 85/100\n",
            "259/259 [==============================] - 0s 2ms/step - loss: 0.2824 - accuracy: 0.8715\n",
            "Epoch 86/100\n",
            "259/259 [==============================] - 0s 2ms/step - loss: 0.2804 - accuracy: 0.8712\n",
            "Epoch 87/100\n",
            "259/259 [==============================] - 0s 2ms/step - loss: 0.2795 - accuracy: 0.8720\n",
            "Epoch 88/100\n",
            "259/259 [==============================] - 0s 2ms/step - loss: 0.2800 - accuracy: 0.8695\n",
            "Epoch 89/100\n",
            "259/259 [==============================] - 0s 2ms/step - loss: 0.2788 - accuracy: 0.8701\n",
            "Epoch 90/100\n",
            "259/259 [==============================] - 1s 2ms/step - loss: 0.2788 - accuracy: 0.8722\n",
            "Epoch 91/100\n",
            "259/259 [==============================] - 1s 3ms/step - loss: 0.2794 - accuracy: 0.8713\n",
            "Epoch 92/100\n",
            "259/259 [==============================] - 1s 2ms/step - loss: 0.2775 - accuracy: 0.8718\n",
            "Epoch 93/100\n",
            "259/259 [==============================] - 1s 3ms/step - loss: 0.2780 - accuracy: 0.8728\n",
            "Epoch 94/100\n",
            "259/259 [==============================] - 1s 2ms/step - loss: 0.2785 - accuracy: 0.8706\n",
            "Epoch 95/100\n",
            "259/259 [==============================] - 0s 2ms/step - loss: 0.2789 - accuracy: 0.8700\n",
            "Epoch 96/100\n",
            "259/259 [==============================] - 0s 2ms/step - loss: 0.2781 - accuracy: 0.8705\n",
            "Epoch 97/100\n",
            "259/259 [==============================] - 0s 2ms/step - loss: 0.2754 - accuracy: 0.8725\n",
            "Epoch 98/100\n",
            "259/259 [==============================] - 0s 2ms/step - loss: 0.2775 - accuracy: 0.8720\n",
            "Epoch 99/100\n",
            "259/259 [==============================] - 1s 2ms/step - loss: 0.2763 - accuracy: 0.8712\n",
            "Epoch 100/100\n",
            "259/259 [==============================] - 0s 2ms/step - loss: 0.2757 - accuracy: 0.8729\n",
            "65/65 [==============================] - 0s 1ms/step - loss: 0.3468 - accuracy: 0.8432\n",
            "[0.3467952013015747, 0.8431752324104309]\n",
            "65/65 [==============================] - 0s 1ms/step\n",
            "Classification Report: \n",
            "               precision    recall  f1-score   support\n",
            "\n",
            "           0       0.85      0.83      0.84      1033\n",
            "           1       0.83      0.86      0.85      1033\n",
            "\n",
            "    accuracy                           0.84      2066\n",
            "   macro avg       0.84      0.84      0.84      2066\n",
            "weighted avg       0.84      0.84      0.84      2066\n",
            "\n"
          ]
        }
      ]
    },
    {
      "cell_type": "markdown",
      "metadata": {
        "id": "GWYGu5d6Bu2B"
      },
      "source": [
        "SMOT Oversampling increases f1 score of minority class 1 from 0.57 to 0.85 (huge improvement) Also over all accuracy improves from 0.77 to 0.84"
      ]
    },
    {
      "cell_type": "markdown",
      "metadata": {
        "id": "2-fziQ7LCbR-"
      },
      "source": [
        "# Method 4: Use of Ensemble with Undersampling"
      ]
    },
    {
      "cell_type": "code",
      "metadata": {
        "colab": {
          "base_uri": "https://localhost:8080/"
        },
        "id": "lrcl00I1BhBO",
        "outputId": "b1ec1d10-3e26-4652-c799-376439975a3d"
      },
      "source": [
        "df2.Churn.value_counts()"
      ],
      "execution_count": null,
      "outputs": [
        {
          "output_type": "execute_result",
          "data": {
            "text/plain": [
              "0    5163\n",
              "1    1869\n",
              "Name: Churn, dtype: int64"
            ]
          },
          "metadata": {},
          "execution_count": 22
        }
      ]
    },
    {
      "cell_type": "code",
      "metadata": {
        "id": "vAEEDwrNCsYo"
      },
      "source": [
        "# Regain Original features and labels\n",
        "X = df2.drop('Churn',axis='columns')\n",
        "y = df2['Churn']"
      ],
      "execution_count": null,
      "outputs": []
    },
    {
      "cell_type": "code",
      "metadata": {
        "colab": {
          "base_uri": "https://localhost:8080/"
        },
        "id": "tiY5m5-DCxxl",
        "outputId": "ed11b481-e731-4686-97cf-dfa119c50979"
      },
      "source": [
        "y.value_counts()"
      ],
      "execution_count": null,
      "outputs": [
        {
          "output_type": "execute_result",
          "data": {
            "text/plain": [
              "0    5163\n",
              "1    1869\n",
              "Name: Churn, dtype: int64"
            ]
          },
          "metadata": {},
          "execution_count": 24
        }
      ]
    },
    {
      "cell_type": "code",
      "metadata": {
        "id": "uXGF3X18C0FK"
      },
      "source": [
        "from sklearn.model_selection import train_test_split\n",
        "X_train, X_test, y_train, y_test = train_test_split(X, y, test_size=0.2, random_state=15, stratify=y)\n",
        "\n",
        "cols_to_scale = ['tenure','MonthlyCharges','TotalCharges']\n",
        "\n",
        "from sklearn.preprocessing import MinMaxScaler\n",
        "scaler = MinMaxScaler()\n",
        "X_train[cols_to_scale] = scaler.fit_transform(X_train[cols_to_scale])\n",
        "X_test[cols_to_scale] = scaler.fit_transform(X_test[cols_to_scale])"
      ],
      "execution_count": null,
      "outputs": []
    },
    {
      "cell_type": "code",
      "metadata": {
        "colab": {
          "base_uri": "https://localhost:8080/"
        },
        "id": "2b0t0rckC2rb",
        "outputId": "080df2b9-a714-4f91-cbdc-68a373987a23"
      },
      "source": [
        "y_train.value_counts()"
      ],
      "execution_count": null,
      "outputs": [
        {
          "output_type": "execute_result",
          "data": {
            "text/plain": [
              "0    4130\n",
              "1    1495\n",
              "Name: Churn, dtype: int64"
            ]
          },
          "metadata": {},
          "execution_count": 26
        }
      ]
    },
    {
      "cell_type": "code",
      "metadata": {
        "colab": {
          "base_uri": "https://localhost:8080/"
        },
        "id": "VELrYavtC4qo",
        "outputId": "d0fe2519-7c22-4d9d-bb20-83a37ee8b7bb"
      },
      "source": [
        "4130/1495"
      ],
      "execution_count": null,
      "outputs": [
        {
          "output_type": "execute_result",
          "data": {
            "text/plain": [
              "2.762541806020067"
            ]
          },
          "metadata": {},
          "execution_count": 27
        }
      ]
    },
    {
      "cell_type": "code",
      "metadata": {
        "colab": {
          "base_uri": "https://localhost:8080/"
        },
        "id": "QwlNADB4DKYs",
        "outputId": "e7ed005f-11f3-4403-a992-4855065d58f6"
      },
      "source": [
        "4130/3"
      ],
      "execution_count": null,
      "outputs": [
        {
          "output_type": "execute_result",
          "data": {
            "text/plain": [
              "1376.6666666666667"
            ]
          },
          "metadata": {},
          "execution_count": 28
        }
      ]
    },
    {
      "cell_type": "markdown",
      "metadata": {
        "id": "-w-Qz_DXDdCn"
      },
      "source": [
        "model1 --> class1(1495) + class0(0, 1495)\n",
        "\n",
        "model2 --> class1(1495) + class0(1496, 2990)\n",
        "\n",
        "model3 --> class1(1495) + class0(2990, 4130)"
      ]
    },
    {
      "cell_type": "code",
      "metadata": {
        "id": "RW_v1XOgDN6E"
      },
      "source": [
        "df3 = X_train.copy()\n",
        "df3['Churn'] = y_train"
      ],
      "execution_count": null,
      "outputs": []
    },
    {
      "cell_type": "code",
      "metadata": {
        "colab": {
          "base_uri": "https://localhost:8080/",
          "height": 334
        },
        "id": "3YVJmQGpDk4A",
        "outputId": "46c9c290-5bd8-41df-fe84-16975bfb2b25"
      },
      "source": [
        "df3.head()"
      ],
      "execution_count": null,
      "outputs": [
        {
          "output_type": "execute_result",
          "data": {
            "text/plain": [
              "      gender  SeniorCitizen  Partner  Dependents    tenure  PhoneService  \\\n",
              "684        1              0        0           0  0.000000             1   \n",
              "2446       1              0        0           0  0.239437             1   \n",
              "1680       0              0        1           1  0.774648             1   \n",
              "2220       0              0        1           0  1.000000             1   \n",
              "2842       1              0        0           0  0.042254             0   \n",
              "\n",
              "      MultipleLines  OnlineSecurity  OnlineBackup  DeviceProtection  ...  \\\n",
              "684               0               0             0                 0  ...   \n",
              "2446              1               0             1                 0  ...   \n",
              "1680              1               0             0                 0  ...   \n",
              "2220              0               1             1                 0  ...   \n",
              "2842              0               1             0                 1  ...   \n",
              "\n",
              "      InternetService_Fiber optic  InternetService_No  \\\n",
              "684                             1                   0   \n",
              "2446                            1                   0   \n",
              "1680                            0                   1   \n",
              "2220                            0                   0   \n",
              "2842                            0                   0   \n",
              "\n",
              "      Contract_Month-to-month  Contract_One year  Contract_Two year  \\\n",
              "684                         1                  0                  0   \n",
              "2446                        1                  0                  0   \n",
              "1680                        0                  1                  0   \n",
              "2220                        0                  0                  1   \n",
              "2842                        1                  0                  0   \n",
              "\n",
              "      PaymentMethod_Bank transfer (automatic)  \\\n",
              "684                                         0   \n",
              "2446                                        0   \n",
              "1680                                        0   \n",
              "2220                                        1   \n",
              "2842                                        0   \n",
              "\n",
              "      PaymentMethod_Credit card (automatic)  PaymentMethod_Electronic check  \\\n",
              "684                                       0                               0   \n",
              "2446                                      1                               0   \n",
              "1680                                      0                               0   \n",
              "2220                                      0                               0   \n",
              "2842                                      0                               0   \n",
              "\n",
              "      PaymentMethod_Mailed check  Churn  \n",
              "684                            1      0  \n",
              "2446                           0      1  \n",
              "1680                           1      0  \n",
              "2220                           0      0  \n",
              "2842                           1      0  \n",
              "\n",
              "[5 rows x 27 columns]"
            ],
            "text/html": [
              "\n",
              "  <div id=\"df-e150e9a3-8fa5-45b0-9cee-18effdceee2b\">\n",
              "    <div class=\"colab-df-container\">\n",
              "      <div>\n",
              "<style scoped>\n",
              "    .dataframe tbody tr th:only-of-type {\n",
              "        vertical-align: middle;\n",
              "    }\n",
              "\n",
              "    .dataframe tbody tr th {\n",
              "        vertical-align: top;\n",
              "    }\n",
              "\n",
              "    .dataframe thead th {\n",
              "        text-align: right;\n",
              "    }\n",
              "</style>\n",
              "<table border=\"1\" class=\"dataframe\">\n",
              "  <thead>\n",
              "    <tr style=\"text-align: right;\">\n",
              "      <th></th>\n",
              "      <th>gender</th>\n",
              "      <th>SeniorCitizen</th>\n",
              "      <th>Partner</th>\n",
              "      <th>Dependents</th>\n",
              "      <th>tenure</th>\n",
              "      <th>PhoneService</th>\n",
              "      <th>MultipleLines</th>\n",
              "      <th>OnlineSecurity</th>\n",
              "      <th>OnlineBackup</th>\n",
              "      <th>DeviceProtection</th>\n",
              "      <th>...</th>\n",
              "      <th>InternetService_Fiber optic</th>\n",
              "      <th>InternetService_No</th>\n",
              "      <th>Contract_Month-to-month</th>\n",
              "      <th>Contract_One year</th>\n",
              "      <th>Contract_Two year</th>\n",
              "      <th>PaymentMethod_Bank transfer (automatic)</th>\n",
              "      <th>PaymentMethod_Credit card (automatic)</th>\n",
              "      <th>PaymentMethod_Electronic check</th>\n",
              "      <th>PaymentMethod_Mailed check</th>\n",
              "      <th>Churn</th>\n",
              "    </tr>\n",
              "  </thead>\n",
              "  <tbody>\n",
              "    <tr>\n",
              "      <th>684</th>\n",
              "      <td>1</td>\n",
              "      <td>0</td>\n",
              "      <td>0</td>\n",
              "      <td>0</td>\n",
              "      <td>0.000000</td>\n",
              "      <td>1</td>\n",
              "      <td>0</td>\n",
              "      <td>0</td>\n",
              "      <td>0</td>\n",
              "      <td>0</td>\n",
              "      <td>...</td>\n",
              "      <td>1</td>\n",
              "      <td>0</td>\n",
              "      <td>1</td>\n",
              "      <td>0</td>\n",
              "      <td>0</td>\n",
              "      <td>0</td>\n",
              "      <td>0</td>\n",
              "      <td>0</td>\n",
              "      <td>1</td>\n",
              "      <td>0</td>\n",
              "    </tr>\n",
              "    <tr>\n",
              "      <th>2446</th>\n",
              "      <td>1</td>\n",
              "      <td>0</td>\n",
              "      <td>0</td>\n",
              "      <td>0</td>\n",
              "      <td>0.239437</td>\n",
              "      <td>1</td>\n",
              "      <td>1</td>\n",
              "      <td>0</td>\n",
              "      <td>1</td>\n",
              "      <td>0</td>\n",
              "      <td>...</td>\n",
              "      <td>1</td>\n",
              "      <td>0</td>\n",
              "      <td>1</td>\n",
              "      <td>0</td>\n",
              "      <td>0</td>\n",
              "      <td>0</td>\n",
              "      <td>1</td>\n",
              "      <td>0</td>\n",
              "      <td>0</td>\n",
              "      <td>1</td>\n",
              "    </tr>\n",
              "    <tr>\n",
              "      <th>1680</th>\n",
              "      <td>0</td>\n",
              "      <td>0</td>\n",
              "      <td>1</td>\n",
              "      <td>1</td>\n",
              "      <td>0.774648</td>\n",
              "      <td>1</td>\n",
              "      <td>1</td>\n",
              "      <td>0</td>\n",
              "      <td>0</td>\n",
              "      <td>0</td>\n",
              "      <td>...</td>\n",
              "      <td>0</td>\n",
              "      <td>1</td>\n",
              "      <td>0</td>\n",
              "      <td>1</td>\n",
              "      <td>0</td>\n",
              "      <td>0</td>\n",
              "      <td>0</td>\n",
              "      <td>0</td>\n",
              "      <td>1</td>\n",
              "      <td>0</td>\n",
              "    </tr>\n",
              "    <tr>\n",
              "      <th>2220</th>\n",
              "      <td>0</td>\n",
              "      <td>0</td>\n",
              "      <td>1</td>\n",
              "      <td>0</td>\n",
              "      <td>1.000000</td>\n",
              "      <td>1</td>\n",
              "      <td>0</td>\n",
              "      <td>1</td>\n",
              "      <td>1</td>\n",
              "      <td>0</td>\n",
              "      <td>...</td>\n",
              "      <td>0</td>\n",
              "      <td>0</td>\n",
              "      <td>0</td>\n",
              "      <td>0</td>\n",
              "      <td>1</td>\n",
              "      <td>1</td>\n",
              "      <td>0</td>\n",
              "      <td>0</td>\n",
              "      <td>0</td>\n",
              "      <td>0</td>\n",
              "    </tr>\n",
              "    <tr>\n",
              "      <th>2842</th>\n",
              "      <td>1</td>\n",
              "      <td>0</td>\n",
              "      <td>0</td>\n",
              "      <td>0</td>\n",
              "      <td>0.042254</td>\n",
              "      <td>0</td>\n",
              "      <td>0</td>\n",
              "      <td>1</td>\n",
              "      <td>0</td>\n",
              "      <td>1</td>\n",
              "      <td>...</td>\n",
              "      <td>0</td>\n",
              "      <td>0</td>\n",
              "      <td>1</td>\n",
              "      <td>0</td>\n",
              "      <td>0</td>\n",
              "      <td>0</td>\n",
              "      <td>0</td>\n",
              "      <td>0</td>\n",
              "      <td>1</td>\n",
              "      <td>0</td>\n",
              "    </tr>\n",
              "  </tbody>\n",
              "</table>\n",
              "<p>5 rows × 27 columns</p>\n",
              "</div>\n",
              "      <button class=\"colab-df-convert\" onclick=\"convertToInteractive('df-e150e9a3-8fa5-45b0-9cee-18effdceee2b')\"\n",
              "              title=\"Convert this dataframe to an interactive table.\"\n",
              "              style=\"display:none;\">\n",
              "        \n",
              "  <svg xmlns=\"http://www.w3.org/2000/svg\" height=\"24px\"viewBox=\"0 0 24 24\"\n",
              "       width=\"24px\">\n",
              "    <path d=\"M0 0h24v24H0V0z\" fill=\"none\"/>\n",
              "    <path d=\"M18.56 5.44l.94 2.06.94-2.06 2.06-.94-2.06-.94-.94-2.06-.94 2.06-2.06.94zm-11 1L8.5 8.5l.94-2.06 2.06-.94-2.06-.94L8.5 2.5l-.94 2.06-2.06.94zm10 10l.94 2.06.94-2.06 2.06-.94-2.06-.94-.94-2.06-.94 2.06-2.06.94z\"/><path d=\"M17.41 7.96l-1.37-1.37c-.4-.4-.92-.59-1.43-.59-.52 0-1.04.2-1.43.59L10.3 9.45l-7.72 7.72c-.78.78-.78 2.05 0 2.83L4 21.41c.39.39.9.59 1.41.59.51 0 1.02-.2 1.41-.59l7.78-7.78 2.81-2.81c.8-.78.8-2.07 0-2.86zM5.41 20L4 18.59l7.72-7.72 1.47 1.35L5.41 20z\"/>\n",
              "  </svg>\n",
              "      </button>\n",
              "      \n",
              "  <style>\n",
              "    .colab-df-container {\n",
              "      display:flex;\n",
              "      flex-wrap:wrap;\n",
              "      gap: 12px;\n",
              "    }\n",
              "\n",
              "    .colab-df-convert {\n",
              "      background-color: #E8F0FE;\n",
              "      border: none;\n",
              "      border-radius: 50%;\n",
              "      cursor: pointer;\n",
              "      display: none;\n",
              "      fill: #1967D2;\n",
              "      height: 32px;\n",
              "      padding: 0 0 0 0;\n",
              "      width: 32px;\n",
              "    }\n",
              "\n",
              "    .colab-df-convert:hover {\n",
              "      background-color: #E2EBFA;\n",
              "      box-shadow: 0px 1px 2px rgba(60, 64, 67, 0.3), 0px 1px 3px 1px rgba(60, 64, 67, 0.15);\n",
              "      fill: #174EA6;\n",
              "    }\n",
              "\n",
              "    [theme=dark] .colab-df-convert {\n",
              "      background-color: #3B4455;\n",
              "      fill: #D2E3FC;\n",
              "    }\n",
              "\n",
              "    [theme=dark] .colab-df-convert:hover {\n",
              "      background-color: #434B5C;\n",
              "      box-shadow: 0px 1px 3px 1px rgba(0, 0, 0, 0.15);\n",
              "      filter: drop-shadow(0px 1px 2px rgba(0, 0, 0, 0.3));\n",
              "      fill: #FFFFFF;\n",
              "    }\n",
              "  </style>\n",
              "\n",
              "      <script>\n",
              "        const buttonEl =\n",
              "          document.querySelector('#df-e150e9a3-8fa5-45b0-9cee-18effdceee2b button.colab-df-convert');\n",
              "        buttonEl.style.display =\n",
              "          google.colab.kernel.accessAllowed ? 'block' : 'none';\n",
              "\n",
              "        async function convertToInteractive(key) {\n",
              "          const element = document.querySelector('#df-e150e9a3-8fa5-45b0-9cee-18effdceee2b');\n",
              "          const dataTable =\n",
              "            await google.colab.kernel.invokeFunction('convertToInteractive',\n",
              "                                                     [key], {});\n",
              "          if (!dataTable) return;\n",
              "\n",
              "          const docLinkHtml = 'Like what you see? Visit the ' +\n",
              "            '<a target=\"_blank\" href=https://colab.research.google.com/notebooks/data_table.ipynb>data table notebook</a>'\n",
              "            + ' to learn more about interactive tables.';\n",
              "          element.innerHTML = '';\n",
              "          dataTable['output_type'] = 'display_data';\n",
              "          await google.colab.output.renderOutput(dataTable, element);\n",
              "          const docLink = document.createElement('div');\n",
              "          docLink.innerHTML = docLinkHtml;\n",
              "          element.appendChild(docLink);\n",
              "        }\n",
              "      </script>\n",
              "    </div>\n",
              "  </div>\n",
              "  "
            ]
          },
          "metadata": {},
          "execution_count": 30
        }
      ]
    },
    {
      "cell_type": "code",
      "metadata": {
        "id": "YARlELrDDm7i"
      },
      "source": [
        "df3_class0 = df3[df3.Churn==0]\n",
        "df3_class1 = df3[df3.Churn==1]"
      ],
      "execution_count": null,
      "outputs": []
    },
    {
      "cell_type": "code",
      "metadata": {
        "colab": {
          "base_uri": "https://localhost:8080/"
        },
        "id": "sH00hrYAD5Ln",
        "outputId": "f2dc4f3c-d48c-44a0-a46c-95c670cf9e99"
      },
      "source": [
        "df3_class0.shape, df3_class1.shape"
      ],
      "execution_count": null,
      "outputs": [
        {
          "output_type": "execute_result",
          "data": {
            "text/plain": [
              "((4130, 27), (1495, 27))"
            ]
          },
          "metadata": {},
          "execution_count": 32
        }
      ]
    },
    {
      "cell_type": "code",
      "metadata": {
        "id": "Oq8b50eGEMpD"
      },
      "source": [
        "def get_train_batch(df_majority, df_minority, start, end):\n",
        "    df_train = pd.concat([df_majority[start:end], df_minority], axis=0)\n",
        "\n",
        "    X_train = df_train.drop('Churn', axis='columns')\n",
        "    y_train = df_train.Churn\n",
        "    return X_train, y_train"
      ],
      "execution_count": null,
      "outputs": []
    },
    {
      "cell_type": "code",
      "source": [
        "import tensorflow as tf\n",
        "from tensorflow import keras"
      ],
      "metadata": {
        "id": "E8-IeP2Qd77F"
      },
      "execution_count": null,
      "outputs": []
    },
    {
      "cell_type": "code",
      "metadata": {
        "colab": {
          "base_uri": "https://localhost:8080/"
        },
        "id": "FlHBjtIaEykA",
        "outputId": "605a5e9f-c9aa-4f7b-a8ae-0efa41ef6525"
      },
      "source": [
        "X_train, y_train = get_train_batch(df3_class0, df3_class1, 0, 1495)\n",
        "\n",
        "y_pred1 = ANN(X_train, y_train, X_test, y_test, 'binary_crossentropy', -1)"
      ],
      "execution_count": null,
      "outputs": [
        {
          "output_type": "stream",
          "name": "stdout",
          "text": [
            "Epoch 1/100\n",
            "94/94 [==============================] - 1s 2ms/step - loss: 0.6017 - accuracy: 0.7013\n",
            "Epoch 2/100\n",
            "94/94 [==============================] - 0s 2ms/step - loss: 0.5100 - accuracy: 0.7538\n",
            "Epoch 3/100\n",
            "94/94 [==============================] - 0s 2ms/step - loss: 0.4969 - accuracy: 0.7632\n",
            "Epoch 4/100\n",
            "94/94 [==============================] - 0s 2ms/step - loss: 0.4899 - accuracy: 0.7659\n",
            "Epoch 5/100\n",
            "94/94 [==============================] - 0s 2ms/step - loss: 0.4871 - accuracy: 0.7666\n",
            "Epoch 6/100\n",
            "94/94 [==============================] - 0s 2ms/step - loss: 0.4824 - accuracy: 0.7686\n",
            "Epoch 7/100\n",
            "94/94 [==============================] - 0s 2ms/step - loss: 0.4815 - accuracy: 0.7682\n",
            "Epoch 8/100\n",
            "94/94 [==============================] - 0s 3ms/step - loss: 0.4785 - accuracy: 0.7712\n",
            "Epoch 9/100\n",
            "94/94 [==============================] - 0s 2ms/step - loss: 0.4780 - accuracy: 0.7722\n",
            "Epoch 10/100\n",
            "94/94 [==============================] - 0s 2ms/step - loss: 0.4772 - accuracy: 0.7692\n",
            "Epoch 11/100\n",
            "94/94 [==============================] - 0s 2ms/step - loss: 0.4748 - accuracy: 0.7696\n",
            "Epoch 12/100\n",
            "94/94 [==============================] - 0s 2ms/step - loss: 0.4733 - accuracy: 0.7709\n",
            "Epoch 13/100\n",
            "94/94 [==============================] - 0s 2ms/step - loss: 0.4723 - accuracy: 0.7729\n",
            "Epoch 14/100\n",
            "94/94 [==============================] - 0s 2ms/step - loss: 0.4706 - accuracy: 0.7729\n",
            "Epoch 15/100\n",
            "94/94 [==============================] - 0s 2ms/step - loss: 0.4707 - accuracy: 0.7726\n",
            "Epoch 16/100\n",
            "94/94 [==============================] - 0s 2ms/step - loss: 0.4684 - accuracy: 0.7716\n",
            "Epoch 17/100\n",
            "94/94 [==============================] - 0s 2ms/step - loss: 0.4666 - accuracy: 0.7753\n",
            "Epoch 18/100\n",
            "94/94 [==============================] - 0s 2ms/step - loss: 0.4648 - accuracy: 0.7793\n",
            "Epoch 19/100\n",
            "94/94 [==============================] - 0s 2ms/step - loss: 0.4650 - accuracy: 0.7759\n",
            "Epoch 20/100\n",
            "94/94 [==============================] - 0s 2ms/step - loss: 0.4632 - accuracy: 0.7806\n",
            "Epoch 21/100\n",
            "94/94 [==============================] - 0s 2ms/step - loss: 0.4637 - accuracy: 0.7793\n",
            "Epoch 22/100\n",
            "94/94 [==============================] - 0s 2ms/step - loss: 0.4629 - accuracy: 0.7809\n",
            "Epoch 23/100\n",
            "94/94 [==============================] - 0s 3ms/step - loss: 0.4611 - accuracy: 0.7809\n",
            "Epoch 24/100\n",
            "94/94 [==============================] - 0s 3ms/step - loss: 0.4585 - accuracy: 0.7806\n",
            "Epoch 25/100\n",
            "94/94 [==============================] - 0s 3ms/step - loss: 0.4580 - accuracy: 0.7806\n",
            "Epoch 26/100\n",
            "94/94 [==============================] - 0s 3ms/step - loss: 0.4568 - accuracy: 0.7799\n",
            "Epoch 27/100\n",
            "94/94 [==============================] - 0s 3ms/step - loss: 0.4574 - accuracy: 0.7833\n",
            "Epoch 28/100\n",
            "94/94 [==============================] - 0s 3ms/step - loss: 0.4562 - accuracy: 0.7803\n",
            "Epoch 29/100\n",
            "94/94 [==============================] - 0s 3ms/step - loss: 0.4557 - accuracy: 0.7816\n",
            "Epoch 30/100\n",
            "94/94 [==============================] - 0s 3ms/step - loss: 0.4548 - accuracy: 0.7789\n",
            "Epoch 31/100\n",
            "94/94 [==============================] - 0s 3ms/step - loss: 0.4522 - accuracy: 0.7853\n",
            "Epoch 32/100\n",
            "94/94 [==============================] - 0s 3ms/step - loss: 0.4510 - accuracy: 0.7876\n",
            "Epoch 33/100\n",
            "94/94 [==============================] - 0s 3ms/step - loss: 0.4517 - accuracy: 0.7819\n",
            "Epoch 34/100\n",
            "94/94 [==============================] - 0s 2ms/step - loss: 0.4490 - accuracy: 0.7890\n",
            "Epoch 35/100\n",
            "94/94 [==============================] - 0s 2ms/step - loss: 0.4479 - accuracy: 0.7880\n",
            "Epoch 36/100\n",
            "94/94 [==============================] - 0s 2ms/step - loss: 0.4470 - accuracy: 0.7903\n",
            "Epoch 37/100\n",
            "94/94 [==============================] - 0s 2ms/step - loss: 0.4468 - accuracy: 0.7893\n",
            "Epoch 38/100\n",
            "94/94 [==============================] - 0s 2ms/step - loss: 0.4449 - accuracy: 0.7883\n",
            "Epoch 39/100\n",
            "94/94 [==============================] - 0s 2ms/step - loss: 0.4447 - accuracy: 0.7870\n",
            "Epoch 40/100\n",
            "94/94 [==============================] - 0s 2ms/step - loss: 0.4443 - accuracy: 0.7940\n",
            "Epoch 41/100\n",
            "94/94 [==============================] - 0s 2ms/step - loss: 0.4433 - accuracy: 0.7896\n",
            "Epoch 42/100\n",
            "94/94 [==============================] - 0s 2ms/step - loss: 0.4428 - accuracy: 0.7846\n",
            "Epoch 43/100\n",
            "94/94 [==============================] - 0s 2ms/step - loss: 0.4409 - accuracy: 0.7849\n",
            "Epoch 44/100\n",
            "94/94 [==============================] - 0s 2ms/step - loss: 0.4404 - accuracy: 0.7900\n",
            "Epoch 45/100\n",
            "94/94 [==============================] - 0s 2ms/step - loss: 0.4393 - accuracy: 0.7873\n",
            "Epoch 46/100\n",
            "94/94 [==============================] - 0s 2ms/step - loss: 0.4398 - accuracy: 0.7880\n",
            "Epoch 47/100\n",
            "94/94 [==============================] - 0s 2ms/step - loss: 0.4365 - accuracy: 0.7933\n",
            "Epoch 48/100\n",
            "94/94 [==============================] - 0s 2ms/step - loss: 0.4378 - accuracy: 0.7890\n",
            "Epoch 49/100\n",
            "94/94 [==============================] - 0s 2ms/step - loss: 0.4353 - accuracy: 0.7940\n",
            "Epoch 50/100\n",
            "94/94 [==============================] - 0s 2ms/step - loss: 0.4349 - accuracy: 0.7923\n",
            "Epoch 51/100\n",
            "94/94 [==============================] - 0s 2ms/step - loss: 0.4330 - accuracy: 0.7946\n",
            "Epoch 52/100\n",
            "94/94 [==============================] - 0s 2ms/step - loss: 0.4328 - accuracy: 0.7943\n",
            "Epoch 53/100\n",
            "94/94 [==============================] - 0s 2ms/step - loss: 0.4312 - accuracy: 0.7923\n",
            "Epoch 54/100\n",
            "94/94 [==============================] - 0s 2ms/step - loss: 0.4298 - accuracy: 0.7963\n",
            "Epoch 55/100\n",
            "94/94 [==============================] - 0s 2ms/step - loss: 0.4287 - accuracy: 0.7987\n",
            "Epoch 56/100\n",
            "94/94 [==============================] - 0s 2ms/step - loss: 0.4285 - accuracy: 0.7993\n",
            "Epoch 57/100\n",
            "94/94 [==============================] - 0s 2ms/step - loss: 0.4285 - accuracy: 0.7960\n",
            "Epoch 58/100\n",
            "94/94 [==============================] - 0s 2ms/step - loss: 0.4275 - accuracy: 0.7997\n",
            "Epoch 59/100\n",
            "94/94 [==============================] - 0s 2ms/step - loss: 0.4253 - accuracy: 0.8017\n",
            "Epoch 60/100\n",
            "94/94 [==============================] - 0s 2ms/step - loss: 0.4251 - accuracy: 0.8010\n",
            "Epoch 61/100\n",
            "94/94 [==============================] - 0s 2ms/step - loss: 0.4235 - accuracy: 0.8000\n",
            "Epoch 62/100\n",
            "94/94 [==============================] - 0s 2ms/step - loss: 0.4252 - accuracy: 0.8033\n",
            "Epoch 63/100\n",
            "94/94 [==============================] - 0s 2ms/step - loss: 0.4227 - accuracy: 0.8003\n",
            "Epoch 64/100\n",
            "94/94 [==============================] - 0s 2ms/step - loss: 0.4206 - accuracy: 0.7977\n",
            "Epoch 65/100\n",
            "94/94 [==============================] - 0s 2ms/step - loss: 0.4210 - accuracy: 0.8003\n",
            "Epoch 66/100\n",
            "94/94 [==============================] - 0s 2ms/step - loss: 0.4188 - accuracy: 0.8010\n",
            "Epoch 67/100\n",
            "94/94 [==============================] - 0s 2ms/step - loss: 0.4191 - accuracy: 0.7997\n",
            "Epoch 68/100\n",
            "94/94 [==============================] - 0s 2ms/step - loss: 0.4150 - accuracy: 0.8003\n",
            "Epoch 69/100\n",
            "94/94 [==============================] - 0s 2ms/step - loss: 0.4173 - accuracy: 0.8017\n",
            "Epoch 70/100\n",
            "94/94 [==============================] - 0s 2ms/step - loss: 0.4157 - accuracy: 0.8030\n",
            "Epoch 71/100\n",
            "94/94 [==============================] - 0s 2ms/step - loss: 0.4151 - accuracy: 0.8003\n",
            "Epoch 72/100\n",
            "94/94 [==============================] - 0s 2ms/step - loss: 0.4152 - accuracy: 0.7993\n",
            "Epoch 73/100\n",
            "94/94 [==============================] - 0s 2ms/step - loss: 0.4142 - accuracy: 0.8023\n",
            "Epoch 74/100\n",
            "94/94 [==============================] - 0s 2ms/step - loss: 0.4135 - accuracy: 0.8084\n",
            "Epoch 75/100\n",
            "94/94 [==============================] - 0s 2ms/step - loss: 0.4131 - accuracy: 0.8054\n",
            "Epoch 76/100\n",
            "94/94 [==============================] - 0s 2ms/step - loss: 0.4093 - accuracy: 0.8074\n",
            "Epoch 77/100\n",
            "94/94 [==============================] - 0s 2ms/step - loss: 0.4122 - accuracy: 0.8047\n",
            "Epoch 78/100\n",
            "94/94 [==============================] - 0s 2ms/step - loss: 0.4092 - accuracy: 0.8043\n",
            "Epoch 79/100\n",
            "94/94 [==============================] - 0s 2ms/step - loss: 0.4081 - accuracy: 0.8104\n",
            "Epoch 80/100\n",
            "94/94 [==============================] - 0s 2ms/step - loss: 0.4080 - accuracy: 0.8054\n",
            "Epoch 81/100\n",
            "94/94 [==============================] - 0s 2ms/step - loss: 0.4078 - accuracy: 0.8030\n",
            "Epoch 82/100\n",
            "94/94 [==============================] - 0s 2ms/step - loss: 0.4062 - accuracy: 0.8067\n",
            "Epoch 83/100\n",
            "94/94 [==============================] - 0s 2ms/step - loss: 0.4059 - accuracy: 0.8087\n",
            "Epoch 84/100\n",
            "94/94 [==============================] - 0s 2ms/step - loss: 0.4037 - accuracy: 0.8124\n",
            "Epoch 85/100\n",
            "94/94 [==============================] - 0s 2ms/step - loss: 0.4048 - accuracy: 0.8087\n",
            "Epoch 86/100\n",
            "94/94 [==============================] - 0s 2ms/step - loss: 0.4064 - accuracy: 0.8087\n",
            "Epoch 87/100\n",
            "94/94 [==============================] - 0s 2ms/step - loss: 0.4040 - accuracy: 0.8080\n",
            "Epoch 88/100\n",
            "94/94 [==============================] - 0s 3ms/step - loss: 0.4023 - accuracy: 0.8047\n",
            "Epoch 89/100\n",
            "94/94 [==============================] - 0s 3ms/step - loss: 0.4035 - accuracy: 0.8074\n",
            "Epoch 90/100\n",
            "94/94 [==============================] - 0s 3ms/step - loss: 0.4014 - accuracy: 0.8100\n",
            "Epoch 91/100\n",
            "94/94 [==============================] - 0s 3ms/step - loss: 0.4019 - accuracy: 0.8130\n",
            "Epoch 92/100\n",
            "94/94 [==============================] - 0s 3ms/step - loss: 0.3995 - accuracy: 0.8114\n",
            "Epoch 93/100\n",
            "94/94 [==============================] - 0s 3ms/step - loss: 0.3999 - accuracy: 0.8137\n",
            "Epoch 94/100\n",
            "94/94 [==============================] - 0s 3ms/step - loss: 0.3979 - accuracy: 0.8154\n",
            "Epoch 95/100\n",
            "94/94 [==============================] - 0s 3ms/step - loss: 0.3973 - accuracy: 0.8174\n",
            "Epoch 96/100\n",
            "94/94 [==============================] - 0s 3ms/step - loss: 0.3968 - accuracy: 0.8144\n",
            "Epoch 97/100\n",
            "94/94 [==============================] - 0s 3ms/step - loss: 0.3966 - accuracy: 0.8124\n",
            "Epoch 98/100\n",
            "94/94 [==============================] - 0s 3ms/step - loss: 0.3952 - accuracy: 0.8120\n",
            "Epoch 99/100\n",
            "94/94 [==============================] - 0s 2ms/step - loss: 0.3949 - accuracy: 0.8151\n",
            "Epoch 100/100\n",
            "94/94 [==============================] - 0s 2ms/step - loss: 0.3948 - accuracy: 0.8181\n",
            "44/44 [==============================] - 0s 2ms/step - loss: 0.5486 - accuracy: 0.7385\n",
            "[0.5485742092132568, 0.7384505867958069]\n",
            "44/44 [==============================] - 0s 1ms/step\n",
            "Classification Report: \n",
            "               precision    recall  f1-score   support\n",
            "\n",
            "           0       0.89      0.74      0.81      1033\n",
            "           1       0.51      0.74      0.60       374\n",
            "\n",
            "    accuracy                           0.74      1407\n",
            "   macro avg       0.70      0.74      0.70      1407\n",
            "weighted avg       0.78      0.74      0.75      1407\n",
            "\n"
          ]
        }
      ]
    },
    {
      "cell_type": "code",
      "metadata": {
        "colab": {
          "base_uri": "https://localhost:8080/"
        },
        "id": "fVBOTVPOE2fy",
        "outputId": "db7eeb3e-290c-4dea-a300-150849ea9029"
      },
      "source": [
        "X_train, y_train = get_train_batch(df3_class0, df3_class1, 1495, 2990)\n",
        "\n",
        "y_pred2 = ANN(X_train, y_train, X_test, y_test, 'binary_crossentropy', -1)"
      ],
      "execution_count": null,
      "outputs": [
        {
          "output_type": "stream",
          "name": "stdout",
          "text": [
            "Epoch 1/100\n",
            "94/94 [==============================] - 1s 2ms/step - loss: 0.5966 - accuracy: 0.7097\n",
            "Epoch 2/100\n",
            "94/94 [==============================] - 0s 2ms/step - loss: 0.5081 - accuracy: 0.7609\n",
            "Epoch 3/100\n",
            "94/94 [==============================] - 0s 2ms/step - loss: 0.4942 - accuracy: 0.7599\n",
            "Epoch 4/100\n",
            "94/94 [==============================] - 0s 2ms/step - loss: 0.4885 - accuracy: 0.7615\n",
            "Epoch 5/100\n",
            "94/94 [==============================] - 0s 2ms/step - loss: 0.4827 - accuracy: 0.7609\n",
            "Epoch 6/100\n",
            "94/94 [==============================] - 0s 2ms/step - loss: 0.4811 - accuracy: 0.7659\n",
            "Epoch 7/100\n",
            "94/94 [==============================] - 0s 2ms/step - loss: 0.4768 - accuracy: 0.7649\n",
            "Epoch 8/100\n",
            "94/94 [==============================] - 0s 2ms/step - loss: 0.4755 - accuracy: 0.7645\n",
            "Epoch 9/100\n",
            "94/94 [==============================] - 0s 2ms/step - loss: 0.4716 - accuracy: 0.7666\n",
            "Epoch 10/100\n",
            "94/94 [==============================] - 0s 2ms/step - loss: 0.4699 - accuracy: 0.7692\n",
            "Epoch 11/100\n",
            "94/94 [==============================] - 0s 2ms/step - loss: 0.4675 - accuracy: 0.7649\n",
            "Epoch 12/100\n",
            "94/94 [==============================] - 0s 2ms/step - loss: 0.4657 - accuracy: 0.7692\n",
            "Epoch 13/100\n",
            "94/94 [==============================] - 0s 2ms/step - loss: 0.4661 - accuracy: 0.7686\n",
            "Epoch 14/100\n",
            "94/94 [==============================] - 0s 2ms/step - loss: 0.4632 - accuracy: 0.7689\n",
            "Epoch 15/100\n",
            "94/94 [==============================] - 0s 2ms/step - loss: 0.4608 - accuracy: 0.7722\n",
            "Epoch 16/100\n",
            "94/94 [==============================] - 0s 2ms/step - loss: 0.4611 - accuracy: 0.7726\n",
            "Epoch 17/100\n",
            "94/94 [==============================] - 0s 2ms/step - loss: 0.4584 - accuracy: 0.7719\n",
            "Epoch 18/100\n",
            "94/94 [==============================] - 0s 2ms/step - loss: 0.4563 - accuracy: 0.7749\n",
            "Epoch 19/100\n",
            "94/94 [==============================] - 0s 2ms/step - loss: 0.4554 - accuracy: 0.7749\n",
            "Epoch 20/100\n",
            "94/94 [==============================] - 0s 2ms/step - loss: 0.4539 - accuracy: 0.7809\n",
            "Epoch 21/100\n",
            "94/94 [==============================] - 0s 2ms/step - loss: 0.4526 - accuracy: 0.7773\n",
            "Epoch 22/100\n",
            "94/94 [==============================] - 0s 2ms/step - loss: 0.4511 - accuracy: 0.7806\n",
            "Epoch 23/100\n",
            "94/94 [==============================] - 0s 2ms/step - loss: 0.4483 - accuracy: 0.7819\n",
            "Epoch 24/100\n",
            "94/94 [==============================] - 0s 2ms/step - loss: 0.4476 - accuracy: 0.7853\n",
            "Epoch 25/100\n",
            "94/94 [==============================] - 0s 2ms/step - loss: 0.4468 - accuracy: 0.7843\n",
            "Epoch 26/100\n",
            "94/94 [==============================] - 0s 2ms/step - loss: 0.4465 - accuracy: 0.7836\n",
            "Epoch 27/100\n",
            "94/94 [==============================] - 0s 2ms/step - loss: 0.4443 - accuracy: 0.7873\n",
            "Epoch 28/100\n",
            "94/94 [==============================] - 0s 2ms/step - loss: 0.4430 - accuracy: 0.7876\n",
            "Epoch 29/100\n",
            "94/94 [==============================] - 0s 2ms/step - loss: 0.4418 - accuracy: 0.7873\n",
            "Epoch 30/100\n",
            "94/94 [==============================] - 0s 2ms/step - loss: 0.4406 - accuracy: 0.7890\n",
            "Epoch 31/100\n",
            "94/94 [==============================] - 0s 2ms/step - loss: 0.4401 - accuracy: 0.7880\n",
            "Epoch 32/100\n",
            "94/94 [==============================] - 0s 2ms/step - loss: 0.4385 - accuracy: 0.7890\n",
            "Epoch 33/100\n",
            "94/94 [==============================] - 0s 2ms/step - loss: 0.4374 - accuracy: 0.7940\n",
            "Epoch 34/100\n",
            "94/94 [==============================] - 0s 2ms/step - loss: 0.4359 - accuracy: 0.7890\n",
            "Epoch 35/100\n",
            "94/94 [==============================] - 0s 2ms/step - loss: 0.4350 - accuracy: 0.7883\n",
            "Epoch 36/100\n",
            "94/94 [==============================] - 0s 2ms/step - loss: 0.4347 - accuracy: 0.7950\n",
            "Epoch 37/100\n",
            "94/94 [==============================] - 0s 2ms/step - loss: 0.4337 - accuracy: 0.7883\n",
            "Epoch 38/100\n",
            "94/94 [==============================] - 0s 2ms/step - loss: 0.4315 - accuracy: 0.7890\n",
            "Epoch 39/100\n",
            "94/94 [==============================] - 0s 2ms/step - loss: 0.4317 - accuracy: 0.7903\n",
            "Epoch 40/100\n",
            "94/94 [==============================] - 0s 3ms/step - loss: 0.4289 - accuracy: 0.7926\n",
            "Epoch 41/100\n",
            "94/94 [==============================] - 0s 3ms/step - loss: 0.4281 - accuracy: 0.7933\n",
            "Epoch 42/100\n",
            "94/94 [==============================] - 0s 3ms/step - loss: 0.4289 - accuracy: 0.7933\n",
            "Epoch 43/100\n",
            "94/94 [==============================] - 0s 3ms/step - loss: 0.4267 - accuracy: 0.7936\n",
            "Epoch 44/100\n",
            "94/94 [==============================] - 0s 3ms/step - loss: 0.4275 - accuracy: 0.7936\n",
            "Epoch 45/100\n",
            "94/94 [==============================] - 0s 3ms/step - loss: 0.4259 - accuracy: 0.7963\n",
            "Epoch 46/100\n",
            "94/94 [==============================] - 0s 3ms/step - loss: 0.4237 - accuracy: 0.7940\n",
            "Epoch 47/100\n",
            "94/94 [==============================] - 0s 3ms/step - loss: 0.4227 - accuracy: 0.7983\n",
            "Epoch 48/100\n",
            "94/94 [==============================] - 0s 3ms/step - loss: 0.4223 - accuracy: 0.8023\n",
            "Epoch 49/100\n",
            "94/94 [==============================] - 0s 3ms/step - loss: 0.4205 - accuracy: 0.8027\n",
            "Epoch 50/100\n",
            "94/94 [==============================] - 0s 3ms/step - loss: 0.4198 - accuracy: 0.7980\n",
            "Epoch 51/100\n",
            "94/94 [==============================] - 0s 2ms/step - loss: 0.4189 - accuracy: 0.7993\n",
            "Epoch 52/100\n",
            "94/94 [==============================] - 0s 2ms/step - loss: 0.4189 - accuracy: 0.8007\n",
            "Epoch 53/100\n",
            "94/94 [==============================] - 0s 2ms/step - loss: 0.4168 - accuracy: 0.8023\n",
            "Epoch 54/100\n",
            "94/94 [==============================] - 0s 2ms/step - loss: 0.4159 - accuracy: 0.8000\n",
            "Epoch 55/100\n",
            "94/94 [==============================] - 0s 2ms/step - loss: 0.4151 - accuracy: 0.8054\n",
            "Epoch 56/100\n",
            "94/94 [==============================] - 0s 2ms/step - loss: 0.4150 - accuracy: 0.8033\n",
            "Epoch 57/100\n",
            "94/94 [==============================] - 0s 2ms/step - loss: 0.4131 - accuracy: 0.8037\n",
            "Epoch 58/100\n",
            "94/94 [==============================] - 0s 2ms/step - loss: 0.4126 - accuracy: 0.8007\n",
            "Epoch 59/100\n",
            "94/94 [==============================] - 0s 2ms/step - loss: 0.4129 - accuracy: 0.8007\n",
            "Epoch 60/100\n",
            "94/94 [==============================] - 0s 2ms/step - loss: 0.4106 - accuracy: 0.8070\n",
            "Epoch 61/100\n",
            "94/94 [==============================] - 0s 2ms/step - loss: 0.4109 - accuracy: 0.8070\n",
            "Epoch 62/100\n",
            "94/94 [==============================] - 0s 2ms/step - loss: 0.4107 - accuracy: 0.8003\n",
            "Epoch 63/100\n",
            "94/94 [==============================] - 0s 2ms/step - loss: 0.4089 - accuracy: 0.8013\n",
            "Epoch 64/100\n",
            "94/94 [==============================] - 0s 2ms/step - loss: 0.4082 - accuracy: 0.8054\n",
            "Epoch 65/100\n",
            "94/94 [==============================] - 0s 2ms/step - loss: 0.4046 - accuracy: 0.8074\n",
            "Epoch 66/100\n",
            "94/94 [==============================] - 0s 2ms/step - loss: 0.4055 - accuracy: 0.8054\n",
            "Epoch 67/100\n",
            "94/94 [==============================] - 0s 2ms/step - loss: 0.4055 - accuracy: 0.8017\n",
            "Epoch 68/100\n",
            "94/94 [==============================] - 0s 2ms/step - loss: 0.4045 - accuracy: 0.8064\n",
            "Epoch 69/100\n",
            "94/94 [==============================] - 0s 2ms/step - loss: 0.4022 - accuracy: 0.8064\n",
            "Epoch 70/100\n",
            "94/94 [==============================] - 0s 2ms/step - loss: 0.4013 - accuracy: 0.8067\n",
            "Epoch 71/100\n",
            "94/94 [==============================] - 0s 2ms/step - loss: 0.4017 - accuracy: 0.8057\n",
            "Epoch 72/100\n",
            "94/94 [==============================] - 0s 2ms/step - loss: 0.3992 - accuracy: 0.8094\n",
            "Epoch 73/100\n",
            "94/94 [==============================] - 0s 2ms/step - loss: 0.4001 - accuracy: 0.8054\n",
            "Epoch 74/100\n",
            "94/94 [==============================] - 0s 2ms/step - loss: 0.4004 - accuracy: 0.8090\n",
            "Epoch 75/100\n",
            "94/94 [==============================] - 0s 2ms/step - loss: 0.3971 - accuracy: 0.8087\n",
            "Epoch 76/100\n",
            "94/94 [==============================] - 0s 2ms/step - loss: 0.3954 - accuracy: 0.8154\n",
            "Epoch 77/100\n",
            "94/94 [==============================] - 0s 2ms/step - loss: 0.3974 - accuracy: 0.8110\n",
            "Epoch 78/100\n",
            "94/94 [==============================] - 0s 2ms/step - loss: 0.3953 - accuracy: 0.8124\n",
            "Epoch 79/100\n",
            "94/94 [==============================] - 0s 2ms/step - loss: 0.3960 - accuracy: 0.8080\n",
            "Epoch 80/100\n",
            "94/94 [==============================] - 0s 2ms/step - loss: 0.3927 - accuracy: 0.8104\n",
            "Epoch 81/100\n",
            "94/94 [==============================] - 0s 2ms/step - loss: 0.3930 - accuracy: 0.8147\n",
            "Epoch 82/100\n",
            "94/94 [==============================] - 0s 2ms/step - loss: 0.3909 - accuracy: 0.8140\n",
            "Epoch 83/100\n",
            "94/94 [==============================] - 0s 2ms/step - loss: 0.3924 - accuracy: 0.8127\n",
            "Epoch 84/100\n",
            "94/94 [==============================] - 0s 2ms/step - loss: 0.3922 - accuracy: 0.8094\n",
            "Epoch 85/100\n",
            "94/94 [==============================] - 0s 2ms/step - loss: 0.3918 - accuracy: 0.8157\n",
            "Epoch 86/100\n",
            "94/94 [==============================] - 0s 2ms/step - loss: 0.3908 - accuracy: 0.8127\n",
            "Epoch 87/100\n",
            "94/94 [==============================] - 0s 2ms/step - loss: 0.3876 - accuracy: 0.8151\n",
            "Epoch 88/100\n",
            "94/94 [==============================] - 0s 2ms/step - loss: 0.3863 - accuracy: 0.8164\n",
            "Epoch 89/100\n",
            "94/94 [==============================] - 0s 2ms/step - loss: 0.3871 - accuracy: 0.8164\n",
            "Epoch 90/100\n",
            "94/94 [==============================] - 0s 2ms/step - loss: 0.3854 - accuracy: 0.8124\n",
            "Epoch 91/100\n",
            "94/94 [==============================] - 0s 2ms/step - loss: 0.3850 - accuracy: 0.8161\n",
            "Epoch 92/100\n",
            "94/94 [==============================] - 0s 2ms/step - loss: 0.3867 - accuracy: 0.8204\n",
            "Epoch 93/100\n",
            "94/94 [==============================] - 0s 2ms/step - loss: 0.3811 - accuracy: 0.8214\n",
            "Epoch 94/100\n",
            "94/94 [==============================] - 0s 2ms/step - loss: 0.3808 - accuracy: 0.8197\n",
            "Epoch 95/100\n",
            "94/94 [==============================] - 0s 2ms/step - loss: 0.3840 - accuracy: 0.8191\n",
            "Epoch 96/100\n",
            "94/94 [==============================] - 0s 2ms/step - loss: 0.3800 - accuracy: 0.8221\n",
            "Epoch 97/100\n",
            "94/94 [==============================] - 0s 2ms/step - loss: 0.3800 - accuracy: 0.8161\n",
            "Epoch 98/100\n",
            "94/94 [==============================] - 0s 2ms/step - loss: 0.3829 - accuracy: 0.8147\n",
            "Epoch 99/100\n",
            "94/94 [==============================] - 0s 2ms/step - loss: 0.3819 - accuracy: 0.8224\n",
            "Epoch 100/100\n",
            "94/94 [==============================] - 0s 2ms/step - loss: 0.3772 - accuracy: 0.8231\n",
            "44/44 [==============================] - 0s 2ms/step - loss: 0.6067 - accuracy: 0.7058\n",
            "[0.6066869497299194, 0.7057569026947021]\n",
            "44/44 [==============================] - 0s 2ms/step\n",
            "Classification Report: \n",
            "               precision    recall  f1-score   support\n",
            "\n",
            "           0       0.89      0.68      0.77      1033\n",
            "           1       0.47      0.77      0.58       374\n",
            "\n",
            "    accuracy                           0.71      1407\n",
            "   macro avg       0.68      0.73      0.68      1407\n",
            "weighted avg       0.78      0.71      0.72      1407\n",
            "\n"
          ]
        }
      ]
    },
    {
      "cell_type": "code",
      "metadata": {
        "colab": {
          "base_uri": "https://localhost:8080/"
        },
        "id": "TAllaXIPE7-U",
        "outputId": "5969434d-1383-49cc-a9b2-06824f081956"
      },
      "source": [
        "X_train, y_train = get_train_batch(df3_class0, df3_class1, 2990, 4130)\n",
        "\n",
        "y_pred3 = ANN(X_train, y_train, X_test, y_test, 'binary_crossentropy', -1)"
      ],
      "execution_count": null,
      "outputs": [
        {
          "output_type": "stream",
          "name": "stdout",
          "text": [
            "Epoch 1/100\n",
            "83/83 [==============================] - 1s 2ms/step - loss: 0.5885 - accuracy: 0.6812\n",
            "Epoch 2/100\n",
            "83/83 [==============================] - 0s 2ms/step - loss: 0.5182 - accuracy: 0.7560\n",
            "Epoch 3/100\n",
            "83/83 [==============================] - 0s 2ms/step - loss: 0.4994 - accuracy: 0.7605\n",
            "Epoch 4/100\n",
            "83/83 [==============================] - 0s 2ms/step - loss: 0.4888 - accuracy: 0.7696\n",
            "Epoch 5/100\n",
            "83/83 [==============================] - 0s 2ms/step - loss: 0.4817 - accuracy: 0.7700\n",
            "Epoch 6/100\n",
            "83/83 [==============================] - 0s 2ms/step - loss: 0.4770 - accuracy: 0.7738\n",
            "Epoch 7/100\n",
            "83/83 [==============================] - 0s 2ms/step - loss: 0.4739 - accuracy: 0.7784\n",
            "Epoch 8/100\n",
            "83/83 [==============================] - 0s 2ms/step - loss: 0.4701 - accuracy: 0.7780\n",
            "Epoch 9/100\n",
            "83/83 [==============================] - 0s 2ms/step - loss: 0.4677 - accuracy: 0.7825\n",
            "Epoch 10/100\n",
            "83/83 [==============================] - 0s 2ms/step - loss: 0.4655 - accuracy: 0.7810\n",
            "Epoch 11/100\n",
            "83/83 [==============================] - 0s 2ms/step - loss: 0.4628 - accuracy: 0.7810\n",
            "Epoch 12/100\n",
            "83/83 [==============================] - 0s 2ms/step - loss: 0.4619 - accuracy: 0.7795\n",
            "Epoch 13/100\n",
            "83/83 [==============================] - 0s 2ms/step - loss: 0.4595 - accuracy: 0.7863\n",
            "Epoch 14/100\n",
            "83/83 [==============================] - 0s 2ms/step - loss: 0.4602 - accuracy: 0.7822\n",
            "Epoch 15/100\n",
            "83/83 [==============================] - 0s 2ms/step - loss: 0.4564 - accuracy: 0.7844\n",
            "Epoch 16/100\n",
            "83/83 [==============================] - 0s 2ms/step - loss: 0.4554 - accuracy: 0.7841\n",
            "Epoch 17/100\n",
            "83/83 [==============================] - 0s 2ms/step - loss: 0.4544 - accuracy: 0.7886\n",
            "Epoch 18/100\n",
            "83/83 [==============================] - 0s 2ms/step - loss: 0.4542 - accuracy: 0.7848\n",
            "Epoch 19/100\n",
            "83/83 [==============================] - 0s 2ms/step - loss: 0.4526 - accuracy: 0.7943\n",
            "Epoch 20/100\n",
            "83/83 [==============================] - 0s 2ms/step - loss: 0.4509 - accuracy: 0.7917\n",
            "Epoch 21/100\n",
            "83/83 [==============================] - 0s 2ms/step - loss: 0.4480 - accuracy: 0.7924\n",
            "Epoch 22/100\n",
            "83/83 [==============================] - 0s 2ms/step - loss: 0.4489 - accuracy: 0.7913\n",
            "Epoch 23/100\n",
            "83/83 [==============================] - 0s 2ms/step - loss: 0.4467 - accuracy: 0.7985\n",
            "Epoch 24/100\n",
            "83/83 [==============================] - 0s 2ms/step - loss: 0.4456 - accuracy: 0.7917\n",
            "Epoch 25/100\n",
            "83/83 [==============================] - 0s 2ms/step - loss: 0.4437 - accuracy: 0.7958\n",
            "Epoch 26/100\n",
            "83/83 [==============================] - 0s 2ms/step - loss: 0.4444 - accuracy: 0.7966\n",
            "Epoch 27/100\n",
            "83/83 [==============================] - 0s 2ms/step - loss: 0.4421 - accuracy: 0.7951\n",
            "Epoch 28/100\n",
            "83/83 [==============================] - 0s 2ms/step - loss: 0.4396 - accuracy: 0.7951\n",
            "Epoch 29/100\n",
            "83/83 [==============================] - 0s 2ms/step - loss: 0.4398 - accuracy: 0.7970\n",
            "Epoch 30/100\n",
            "83/83 [==============================] - 0s 2ms/step - loss: 0.4381 - accuracy: 0.7981\n",
            "Epoch 31/100\n",
            "83/83 [==============================] - 0s 2ms/step - loss: 0.4368 - accuracy: 0.8019\n",
            "Epoch 32/100\n",
            "83/83 [==============================] - 0s 2ms/step - loss: 0.4369 - accuracy: 0.7962\n",
            "Epoch 33/100\n",
            "83/83 [==============================] - 0s 2ms/step - loss: 0.4385 - accuracy: 0.7966\n",
            "Epoch 34/100\n",
            "83/83 [==============================] - 0s 2ms/step - loss: 0.4350 - accuracy: 0.8049\n",
            "Epoch 35/100\n",
            "83/83 [==============================] - 0s 2ms/step - loss: 0.4335 - accuracy: 0.8015\n",
            "Epoch 36/100\n",
            "83/83 [==============================] - 0s 2ms/step - loss: 0.4332 - accuracy: 0.8008\n",
            "Epoch 37/100\n",
            "83/83 [==============================] - 0s 2ms/step - loss: 0.4321 - accuracy: 0.8023\n",
            "Epoch 38/100\n",
            "83/83 [==============================] - 0s 2ms/step - loss: 0.4297 - accuracy: 0.8023\n",
            "Epoch 39/100\n",
            "83/83 [==============================] - 0s 2ms/step - loss: 0.4299 - accuracy: 0.8023\n",
            "Epoch 40/100\n",
            "83/83 [==============================] - 0s 2ms/step - loss: 0.4287 - accuracy: 0.8110\n",
            "Epoch 41/100\n",
            "83/83 [==============================] - 0s 2ms/step - loss: 0.4262 - accuracy: 0.8091\n",
            "Epoch 42/100\n",
            "83/83 [==============================] - 0s 2ms/step - loss: 0.4254 - accuracy: 0.8076\n",
            "Epoch 43/100\n",
            "83/83 [==============================] - 0s 2ms/step - loss: 0.4248 - accuracy: 0.8110\n",
            "Epoch 44/100\n",
            "83/83 [==============================] - 0s 2ms/step - loss: 0.4243 - accuracy: 0.8080\n",
            "Epoch 45/100\n",
            "83/83 [==============================] - 0s 2ms/step - loss: 0.4224 - accuracy: 0.8106\n",
            "Epoch 46/100\n",
            "83/83 [==============================] - 0s 2ms/step - loss: 0.4202 - accuracy: 0.8095\n",
            "Epoch 47/100\n",
            "83/83 [==============================] - 0s 2ms/step - loss: 0.4224 - accuracy: 0.8129\n",
            "Epoch 48/100\n",
            "83/83 [==============================] - 0s 2ms/step - loss: 0.4211 - accuracy: 0.8083\n",
            "Epoch 49/100\n",
            "83/83 [==============================] - 0s 2ms/step - loss: 0.4181 - accuracy: 0.8076\n",
            "Epoch 50/100\n",
            "83/83 [==============================] - 0s 2ms/step - loss: 0.4159 - accuracy: 0.8137\n",
            "Epoch 51/100\n",
            "83/83 [==============================] - 0s 2ms/step - loss: 0.4168 - accuracy: 0.8129\n",
            "Epoch 52/100\n",
            "83/83 [==============================] - 0s 2ms/step - loss: 0.4163 - accuracy: 0.8178\n",
            "Epoch 53/100\n",
            "83/83 [==============================] - 0s 2ms/step - loss: 0.4132 - accuracy: 0.8114\n",
            "Epoch 54/100\n",
            "83/83 [==============================] - 0s 2ms/step - loss: 0.4137 - accuracy: 0.8152\n",
            "Epoch 55/100\n",
            "83/83 [==============================] - 0s 2ms/step - loss: 0.4121 - accuracy: 0.8194\n",
            "Epoch 56/100\n",
            "83/83 [==============================] - 0s 2ms/step - loss: 0.4125 - accuracy: 0.8133\n",
            "Epoch 57/100\n",
            "83/83 [==============================] - 0s 2ms/step - loss: 0.4097 - accuracy: 0.8171\n",
            "Epoch 58/100\n",
            "83/83 [==============================] - 0s 2ms/step - loss: 0.4089 - accuracy: 0.8216\n",
            "Epoch 59/100\n",
            "83/83 [==============================] - 0s 2ms/step - loss: 0.4086 - accuracy: 0.8152\n",
            "Epoch 60/100\n",
            "83/83 [==============================] - 0s 3ms/step - loss: 0.4059 - accuracy: 0.8213\n",
            "Epoch 61/100\n",
            "83/83 [==============================] - 0s 3ms/step - loss: 0.4064 - accuracy: 0.8156\n",
            "Epoch 62/100\n",
            "83/83 [==============================] - 0s 3ms/step - loss: 0.4068 - accuracy: 0.8178\n",
            "Epoch 63/100\n",
            "83/83 [==============================] - 0s 3ms/step - loss: 0.4051 - accuracy: 0.8216\n",
            "Epoch 64/100\n",
            "83/83 [==============================] - 0s 3ms/step - loss: 0.4045 - accuracy: 0.8209\n",
            "Epoch 65/100\n",
            "83/83 [==============================] - 0s 3ms/step - loss: 0.4022 - accuracy: 0.8231\n",
            "Epoch 66/100\n",
            "83/83 [==============================] - 0s 3ms/step - loss: 0.4014 - accuracy: 0.8209\n",
            "Epoch 67/100\n",
            "83/83 [==============================] - 0s 3ms/step - loss: 0.3990 - accuracy: 0.8194\n",
            "Epoch 68/100\n",
            "83/83 [==============================] - 0s 3ms/step - loss: 0.4007 - accuracy: 0.8156\n",
            "Epoch 69/100\n",
            "83/83 [==============================] - 0s 3ms/step - loss: 0.3976 - accuracy: 0.8197\n",
            "Epoch 70/100\n",
            "83/83 [==============================] - 0s 3ms/step - loss: 0.3973 - accuracy: 0.8220\n",
            "Epoch 71/100\n",
            "83/83 [==============================] - 0s 3ms/step - loss: 0.3982 - accuracy: 0.8243\n",
            "Epoch 72/100\n",
            "83/83 [==============================] - 0s 3ms/step - loss: 0.3948 - accuracy: 0.8228\n",
            "Epoch 73/100\n",
            "83/83 [==============================] - 0s 2ms/step - loss: 0.3953 - accuracy: 0.8262\n",
            "Epoch 74/100\n",
            "83/83 [==============================] - 0s 2ms/step - loss: 0.3931 - accuracy: 0.8250\n",
            "Epoch 75/100\n",
            "83/83 [==============================] - 0s 2ms/step - loss: 0.3932 - accuracy: 0.8216\n",
            "Epoch 76/100\n",
            "83/83 [==============================] - 0s 2ms/step - loss: 0.3921 - accuracy: 0.8247\n",
            "Epoch 77/100\n",
            "83/83 [==============================] - 0s 2ms/step - loss: 0.3911 - accuracy: 0.8243\n",
            "Epoch 78/100\n",
            "83/83 [==============================] - 0s 2ms/step - loss: 0.3894 - accuracy: 0.8228\n",
            "Epoch 79/100\n",
            "83/83 [==============================] - 0s 2ms/step - loss: 0.3917 - accuracy: 0.8239\n",
            "Epoch 80/100\n",
            "83/83 [==============================] - 0s 2ms/step - loss: 0.3910 - accuracy: 0.8205\n",
            "Epoch 81/100\n",
            "83/83 [==============================] - 0s 2ms/step - loss: 0.3894 - accuracy: 0.8292\n",
            "Epoch 82/100\n",
            "83/83 [==============================] - 0s 2ms/step - loss: 0.3881 - accuracy: 0.8288\n",
            "Epoch 83/100\n",
            "83/83 [==============================] - 0s 2ms/step - loss: 0.3886 - accuracy: 0.8273\n",
            "Epoch 84/100\n",
            "83/83 [==============================] - 0s 2ms/step - loss: 0.3855 - accuracy: 0.8281\n",
            "Epoch 85/100\n",
            "83/83 [==============================] - 0s 2ms/step - loss: 0.3853 - accuracy: 0.8304\n",
            "Epoch 86/100\n",
            "83/83 [==============================] - 0s 2ms/step - loss: 0.3831 - accuracy: 0.8285\n",
            "Epoch 87/100\n",
            "83/83 [==============================] - 0s 2ms/step - loss: 0.3847 - accuracy: 0.8254\n",
            "Epoch 88/100\n",
            "83/83 [==============================] - 0s 2ms/step - loss: 0.3833 - accuracy: 0.8296\n",
            "Epoch 89/100\n",
            "83/83 [==============================] - 0s 2ms/step - loss: 0.3808 - accuracy: 0.8292\n",
            "Epoch 90/100\n",
            "83/83 [==============================] - 0s 2ms/step - loss: 0.3841 - accuracy: 0.8292\n",
            "Epoch 91/100\n",
            "83/83 [==============================] - 0s 2ms/step - loss: 0.3828 - accuracy: 0.8326\n",
            "Epoch 92/100\n",
            "83/83 [==============================] - 0s 2ms/step - loss: 0.3801 - accuracy: 0.8277\n",
            "Epoch 93/100\n",
            "83/83 [==============================] - 0s 2ms/step - loss: 0.3777 - accuracy: 0.8304\n",
            "Epoch 94/100\n",
            "83/83 [==============================] - 0s 2ms/step - loss: 0.3780 - accuracy: 0.8258\n",
            "Epoch 95/100\n",
            "83/83 [==============================] - 0s 2ms/step - loss: 0.3788 - accuracy: 0.8311\n",
            "Epoch 96/100\n",
            "83/83 [==============================] - 0s 2ms/step - loss: 0.3771 - accuracy: 0.8307\n",
            "Epoch 97/100\n",
            "83/83 [==============================] - 0s 2ms/step - loss: 0.3767 - accuracy: 0.8273\n",
            "Epoch 98/100\n",
            "83/83 [==============================] - 0s 2ms/step - loss: 0.3763 - accuracy: 0.8269\n",
            "Epoch 99/100\n",
            "83/83 [==============================] - 0s 2ms/step - loss: 0.3762 - accuracy: 0.8326\n",
            "Epoch 100/100\n",
            "83/83 [==============================] - 0s 2ms/step - loss: 0.3744 - accuracy: 0.8338\n",
            "44/44 [==============================] - 0s 2ms/step - loss: 0.6853 - accuracy: 0.6660\n",
            "[0.6853243708610535, 0.6659559607505798]\n",
            "44/44 [==============================] - 0s 1ms/step\n",
            "Classification Report: \n",
            "               precision    recall  f1-score   support\n",
            "\n",
            "           0       0.91      0.61      0.73      1033\n",
            "           1       0.43      0.83      0.57       374\n",
            "\n",
            "    accuracy                           0.67      1407\n",
            "   macro avg       0.67      0.72      0.65      1407\n",
            "weighted avg       0.78      0.67      0.69      1407\n",
            "\n"
          ]
        }
      ]
    },
    {
      "cell_type": "markdown",
      "metadata": {
        "id": "piPmXK9nvG-f"
      },
      "source": [
        "y1 = 0 y2 = 1 y3 = 1  = 2\n",
        "\n",
        "y1 = 0 y2 =0 y3 = 0  = 0\n",
        "\n",
        "y1 = 0 y2 =0 y3 = 1  = 1\n",
        "\n",
        "y1 = 1 y2 = 1 y3 =1 =  3"
      ]
    },
    {
      "cell_type": "code",
      "metadata": {
        "colab": {
          "base_uri": "https://localhost:8080/"
        },
        "id": "yZKSPzcPFpNQ",
        "outputId": "db7d7480-f045-460f-9fff-22b57cbbb81f"
      },
      "source": [
        "v1 =1\n",
        "v2 = 1\n",
        "v3 = 0\n",
        "print(v1+v2+v3)"
      ],
      "execution_count": null,
      "outputs": [
        {
          "output_type": "stream",
          "name": "stdout",
          "text": [
            "2\n"
          ]
        }
      ]
    },
    {
      "cell_type": "markdown",
      "metadata": {
        "id": "YkYIqAzTGKB_"
      },
      "source": [
        "Anything greater than 1 is one. Our final prediction is the majority"
      ]
    },
    {
      "cell_type": "code",
      "metadata": {
        "colab": {
          "base_uri": "https://localhost:8080/"
        },
        "id": "HvYrlQSDFpAk",
        "outputId": "adcfe1ee-3039-40aa-d6f9-9698979ea2ef"
      },
      "source": [
        "len(y_pred1),len(y_pred2),len(y_pred3)"
      ],
      "execution_count": null,
      "outputs": [
        {
          "output_type": "execute_result",
          "data": {
            "text/plain": [
              "(1407, 1407, 1407)"
            ]
          },
          "metadata": {},
          "execution_count": 42
        }
      ]
    },
    {
      "cell_type": "code",
      "metadata": {
        "id": "muNKjUWSFBsa"
      },
      "source": [
        "y_pred_final = y_pred1.copy()\n",
        "for i in range(len(y_pred1)):\n",
        "    n_ones = y_pred1[i] + y_pred2[i] + y_pred3[i]\n",
        "    if n_ones>1:\n",
        "        y_pred_final[i] = 1\n",
        "    else:\n",
        "        y_pred_final[i] = 0"
      ],
      "execution_count": null,
      "outputs": []
    },
    {
      "cell_type": "code",
      "metadata": {
        "colab": {
          "base_uri": "https://localhost:8080/"
        },
        "id": "Aybg4jz0F1-Z",
        "outputId": "fc51aaeb-d291-404e-bfbc-cd999b7ff32a"
      },
      "source": [
        "cl_rep = classification_report(y_test, y_pred_final)\n",
        "print(cl_rep)"
      ],
      "execution_count": null,
      "outputs": [
        {
          "output_type": "stream",
          "name": "stdout",
          "text": [
            "              precision    recall  f1-score   support\n",
            "\n",
            "           0       0.89      0.69      0.78      1033\n",
            "           1       0.47      0.77      0.59       374\n",
            "\n",
            "    accuracy                           0.71      1407\n",
            "   macro avg       0.68      0.73      0.68      1407\n",
            "weighted avg       0.78      0.71      0.73      1407\n",
            "\n"
          ]
        }
      ]
    },
    {
      "cell_type": "markdown",
      "metadata": {
        "id": "G6u1iZdMGY3p"
      },
      "source": [
        "f1-score for minority class 1 improved to 0.59 from 0.55. The score for majority class 0 is suffering and reduced to 0.80 from 0.85 but at least there is some balance in terms of prediction accuracy across two classes"
      ]
    },
    {
      "cell_type": "code",
      "source": [],
      "metadata": {
        "id": "wg6Paw8juNH3"
      },
      "execution_count": null,
      "outputs": []
    }
  ]
}