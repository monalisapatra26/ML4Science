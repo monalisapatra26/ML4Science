{
  "cells": [
    {
      "cell_type": "markdown",
      "metadata": {
        "id": "view-in-github",
        "colab_type": "text"
      },
      "source": [
        "<a href=\"https://colab.research.google.com/github/monalisapatra26/ML4Science/blob/main/Deep%20Learning/LSTM%2C_GRU.ipynb\" target=\"_parent\"><img src=\"https://colab.research.google.com/assets/colab-badge.svg\" alt=\"Open In Colab\"/></a>"
      ]
    },
    {
      "cell_type": "code",
      "execution_count": null,
      "id": "9ee90806",
      "metadata": {
        "id": "9ee90806"
      },
      "outputs": [],
      "source": [
        "# Importing the libraries\n",
        "import numpy as np\n",
        "import matplotlib.pyplot as plt\n",
        "plt.style.use('fivethirtyeight')\n",
        "import pandas as pd\n",
        "from sklearn.preprocessing import MinMaxScaler\n",
        "from keras.models import Sequential\n",
        "from keras.layers import Dense, LSTM, Dropout, GRU, Bidirectional\n",
        "from keras.optimizers import SGD\n",
        "import math\n",
        "from sklearn.metrics import mean_squared_error"
      ]
    },
    {
      "cell_type": "code",
      "execution_count": null,
      "id": "50da7b75",
      "metadata": {
        "id": "50da7b75"
      },
      "outputs": [],
      "source": [
        "# Some functions to help out with\n",
        "def plot_predictions(test,predicted):\n",
        "    plt.plot(test, color='red',label='Real Stock Price')\n",
        "    plt.plot(predicted, color='blue',label='Predicted Stock Price')\n",
        "    plt.title('Stock Price Prediction')\n",
        "    plt.xlabel('Time')\n",
        "    plt.ylabel('Stock Price')\n",
        "    plt.legend()\n",
        "    plt.show()\n",
        "\n",
        "def return_rmse(test,predicted):\n",
        "    rmse = math.sqrt(mean_squared_error(test, predicted))\n",
        "    print(\"The root mean squared error is {}.\".format(rmse))"
      ]
    },
    {
      "cell_type": "code",
      "execution_count": null,
      "id": "eb616c18",
      "metadata": {
        "id": "eb616c18",
        "outputId": "2f403c24-cd20-48df-bf3d-b0f1fd9767ba"
      },
      "outputs": [
        {
          "data": {
            "text/html": [
              "<div>\n",
              "<style scoped>\n",
              "    .dataframe tbody tr th:only-of-type {\n",
              "        vertical-align: middle;\n",
              "    }\n",
              "\n",
              "    .dataframe tbody tr th {\n",
              "        vertical-align: top;\n",
              "    }\n",
              "\n",
              "    .dataframe thead th {\n",
              "        text-align: right;\n",
              "    }\n",
              "</style>\n",
              "<table border=\"1\" class=\"dataframe\">\n",
              "  <thead>\n",
              "    <tr style=\"text-align: right;\">\n",
              "      <th></th>\n",
              "      <th>Open</th>\n",
              "      <th>High</th>\n",
              "      <th>Low</th>\n",
              "      <th>Close</th>\n",
              "      <th>Volume</th>\n",
              "      <th>Name</th>\n",
              "    </tr>\n",
              "    <tr>\n",
              "      <th>Date</th>\n",
              "      <th></th>\n",
              "      <th></th>\n",
              "      <th></th>\n",
              "      <th></th>\n",
              "      <th></th>\n",
              "      <th></th>\n",
              "    </tr>\n",
              "  </thead>\n",
              "  <tbody>\n",
              "    <tr>\n",
              "      <th>2006-01-03</th>\n",
              "      <td>39.69</td>\n",
              "      <td>41.22</td>\n",
              "      <td>38.79</td>\n",
              "      <td>40.91</td>\n",
              "      <td>24232729</td>\n",
              "      <td>AABA</td>\n",
              "    </tr>\n",
              "    <tr>\n",
              "      <th>2006-01-04</th>\n",
              "      <td>41.22</td>\n",
              "      <td>41.90</td>\n",
              "      <td>40.77</td>\n",
              "      <td>40.97</td>\n",
              "      <td>20553479</td>\n",
              "      <td>AABA</td>\n",
              "    </tr>\n",
              "    <tr>\n",
              "      <th>2006-01-05</th>\n",
              "      <td>40.93</td>\n",
              "      <td>41.73</td>\n",
              "      <td>40.85</td>\n",
              "      <td>41.53</td>\n",
              "      <td>12829610</td>\n",
              "      <td>AABA</td>\n",
              "    </tr>\n",
              "    <tr>\n",
              "      <th>2006-01-06</th>\n",
              "      <td>42.88</td>\n",
              "      <td>43.57</td>\n",
              "      <td>42.80</td>\n",
              "      <td>43.21</td>\n",
              "      <td>29422828</td>\n",
              "      <td>AABA</td>\n",
              "    </tr>\n",
              "    <tr>\n",
              "      <th>2006-01-09</th>\n",
              "      <td>43.10</td>\n",
              "      <td>43.66</td>\n",
              "      <td>42.82</td>\n",
              "      <td>43.42</td>\n",
              "      <td>16268338</td>\n",
              "      <td>AABA</td>\n",
              "    </tr>\n",
              "  </tbody>\n",
              "</table>\n",
              "</div>"
            ],
            "text/plain": [
              "             Open   High    Low  Close    Volume  Name\n",
              "Date                                                  \n",
              "2006-01-03  39.69  41.22  38.79  40.91  24232729  AABA\n",
              "2006-01-04  41.22  41.90  40.77  40.97  20553479  AABA\n",
              "2006-01-05  40.93  41.73  40.85  41.53  12829610  AABA\n",
              "2006-01-06  42.88  43.57  42.80  43.21  29422828  AABA\n",
              "2006-01-09  43.10  43.66  42.82  43.42  16268338  AABA"
            ]
          },
          "execution_count": 3,
          "metadata": {},
          "output_type": "execute_result"
        }
      ],
      "source": [
        "# First, we get the data\n",
        "dataset = pd.read_csv('data-stock-price.csv', index_col='Date', parse_dates=['Date'])\n",
        "dataset.head()"
      ]
    },
    {
      "cell_type": "code",
      "execution_count": null,
      "id": "c8c12423",
      "metadata": {
        "id": "c8c12423"
      },
      "outputs": [],
      "source": [
        "training_set = dataset[:'2016'].iloc[:,1:2].values\n",
        "test_set = dataset['2017':].iloc[:,1:2].values"
      ]
    },
    {
      "cell_type": "code",
      "execution_count": null,
      "id": "fc44a865",
      "metadata": {
        "id": "fc44a865",
        "outputId": "53f3a93f-e4ed-47f5-ed53-d8bb9c6d34ec"
      },
      "outputs": [
        {
          "data": {
            "image/png": "[encoded data removed]",
            "text/plain": [
              "<Figure size 1152x288 with 1 Axes>"
            ]
          },
          "metadata": {},
          "output_type": "display_data"
        }
      ],
      "source": [
        "# We have chosen 'High' attribute for prices. Let's see what it looks like\n",
        "dataset[\"High\"][:'2016'].plot(figsize=(16,4),legend=True)\n",
        "dataset[\"High\"]['2017':].plot(figsize=(16,4),legend=True)\n",
        "plt.legend(['Training set (Before 2017)','Test set (2017 and beyond)'])\n",
        "plt.title('stock price')\n",
        "plt.show()"
      ]
    },
    {
      "cell_type": "code",
      "execution_count": null,
      "id": "3cea362f",
      "metadata": {
        "id": "3cea362f"
      },
      "outputs": [],
      "source": [
        "# Scaling the training set\n",
        "sc = MinMaxScaler(feature_range=(0,1))\n",
        "training_set_scaled = sc.fit_transform(training_set)"
      ]
    },
    {
      "cell_type": "code",
      "execution_count": null,
      "id": "6a1145e7",
      "metadata": {
        "id": "6a1145e7",
        "outputId": "00ad2aa7-59f0-4b48-c045-d7d5d3b108df"
      },
      "outputs": [
        {
          "data": {
            "text/plain": [
              "(2768, 1)"
            ]
          },
          "execution_count": 13,
          "metadata": {},
          "output_type": "execute_result"
        }
      ],
      "source": [
        "training_set_scaled.shape"
      ]
    },
    {
      "cell_type": "code",
      "execution_count": null,
      "id": "57529080",
      "metadata": {
        "id": "57529080"
      },
      "outputs": [],
      "source": [
        "# Since LSTMs store long term memory state, we create a data structure\n",
        "#with 60 timesteps and 1 output\n",
        "# So for each element of training set, we have 60 previous training set elements\n",
        "X_train = []\n",
        "y_train = []\n",
        "for i in range(60,2768):\n",
        "    X_train.append(training_set_scaled[i-60:i,0])\n",
        "    y_train.append(training_set_scaled[i,0])\n",
        "X_train, y_train = np.array(X_train), np.array(y_train)"
      ]
    },
    {
      "cell_type": "code",
      "execution_count": null,
      "id": "fbd9a2ca",
      "metadata": {
        "id": "fbd9a2ca",
        "outputId": "5368b998-18f8-4717-f4d3-6a80433806ee"
      },
      "outputs": [
        {
          "data": {
            "text/plain": [
              "(2708, 60)"
            ]
          },
          "execution_count": 15,
          "metadata": {},
          "output_type": "execute_result"
        }
      ],
      "source": [
        "X_train.shape"
      ]
    },
    {
      "cell_type": "code",
      "execution_count": null,
      "id": "c4028ad9",
      "metadata": {
        "id": "c4028ad9"
      },
      "outputs": [],
      "source": [
        "# Reshaping X_train for efficient modelling\n",
        "X_train = np.reshape(X_train, (X_train.shape[0],X_train.shape[1],1))"
      ]
    },
    {
      "cell_type": "code",
      "execution_count": null,
      "id": "373cf076",
      "metadata": {
        "id": "373cf076",
        "outputId": "ef4d7ef0-eefe-4335-b294-a199cd68c446"
      },
      "outputs": [
        {
          "data": {
            "text/plain": [
              "(2708, 60, 1)"
            ]
          },
          "execution_count": 17,
          "metadata": {},
          "output_type": "execute_result"
        }
      ],
      "source": [
        "X_train.shape"
      ]
    },
    {
      "cell_type": "code",
      "execution_count": null,
      "id": "cf901c20",
      "metadata": {
        "id": "cf901c20"
      },
      "outputs": [],
      "source": [
        "# The LSTM architecture\n",
        "regressor = Sequential()\n",
        "# First LSTM layer with Dropout regularisation\n",
        "regressor.add(LSTM(units=50, return_sequences=True, input_shape=(X_train.shape[1],1)))\n",
        "regressor.add(Dropout(0.2))\n",
        "# Second LSTM layer\n",
        "regressor.add(LSTM(units=50, return_sequences=True))\n",
        "regressor.add(Dropout(0.2))\n",
        "# Third LSTM layer\n",
        "regressor.add(LSTM(units=50, return_sequences=True))\n",
        "regressor.add(Dropout(0.2))\n",
        "# Fourth LSTM layer\n",
        "regressor.add(LSTM(units=50))\n",
        "regressor.add(Dropout(0.2))\n",
        "# The output layer\n",
        "regressor.add(Dense(units=1))"
      ]
    },
    {
      "cell_type": "code",
      "execution_count": null,
      "id": "65096385",
      "metadata": {
        "id": "65096385",
        "outputId": "d75f2245-aef0-49a2-b708-963508c0d24e"
      },
      "outputs": [
        {
          "name": "stdout",
          "output_type": "stream",
          "text": [
            "Epoch 1/50\n",
            "85/85 [==============================] - 23s 120ms/step - loss: 0.0154\n",
            "Epoch 2/50\n",
            "85/85 [==============================] - 7s 86ms/step - loss: 0.0079\n",
            "Epoch 3/50\n",
            "85/85 [==============================] - 10s 117ms/step - loss: 0.0064\n",
            "Epoch 4/50\n",
            "85/85 [==============================] - 7s 83ms/step - loss: 0.0050\n",
            "Epoch 5/50\n",
            "85/85 [==============================] - 11s 125ms/step - loss: 0.0042\n",
            "Epoch 6/50\n",
            "85/85 [==============================] - 8s 90ms/step - loss: 0.0040\n",
            "Epoch 7/50\n",
            "85/85 [==============================] - 9s 107ms/step - loss: 0.0036\n",
            "Epoch 8/50\n",
            "85/85 [==============================] - 9s 103ms/step - loss: 0.0033\n",
            "Epoch 9/50\n",
            "85/85 [==============================] - 9s 104ms/step - loss: 0.0031\n",
            "Epoch 10/50\n",
            "85/85 [==============================] - 10s 118ms/step - loss: 0.0028\n",
            "Epoch 11/50\n",
            "85/85 [==============================] - 7s 83ms/step - loss: 0.0025\n",
            "Epoch 12/50\n",
            "85/85 [==============================] - 10s 121ms/step - loss: 0.0025\n",
            "Epoch 13/50\n",
            "85/85 [==============================] - 7s 82ms/step - loss: 0.0024\n",
            "Epoch 14/50\n",
            "85/85 [==============================] - 10s 124ms/step - loss: 0.0023\n",
            "Epoch 15/50\n",
            "85/85 [==============================] - 8s 92ms/step - loss: 0.0021\n",
            "Epoch 16/50\n",
            "85/85 [==============================] - 10s 119ms/step - loss: 0.0021\n",
            "Epoch 17/50\n",
            "85/85 [==============================] - 9s 111ms/step - loss: 0.0019\n",
            "Epoch 18/50\n",
            "85/85 [==============================] - 8s 99ms/step - loss: 0.0019\n",
            "Epoch 19/50\n",
            "85/85 [==============================] - 11s 128ms/step - loss: 0.0019\n",
            "Epoch 20/50\n",
            "85/85 [==============================] - 7s 84ms/step - loss: 0.0018\n",
            "Epoch 21/50\n",
            "85/85 [==============================] - 10s 118ms/step - loss: 0.0017\n",
            "Epoch 22/50\n",
            "85/85 [==============================] - 8s 96ms/step - loss: 0.0018\n",
            "Epoch 23/50\n",
            "85/85 [==============================] - 10s 118ms/step - loss: 0.0017\n",
            "Epoch 24/50\n",
            "85/85 [==============================] - 9s 111ms/step - loss: 0.0015\n",
            "Epoch 25/50\n",
            "85/85 [==============================] - 8s 96ms/step - loss: 0.0017\n",
            "Epoch 26/50\n",
            "85/85 [==============================] - 11s 127ms/step - loss: 0.0016\n",
            "Epoch 27/50\n",
            "85/85 [==============================] - 7s 86ms/step - loss: 0.0015\n",
            "Epoch 28/50\n",
            "85/85 [==============================] - 11s 125ms/step - loss: 0.0015\n",
            "Epoch 29/50\n",
            "85/85 [==============================] - 8s 93ms/step - loss: 0.0014\n",
            "Epoch 30/50\n",
            "85/85 [==============================] - 10s 113ms/step - loss: 0.0014\n",
            "Epoch 31/50\n",
            "85/85 [==============================] - 10s 116ms/step - loss: 0.0014\n",
            "Epoch 32/50\n",
            "85/85 [==============================] - 8s 99ms/step - loss: 0.0013\n",
            "Epoch 33/50\n",
            "85/85 [==============================] - 10s 121ms/step - loss: 0.0014\n",
            "Epoch 34/50\n",
            "85/85 [==============================] - 8s 96ms/step - loss: 0.0014\n",
            "Epoch 35/50\n",
            "85/85 [==============================] - 12s 141ms/step - loss: 0.0013\n",
            "Epoch 36/50\n",
            "85/85 [==============================] - 9s 104ms/step - loss: 0.0013\n",
            "Epoch 37/50\n",
            "85/85 [==============================] - 9s 102ms/step - loss: 0.0013\n",
            "Epoch 38/50\n",
            "85/85 [==============================] - 11s 131ms/step - loss: 0.0013\n",
            "Epoch 39/50\n",
            "85/85 [==============================] - 8s 93ms/step - loss: 0.0013\n",
            "Epoch 40/50\n",
            "85/85 [==============================] - 10s 114ms/step - loss: 0.0013\n",
            "Epoch 41/50\n",
            "85/85 [==============================] - 9s 106ms/step - loss: 0.0013\n",
            "Epoch 42/50\n",
            "85/85 [==============================] - 9s 106ms/step - loss: 0.0013\n",
            "Epoch 43/50\n",
            "85/85 [==============================] - 10s 118ms/step - loss: 0.0012\n",
            "Epoch 44/50\n",
            "85/85 [==============================] - 8s 92ms/step - loss: 0.0012\n",
            "Epoch 45/50\n",
            "85/85 [==============================] - 11s 125ms/step - loss: 0.0012\n",
            "Epoch 46/50\n",
            "85/85 [==============================] - 8s 89ms/step - loss: 0.0013\n",
            "Epoch 47/50\n",
            "85/85 [==============================] - 10s 119ms/step - loss: 0.0011\n",
            "Epoch 48/50\n",
            "85/85 [==============================] - 9s 100ms/step - loss: 0.0012\n",
            "Epoch 49/50\n",
            "85/85 [==============================] - 9s 110ms/step - loss: 0.0012\n",
            "Epoch 50/50\n",
            "85/85 [==============================] - 10s 115ms/step - loss: 0.0011\n"
          ]
        },
        {
          "data": {
            "text/plain": [
              "<keras.callbacks.History at 0x237e3958400>"
            ]
          },
          "execution_count": 19,
          "metadata": {},
          "output_type": "execute_result"
        }
      ],
      "source": [
        "# Compiling the RNN\n",
        "regressor.compile(optimizer='rmsprop',loss='mean_squared_error')\n",
        "# Fitting to the training set\n",
        "regressor.fit(X_train,y_train,epochs=50,batch_size=32)"
      ]
    },
    {
      "cell_type": "code",
      "execution_count": null,
      "id": "2859da77",
      "metadata": {
        "id": "2859da77"
      },
      "outputs": [],
      "source": [
        "# Now to get the test set ready in a similar way as the training set.\n",
        "# The following has been done so first 60 entires of test set\n",
        "# have 60 previous values which is impossible to get unless we take the whole\n",
        "# 'High' attribute data for processing\n",
        "dataset_total = pd.concat((dataset[\"High\"][:'2016'],dataset[\"High\"]['2017':]),axis=0)\n",
        "inputs = dataset_total[len(dataset_total)-len(test_set) - 60:].values\n",
        "inputs = inputs.reshape(-1,1)\n",
        "inputs  = sc.transform(inputs)"
      ]
    },
    {
      "cell_type": "code",
      "execution_count": null,
      "id": "71ac8c8d",
      "metadata": {
        "id": "71ac8c8d",
        "outputId": "05139325-4b86-4a61-cd11-616bcfad415e"
      },
      "outputs": [
        {
          "name": "stdout",
          "output_type": "stream",
          "text": [
            "8/8 [==============================] - 4s 57ms/step\n"
          ]
        }
      ],
      "source": [
        "# Preparing X_test and predicting the prices\n",
        "X_test = []\n",
        "for i in range(60,311):\n",
        "    X_test.append(inputs[i-60:i,0])\n",
        "X_test = np.array(X_test)\n",
        "X_test = np.reshape(X_test, (X_test.shape[0],X_test.shape[1],1))\n",
        "predicted_stock_price = regressor.predict(X_test)\n",
        "predicted_stock_price = sc.inverse_transform(predicted_stock_price)"
      ]
    },
    {
      "cell_type": "code",
      "execution_count": null,
      "id": "e22f88a5",
      "metadata": {
        "id": "e22f88a5",
        "outputId": "655ad9a6-2228-44fc-c164-8042ace1396a"
      },
      "outputs": [
        {
          "data": {
            "image/png": "[encoded data removed]",
            "text/plain": [
              "<Figure size 432x288 with 1 Axes>"
            ]
          },
          "metadata": {},
          "output_type": "display_data"
        }
      ],
      "source": [
        "# Visualizing the results for LSTM\n",
        "plot_predictions(test_set,predicted_stock_price)"
      ]
    },
    {
      "cell_type": "code",
      "execution_count": null,
      "id": "df323a1f",
      "metadata": {
        "id": "df323a1f",
        "outputId": "74877542-4814-4fb9-8c53-e228ec0b5772"
      },
      "outputs": [
        {
          "name": "stdout",
          "output_type": "stream",
          "text": [
            "The root mean squared error is 3.876680185630004.\n"
          ]
        }
      ],
      "source": [
        "# Evaluating our model\n",
        "return_rmse(test_set,predicted_stock_price)"
      ]
    },
    {
      "cell_type": "code",
      "execution_count": null,
      "id": "7d1b5240",
      "metadata": {
        "id": "7d1b5240",
        "outputId": "bf2303af-cb0e-414b-9096-82b2526d5a8e"
      },
      "outputs": [
        {
          "name": "stdout",
          "output_type": "stream",
          "text": [
            "Epoch 1/50\n"
          ]
        },
        {
          "name": "stderr",
          "output_type": "stream",
          "text": [
            "C:\\Users\\monal\\anaconda3\\lib\\site-packages\\keras\\optimizers\\optimizer_v2\\gradient_descent.py:108: UserWarning: The `lr` argument is deprecated, use `learning_rate` instead.\n",
            "  super(SGD, self).__init__(name, **kwargs)\n"
          ]
        },
        {
          "name": "stdout",
          "output_type": "stream",
          "text": [
            "19/19 [==============================] - 17s 214ms/step - loss: 0.0948\n",
            "Epoch 2/50\n",
            "19/19 [==============================] - 4s 203ms/step - loss: 0.0387\n",
            "Epoch 3/50\n",
            "19/19 [==============================] - 6s 318ms/step - loss: 0.0130\n",
            "Epoch 4/50\n",
            "19/19 [==============================] - 5s 258ms/step - loss: 0.0036\n",
            "Epoch 5/50\n",
            "19/19 [==============================] - 4s 217ms/step - loss: 0.0031\n",
            "Epoch 6/50\n",
            "19/19 [==============================] - 5s 266ms/step - loss: 0.0028\n",
            "Epoch 7/50\n",
            "19/19 [==============================] - 6s 309ms/step - loss: 0.0025\n",
            "Epoch 8/50\n",
            "19/19 [==============================] - 5s 249ms/step - loss: 0.0026\n",
            "Epoch 9/50\n",
            "19/19 [==============================] - 5s 253ms/step - loss: 0.0025\n",
            "Epoch 10/50\n",
            "19/19 [==============================] - 8s 395ms/step - loss: 0.0025\n",
            "Epoch 11/50\n",
            "19/19 [==============================] - 5s 254ms/step - loss: 0.0024\n",
            "Epoch 12/50\n",
            "19/19 [==============================] - 6s 346ms/step - loss: 0.0025\n",
            "Epoch 13/50\n",
            "19/19 [==============================] - 5s 249ms/step - loss: 0.0023\n",
            "Epoch 14/50\n",
            "19/19 [==============================] - 5s 252ms/step - loss: 0.0021\n",
            "Epoch 15/50\n",
            "19/19 [==============================] - 7s 379ms/step - loss: 0.0023\n",
            "Epoch 16/50\n",
            "19/19 [==============================] - 5s 263ms/step - loss: 0.0021\n",
            "Epoch 17/50\n",
            "19/19 [==============================] - 5s 243ms/step - loss: 0.0022\n",
            "Epoch 18/50\n",
            "19/19 [==============================] - 7s 396ms/step - loss: 0.0022\n",
            "Epoch 19/50\n",
            "19/19 [==============================] - 5s 279ms/step - loss: 0.0021\n",
            "Epoch 20/50\n",
            "19/19 [==============================] - 5s 268ms/step - loss: 0.0021\n",
            "Epoch 21/50\n",
            "19/19 [==============================] - 8s 405ms/step - loss: 0.0020\n",
            "Epoch 22/50\n",
            "19/19 [==============================] - 5s 266ms/step - loss: 0.0022\n",
            "Epoch 23/50\n",
            "19/19 [==============================] - 6s 330ms/step - loss: 0.0020\n",
            "Epoch 24/50\n",
            "19/19 [==============================] - 6s 300ms/step - loss: 0.0021\n",
            "Epoch 25/50\n",
            "19/19 [==============================] - 5s 258ms/step - loss: 0.0023\n",
            "Epoch 26/50\n",
            "19/19 [==============================] - 7s 388ms/step - loss: 0.0020\n",
            "Epoch 27/50\n",
            "19/19 [==============================] - 6s 302ms/step - loss: 0.0020\n",
            "Epoch 28/50\n",
            "19/19 [==============================] - 4s 211ms/step - loss: 0.0020\n",
            "Epoch 29/50\n",
            "19/19 [==============================] - 8s 415ms/step - loss: 0.0019\n",
            "Epoch 30/50\n",
            "19/19 [==============================] - 5s 283ms/step - loss: 0.0019\n",
            "Epoch 31/50\n",
            "19/19 [==============================] - 6s 299ms/step - loss: 0.0019\n",
            "Epoch 32/50\n",
            "19/19 [==============================] - 6s 331ms/step - loss: 0.0019\n",
            "Epoch 33/50\n",
            "19/19 [==============================] - 5s 262ms/step - loss: 0.0018\n",
            "Epoch 34/50\n",
            "19/19 [==============================] - 6s 347ms/step - loss: 0.0018\n",
            "Epoch 35/50\n",
            "19/19 [==============================] - 6s 288ms/step - loss: 0.0018\n",
            "Epoch 36/50\n",
            "19/19 [==============================] - 5s 257ms/step - loss: 0.0020\n",
            "Epoch 37/50\n",
            "19/19 [==============================] - 7s 377ms/step - loss: 0.0019\n",
            "Epoch 38/50\n",
            "19/19 [==============================] - 4s 230ms/step - loss: 0.0019\n",
            "Epoch 39/50\n",
            "19/19 [==============================] - 5s 254ms/step - loss: 0.0018\n",
            "Epoch 40/50\n",
            "19/19 [==============================] - 7s 375ms/step - loss: 0.0018\n",
            "Epoch 41/50\n",
            "19/19 [==============================] - 6s 320ms/step - loss: 0.0017\n",
            "Epoch 42/50\n",
            "19/19 [==============================] - 5s 262ms/step - loss: 0.0018\n",
            "Epoch 43/50\n",
            "19/19 [==============================] - 7s 369ms/step - loss: 0.0018\n",
            "Epoch 44/50\n",
            "19/19 [==============================] - 5s 272ms/step - loss: 0.0018\n",
            "Epoch 45/50\n",
            "19/19 [==============================] - 6s 328ms/step - loss: 0.0018\n",
            "Epoch 46/50\n",
            "19/19 [==============================] - 7s 335ms/step - loss: 0.0018\n",
            "Epoch 47/50\n",
            "19/19 [==============================] - 5s 247ms/step - loss: 0.0018\n",
            "Epoch 48/50\n",
            "19/19 [==============================] - 7s 370ms/step - loss: 0.0017\n",
            "Epoch 49/50\n",
            "19/19 [==============================] - 5s 274ms/step - loss: 0.0016\n",
            "Epoch 50/50\n",
            "19/19 [==============================] - 5s 249ms/step - loss: 0.0019\n"
          ]
        },
        {
          "data": {
            "text/plain": [
              "<keras.callbacks.History at 0x237efbbe310>"
            ]
          },
          "execution_count": 24,
          "metadata": {},
          "output_type": "execute_result"
        }
      ],
      "source": [
        "# The GRU architecture\n",
        "regressorGRU = Sequential()\n",
        "# First GRU layer with Dropout regularisation\n",
        "regressorGRU.add(GRU(units=50, return_sequences=True, input_shape=(X_train.shape[1],1), activation='tanh'))\n",
        "regressorGRU.add(Dropout(0.2))\n",
        "# Second GRU layer\n",
        "regressorGRU.add(GRU(units=50, return_sequences=True, input_shape=(X_train.shape[1],1), activation='tanh'))\n",
        "regressorGRU.add(Dropout(0.2))\n",
        "# Third GRU layer\n",
        "regressorGRU.add(GRU(units=50, return_sequences=True, input_shape=(X_train.shape[1],1), activation='tanh'))\n",
        "regressorGRU.add(Dropout(0.2))\n",
        "# Fourth GRU layer\n",
        "regressorGRU.add(GRU(units=50, activation='tanh'))\n",
        "regressorGRU.add(Dropout(0.2))\n",
        "# The output layer\n",
        "regressorGRU.add(Dense(units=1))\n",
        "# Compiling the RNN\n",
        "regressorGRU.compile(optimizer=SGD(lr=0.01, decay=1e-7, momentum=0.9, nesterov=False),loss='mean_squared_error')\n",
        "# Fitting to the training set\n",
        "regressorGRU.fit(X_train,y_train,epochs=50,batch_size=150)"
      ]
    },
    {
      "cell_type": "code",
      "execution_count": null,
      "id": "ffba1d36",
      "metadata": {
        "id": "ffba1d36",
        "outputId": "0eb29caf-8326-418b-d24a-e9bac2e2b93d"
      },
      "outputs": [
        {
          "name": "stdout",
          "output_type": "stream",
          "text": [
            "8/8 [==============================] - 2s 26ms/step\n"
          ]
        }
      ],
      "source": [
        "# Preparing X_test and predicting the prices\n",
        "X_test = []\n",
        "for i in range(60,311):\n",
        "    X_test.append(inputs[i-60:i,0])\n",
        "X_test = np.array(X_test)\n",
        "X_test = np.reshape(X_test, (X_test.shape[0],X_test.shape[1],1))\n",
        "GRU_predicted_stock_price = regressorGRU.predict(X_test)\n",
        "GRU_predicted_stock_price = sc.inverse_transform(GRU_predicted_stock_price)"
      ]
    },
    {
      "cell_type": "code",
      "execution_count": null,
      "id": "dac90f30",
      "metadata": {
        "id": "dac90f30",
        "outputId": "dcb13af0-c723-4b8c-b5b3-ab7b758efa2a"
      },
      "outputs": [
        {
          "data": {
            "image/png": "[encoded data removed]",
            "text/plain": [
              "<Figure size 432x288 with 1 Axes>"
            ]
          },
          "metadata": {},
          "output_type": "display_data"
        }
      ],
      "source": [
        "# Visualizing the results for GRU\n",
        "plot_predictions(test_set,GRU_predicted_stock_price)"
      ]
    },
    {
      "cell_type": "code",
      "execution_count": null,
      "id": "49b6d5b4",
      "metadata": {
        "id": "49b6d5b4",
        "outputId": "279ccd6a-ae09-480c-a1fe-8282ab2eb074"
      },
      "outputs": [
        {
          "name": "stdout",
          "output_type": "stream",
          "text": [
            "The root mean squared error is 2.6367573250053686.\n"
          ]
        }
      ],
      "source": [
        "# Evaluating GRU\n",
        "return_rmse(test_set,GRU_predicted_stock_price)"
      ]
    },
    {
      "cell_type": "code",
      "execution_count": null,
      "id": "e717db28",
      "metadata": {
        "id": "e717db28"
      },
      "outputs": [],
      "source": []
    }
  ],
  "metadata": {
    "kernelspec": {
      "display_name": "Python 3 (ipykernel)",
      "language": "python",
      "name": "python3"
    },
    "language_info": {
      "codemirror_mode": {
        "name": "ipython",
        "version": 3
      },
      "file_extension": ".py",
      "mimetype": "text/x-python",
      "name": "python",
      "nbconvert_exporter": "python",
      "pygments_lexer": "ipython3",
      "version": "3.9.12"
    },
    "colab": {
      "provenance": [],
      "include_colab_link": true
    }
  },
  "nbformat": 4,
  "nbformat_minor": 5
}