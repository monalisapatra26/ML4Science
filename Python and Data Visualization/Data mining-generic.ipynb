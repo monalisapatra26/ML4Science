{
 "cells": [
  {
   "cell_type": "code",
   "execution_count": 1,
   "id": "e44d9edf",
   "metadata": {},
   "outputs": [],
   "source": [
    "import pandas as pd\n",
    "import numpy as np"
   ]
  },
  {
   "cell_type": "code",
   "execution_count": 2,
   "id": "375cbec1",
   "metadata": {},
   "outputs": [
    {
     "name": "stdout",
     "output_type": "stream",
     "text": [
      "(891, 6)\n"
     ]
    },
    {
     "data": {
      "text/html": [
       "<div>\n",
       "<style scoped>\n",
       "    .dataframe tbody tr th:only-of-type {\n",
       "        vertical-align: middle;\n",
       "    }\n",
       "\n",
       "    .dataframe tbody tr th {\n",
       "        vertical-align: top;\n",
       "    }\n",
       "\n",
       "    .dataframe thead th {\n",
       "        text-align: right;\n",
       "    }\n",
       "</style>\n",
       "<table border=\"1\" class=\"dataframe\">\n",
       "  <thead>\n",
       "    <tr style=\"text-align: right;\">\n",
       "      <th></th>\n",
       "      <th>Survived</th>\n",
       "      <th>Pclass</th>\n",
       "      <th>Sex</th>\n",
       "      <th>Age</th>\n",
       "      <th>SibSp</th>\n",
       "      <th>Fare</th>\n",
       "    </tr>\n",
       "  </thead>\n",
       "  <tbody>\n",
       "    <tr>\n",
       "      <th>0</th>\n",
       "      <td>0</td>\n",
       "      <td>3</td>\n",
       "      <td>male</td>\n",
       "      <td>22.0</td>\n",
       "      <td>1</td>\n",
       "      <td>7.2500</td>\n",
       "    </tr>\n",
       "    <tr>\n",
       "      <th>1</th>\n",
       "      <td>1</td>\n",
       "      <td>1</td>\n",
       "      <td>female</td>\n",
       "      <td>38.0</td>\n",
       "      <td>1</td>\n",
       "      <td>71.2833</td>\n",
       "    </tr>\n",
       "    <tr>\n",
       "      <th>2</th>\n",
       "      <td>1</td>\n",
       "      <td>3</td>\n",
       "      <td>female</td>\n",
       "      <td>26.0</td>\n",
       "      <td>0</td>\n",
       "      <td>7.9250</td>\n",
       "    </tr>\n",
       "    <tr>\n",
       "      <th>3</th>\n",
       "      <td>1</td>\n",
       "      <td>1</td>\n",
       "      <td>other</td>\n",
       "      <td>35.0</td>\n",
       "      <td>1</td>\n",
       "      <td>53.1000</td>\n",
       "    </tr>\n",
       "    <tr>\n",
       "      <th>4</th>\n",
       "      <td>0</td>\n",
       "      <td>3</td>\n",
       "      <td>NaN</td>\n",
       "      <td>35.0</td>\n",
       "      <td>0</td>\n",
       "      <td>8.0500</td>\n",
       "    </tr>\n",
       "    <tr>\n",
       "      <th>5</th>\n",
       "      <td>0</td>\n",
       "      <td>3</td>\n",
       "      <td>male</td>\n",
       "      <td>NaN</td>\n",
       "      <td>0</td>\n",
       "      <td>8.4583</td>\n",
       "    </tr>\n",
       "    <tr>\n",
       "      <th>6</th>\n",
       "      <td>0</td>\n",
       "      <td>1</td>\n",
       "      <td>male</td>\n",
       "      <td>54.0</td>\n",
       "      <td>0</td>\n",
       "      <td>51.8625</td>\n",
       "    </tr>\n",
       "    <tr>\n",
       "      <th>7</th>\n",
       "      <td>0</td>\n",
       "      <td>3</td>\n",
       "      <td>male</td>\n",
       "      <td>2.0</td>\n",
       "      <td>3</td>\n",
       "      <td>21.0750</td>\n",
       "    </tr>\n",
       "  </tbody>\n",
       "</table>\n",
       "</div>"
      ],
      "text/plain": [
       "   Survived  Pclass     Sex   Age  SibSp     Fare\n",
       "0         0       3    male  22.0      1   7.2500\n",
       "1         1       1  female  38.0      1  71.2833\n",
       "2         1       3  female  26.0      0   7.9250\n",
       "3         1       1   other  35.0      1  53.1000\n",
       "4         0       3     NaN  35.0      0   8.0500\n",
       "5         0       3    male   NaN      0   8.4583\n",
       "6         0       1    male  54.0      0  51.8625\n",
       "7         0       3    male   2.0      3  21.0750"
      ]
     },
     "execution_count": 2,
     "metadata": {},
     "output_type": "execute_result"
    }
   ],
   "source": [
    "#Load Dataset\n",
    "\n",
    "use_cols = [\n",
    "    'Pclass', 'Sex', 'Age', 'Fare', 'SibSp',\n",
    "    'Survived'\n",
    "]\n",
    "\n",
    "data = pd.read_csv('./testdata.csv', usecols=use_cols)\n",
    "print(data.shape)\n",
    "data.head(8)"
   ]
  },
  {
   "cell_type": "code",
   "execution_count": 3,
   "id": "5439b662",
   "metadata": {},
   "outputs": [
    {
     "name": "stdout",
     "output_type": "stream",
     "text": [
      "Column name - Pclass, Null values found - False, Count - 0\n",
      "Column name - Sex, Null values found - True, Count - 1\n",
      "Column name - Age, Null values found - True, Count - 177\n",
      "Column name - Fare, Null values found - False, Count - 0\n",
      "Column name - SibSp, Null values found - False, Count - 0\n",
      "Column name - Survived, Null values found - False, Count - 0\n"
     ]
    }
   ],
   "source": [
    "# Check for missing data\n",
    "\n",
    "for colname in use_cols:\n",
    "    print('Column name - {}, Null values found - {}, Count - {}'.format(colname,data[colname].isnull().values.any(),data[colname].isnull().sum()))"
   ]
  },
  {
   "cell_type": "code",
   "execution_count": 4,
   "id": "4892086a",
   "metadata": {},
   "outputs": [
    {
     "name": "stdout",
     "output_type": "stream",
     "text": [
      "(713, 6)\n"
     ]
    },
    {
     "data": {
      "text/html": [
       "<div>\n",
       "<style scoped>\n",
       "    .dataframe tbody tr th:only-of-type {\n",
       "        vertical-align: middle;\n",
       "    }\n",
       "\n",
       "    .dataframe tbody tr th {\n",
       "        vertical-align: top;\n",
       "    }\n",
       "\n",
       "    .dataframe thead th {\n",
       "        text-align: right;\n",
       "    }\n",
       "</style>\n",
       "<table border=\"1\" class=\"dataframe\">\n",
       "  <thead>\n",
       "    <tr style=\"text-align: right;\">\n",
       "      <th></th>\n",
       "      <th>Survived</th>\n",
       "      <th>Pclass</th>\n",
       "      <th>Sex</th>\n",
       "      <th>Age</th>\n",
       "      <th>SibSp</th>\n",
       "      <th>Fare</th>\n",
       "    </tr>\n",
       "  </thead>\n",
       "  <tbody>\n",
       "    <tr>\n",
       "      <th>0</th>\n",
       "      <td>0</td>\n",
       "      <td>3</td>\n",
       "      <td>male</td>\n",
       "      <td>22.0</td>\n",
       "      <td>1</td>\n",
       "      <td>7.2500</td>\n",
       "    </tr>\n",
       "    <tr>\n",
       "      <th>1</th>\n",
       "      <td>1</td>\n",
       "      <td>1</td>\n",
       "      <td>female</td>\n",
       "      <td>38.0</td>\n",
       "      <td>1</td>\n",
       "      <td>71.2833</td>\n",
       "    </tr>\n",
       "    <tr>\n",
       "      <th>2</th>\n",
       "      <td>1</td>\n",
       "      <td>3</td>\n",
       "      <td>female</td>\n",
       "      <td>26.0</td>\n",
       "      <td>0</td>\n",
       "      <td>7.9250</td>\n",
       "    </tr>\n",
       "    <tr>\n",
       "      <th>3</th>\n",
       "      <td>1</td>\n",
       "      <td>1</td>\n",
       "      <td>other</td>\n",
       "      <td>35.0</td>\n",
       "      <td>1</td>\n",
       "      <td>53.1000</td>\n",
       "    </tr>\n",
       "    <tr>\n",
       "      <th>6</th>\n",
       "      <td>0</td>\n",
       "      <td>1</td>\n",
       "      <td>male</td>\n",
       "      <td>54.0</td>\n",
       "      <td>0</td>\n",
       "      <td>51.8625</td>\n",
       "    </tr>\n",
       "    <tr>\n",
       "      <th>7</th>\n",
       "      <td>0</td>\n",
       "      <td>3</td>\n",
       "      <td>male</td>\n",
       "      <td>2.0</td>\n",
       "      <td>3</td>\n",
       "      <td>21.0750</td>\n",
       "    </tr>\n",
       "    <tr>\n",
       "      <th>8</th>\n",
       "      <td>1</td>\n",
       "      <td>3</td>\n",
       "      <td>female</td>\n",
       "      <td>27.0</td>\n",
       "      <td>0</td>\n",
       "      <td>11.1333</td>\n",
       "    </tr>\n",
       "    <tr>\n",
       "      <th>9</th>\n",
       "      <td>1</td>\n",
       "      <td>2</td>\n",
       "      <td>female</td>\n",
       "      <td>14.0</td>\n",
       "      <td>1</td>\n",
       "      <td>30.0708</td>\n",
       "    </tr>\n",
       "  </tbody>\n",
       "</table>\n",
       "</div>"
      ],
      "text/plain": [
       "   Survived  Pclass     Sex   Age  SibSp     Fare\n",
       "0         0       3    male  22.0      1   7.2500\n",
       "1         1       1  female  38.0      1  71.2833\n",
       "2         1       3  female  26.0      0   7.9250\n",
       "3         1       1   other  35.0      1  53.1000\n",
       "6         0       1    male  54.0      0  51.8625\n",
       "7         0       3    male   2.0      3  21.0750\n",
       "8         1       3  female  27.0      0  11.1333\n",
       "9         1       2  female  14.0      1  30.0708"
      ]
     },
     "execution_count": 4,
     "metadata": {},
     "output_type": "execute_result"
    }
   ],
   "source": [
    "# Drop element\n",
    "newdf = data.dropna()\n",
    "print(newdf.shape)\n",
    "newdf.head(8)"
   ]
  },
  {
   "cell_type": "code",
   "execution_count": 5,
   "id": "de27ed21",
   "metadata": {},
   "outputs": [
    {
     "name": "stdout",
     "output_type": "stream",
     "text": [
      "   Survived  Pclass     Sex        Age  SibSp     Fare\n",
      "0         0       3    male  22.000000      1   7.2500\n",
      "1         1       1  female  38.000000      1  71.2833\n",
      "2         1       3  female  26.000000      0   7.9250\n",
      "3         1       1   other  35.000000      1  53.1000\n",
      "4         0       3     NaN  35.000000      0   8.0500\n",
      "5         0       3    male  29.699118      0   8.4583\n",
      "6         0       1    male  54.000000      0  51.8625\n",
      "7         0       3    male   2.000000      3  21.0750\n"
     ]
    }
   ],
   "source": [
    "# Replace Numerical Imputation\n",
    "data['Age'].fillna(data['Age'].mean(), inplace=True)\n",
    "print(data.head(8))"
   ]
  },
  {
   "cell_type": "code",
   "execution_count": 6,
   "id": "94ed8d43",
   "metadata": {},
   "outputs": [
    {
     "name": "stdout",
     "output_type": "stream",
     "text": [
      "   Survived  Pclass     Sex        Age  SibSp     Fare\n",
      "0         0       3    male  22.000000      1   7.2500\n",
      "1         1       1  female  38.000000      1  71.2833\n",
      "2         1       3  female  26.000000      0   7.9250\n",
      "3         1       1   other  35.000000      1  53.1000\n",
      "4         0       3    male  35.000000      0   8.0500\n",
      "5         0       3    male  29.699118      0   8.4583\n",
      "6         0       1    male  54.000000      0  51.8625\n",
      "7         0       3    male   2.000000      3  21.0750\n"
     ]
    }
   ],
   "source": [
    "# Replace Categorical Imputation\n",
    "data['Sex'].fillna(data['Sex'].value_counts().idxmax(), inplace=True)\n",
    "print(data.head(8))"
   ]
  },
  {
   "cell_type": "code",
   "execution_count": 7,
   "id": "1c4f0f6c",
   "metadata": {},
   "outputs": [
    {
     "data": {
      "image/png": "[encoded data removed]",
      "text/plain": [
       "<Figure size 360x360 with 1 Axes>"
      ]
     },
     "metadata": {
      "needs_background": "light"
     },
     "output_type": "display_data"
    }
   ],
   "source": [
    "import seaborn as sns\n",
    "import matplotlib.pyplot as plt\n",
    "plt.figure(figsize=(5, 5))\n",
    "sns.boxplot(x='Sex', y='Age', data=data)\n",
    "plt.xticks(rotation = 90)\n",
    "plt.show()"
   ]
  },
  {
   "cell_type": "code",
   "execution_count": 8,
   "id": "af921855",
   "metadata": {},
   "outputs": [
    {
     "data": {
      "text/plain": [
       "3    491\n",
       "1    216\n",
       "2    184\n",
       "Name: Pclass, dtype: int64"
      ]
     },
     "execution_count": 8,
     "metadata": {},
     "output_type": "execute_result"
    }
   ],
   "source": [
    "data.Pclass.value_counts()  # Majority are from 3rd class"
   ]
  },
  {
   "cell_type": "code",
   "execution_count": 9,
   "id": "ef3af76f",
   "metadata": {},
   "outputs": [
    {
     "data": {
      "text/html": [
       "<div>\n",
       "<style scoped>\n",
       "    .dataframe tbody tr th:only-of-type {\n",
       "        vertical-align: middle;\n",
       "    }\n",
       "\n",
       "    .dataframe tbody tr th {\n",
       "        vertical-align: top;\n",
       "    }\n",
       "\n",
       "    .dataframe thead th {\n",
       "        text-align: right;\n",
       "    }\n",
       "</style>\n",
       "<table border=\"1\" class=\"dataframe\">\n",
       "  <thead>\n",
       "    <tr style=\"text-align: right;\">\n",
       "      <th></th>\n",
       "      <th>Survived</th>\n",
       "      <th>Age</th>\n",
       "      <th>SibSp</th>\n",
       "      <th>Fare</th>\n",
       "    </tr>\n",
       "    <tr>\n",
       "      <th>Pclass</th>\n",
       "      <th></th>\n",
       "      <th></th>\n",
       "      <th></th>\n",
       "      <th></th>\n",
       "    </tr>\n",
       "  </thead>\n",
       "  <tbody>\n",
       "    <tr>\n",
       "      <th>1</th>\n",
       "      <td>0.629630</td>\n",
       "      <td>37.048118</td>\n",
       "      <td>0.416667</td>\n",
       "      <td>84.154687</td>\n",
       "    </tr>\n",
       "    <tr>\n",
       "      <th>2</th>\n",
       "      <td>0.472826</td>\n",
       "      <td>29.866958</td>\n",
       "      <td>0.402174</td>\n",
       "      <td>20.662183</td>\n",
       "    </tr>\n",
       "    <tr>\n",
       "      <th>3</th>\n",
       "      <td>0.242363</td>\n",
       "      <td>26.403259</td>\n",
       "      <td>0.615071</td>\n",
       "      <td>13.675550</td>\n",
       "    </tr>\n",
       "  </tbody>\n",
       "</table>\n",
       "</div>"
      ],
      "text/plain": [
       "        Survived        Age     SibSp       Fare\n",
       "Pclass                                          \n",
       "1       0.629630  37.048118  0.416667  84.154687\n",
       "2       0.472826  29.866958  0.402174  20.662183\n",
       "3       0.242363  26.403259  0.615071  13.675550"
      ]
     },
     "execution_count": 9,
     "metadata": {},
     "output_type": "execute_result"
    }
   ],
   "source": [
    "data.groupby('Pclass').mean()"
   ]
  },
  {
   "cell_type": "code",
   "execution_count": 10,
   "id": "85ba9d6e",
   "metadata": {},
   "outputs": [
    {
     "data": {
      "text/plain": [
       "<AxesSubplot:xlabel='Pclass', ylabel='count'>"
      ]
     },
     "execution_count": 10,
     "metadata": {},
     "output_type": "execute_result"
    },
    {
     "data": {
      "image/png": "[encoded data removed]",
      "text/plain": [
       "<Figure size 432x288 with 1 Axes>"
      ]
     },
     "metadata": {
      "needs_background": "light"
     },
     "output_type": "display_data"
    }
   ],
   "source": [
    "sns.countplot(x='Pclass', hue='Survived', data=data)"
   ]
  },
  {
   "cell_type": "code",
   "execution_count": 11,
   "id": "88267b0e",
   "metadata": {},
   "outputs": [
    {
     "data": {
      "text/plain": [
       "Sex     Survived\n",
       "female  0            81\n",
       "        1           232\n",
       "male    0           468\n",
       "        1           109\n",
       "other   1             1\n",
       "Name: Survived, dtype: int64"
      ]
     },
     "execution_count": 11,
     "metadata": {},
     "output_type": "execute_result"
    }
   ],
   "source": [
    "data.groupby(['Sex','Survived'])['Survived'].count()"
   ]
  },
  {
   "cell_type": "code",
   "execution_count": 12,
   "id": "dfc99f4e",
   "metadata": {},
   "outputs": [
    {
     "data": {
      "text/plain": [
       "<AxesSubplot:xlabel='Sex', ylabel='count'>"
      ]
     },
     "execution_count": 12,
     "metadata": {},
     "output_type": "execute_result"
    },
    {
     "data": {
      "image/png": "[encoded data removed]",
      "text/plain": [
       "<Figure size 432x288 with 1 Axes>"
      ]
     },
     "metadata": {
      "needs_background": "light"
     },
     "output_type": "display_data"
    }
   ],
   "source": [
    "sns.countplot(x='Sex', hue='Survived', data=data)"
   ]
  },
  {
   "cell_type": "code",
   "execution_count": 13,
   "id": "7e09fdb8",
   "metadata": {},
   "outputs": [
    {
     "name": "stdout",
     "output_type": "stream",
     "text": [
      "68.70516332506742 -9.30692803094989\n",
      "   Survived  Pclass     Sex        Age  SibSp     Fare\n",
      "0         0       3    male  22.000000      1   7.2500\n",
      "1         1       1  female  38.000000      1  71.2833\n",
      "2         1       3  female  26.000000      0   7.9250\n",
      "3         1       1   other  35.000000      1  53.1000\n",
      "4         0       3    male  35.000000      0   8.0500\n",
      "5         0       3    male  29.699118      0   8.4583\n",
      "6         0       1    male  54.000000      0  51.8625\n",
      "7         0       3    male   2.000000      3  21.0750\n"
     ]
    }
   ],
   "source": [
    "# Handling Outliers, by removing data which lies outside 3 sigma\n",
    "factor = 3\n",
    "upper_lim = data['Age'].mean() + data['Age'].std() * factor\n",
    "lower_lim = data['Age'].mean() - data['Age'].std() * factor\n",
    "print(upper_lim,lower_lim)\n",
    "data = data[(data['Age'] < upper_lim) & (data['Age'] > lower_lim)]\n",
    "print(data.head(8))"
   ]
  },
  {
   "cell_type": "code",
   "execution_count": 14,
   "id": "ec7f893d",
   "metadata": {},
   "outputs": [
    {
     "name": "stdout",
     "output_type": "stream",
     "text": [
      "   Survived  Pclass     Sex        Age  SibSp     Fare age_bin\n",
      "0         0       3    male  22.000000      1   7.2500   Adult\n",
      "1         1       1  female  38.000000      1  71.2833   Adult\n",
      "2         1       3  female  26.000000      0   7.9250   Adult\n",
      "3         1       1   other  35.000000      1  53.1000   Adult\n",
      "4         0       3    male  35.000000      0   8.0500   Adult\n",
      "5         0       3    male  29.699118      0   8.4583   Adult\n",
      "6         0       1    male  54.000000      0  51.8625     Old\n",
      "7         0       3    male   2.000000      3  21.0750   Child\n"
     ]
    }
   ],
   "source": [
    "# Binning\n",
    "data['age_bin'] = pd.cut(data['Age'], bins=[0,21,50,100], labels=[\"Child\", \"Adult\", \"Old\"])\n",
    "print(data.head(8))"
   ]
  },
  {
   "cell_type": "code",
   "execution_count": 15,
   "id": "39c4c379",
   "metadata": {},
   "outputs": [
    {
     "name": "stdout",
     "output_type": "stream",
     "text": [
      "   Survived  Pclass     Sex        Age  SibSp     Fare age_bin  log_fare\n",
      "0         0       3    male  22.000000      1   7.2500   Adult  2.110213\n",
      "1         1       1  female  38.000000      1  71.2833   Adult  4.280593\n",
      "2         1       3  female  26.000000      0   7.9250   Adult  2.188856\n",
      "3         1       1   other  35.000000      1  53.1000   Adult  3.990834\n",
      "4         0       3    male  35.000000      0   8.0500   Adult  2.202765\n",
      "5         0       3    male  29.699118      0   8.4583   Adult  2.246893\n",
      "6         0       1    male  54.000000      0  51.8625     Old  3.967694\n",
      "7         0       3    male   2.000000      3  21.0750   Child  3.094446\n"
     ]
    }
   ],
   "source": [
    "# Log Transform\n",
    "data['log_fare'] = np.log(data['Fare']+1)\n",
    "print(data.head(8))"
   ]
  },
  {
   "cell_type": "code",
   "execution_count": 16,
   "id": "8e42cb22",
   "metadata": {},
   "outputs": [
    {
     "name": "stdout",
     "output_type": "stream",
     "text": [
      "   Survived  Pclass        Age  SibSp     Fare age_bin  log_fare  female  \\\n",
      "0         0       3  22.000000      1   7.2500   Adult  2.110213       0   \n",
      "1         1       1  38.000000      1  71.2833   Adult  4.280593       1   \n",
      "2         1       3  26.000000      0   7.9250   Adult  2.188856       1   \n",
      "3         1       1  35.000000      1  53.1000   Adult  3.990834       0   \n",
      "4         0       3  35.000000      0   8.0500   Adult  2.202765       0   \n",
      "5         0       3  29.699118      0   8.4583   Adult  2.246893       0   \n",
      "6         0       1  54.000000      0  51.8625     Old  3.967694       0   \n",
      "7         0       3   2.000000      3  21.0750   Child  3.094446       0   \n",
      "\n",
      "   male  other  \n",
      "0     1      0  \n",
      "1     0      0  \n",
      "2     0      0  \n",
      "3     0      1  \n",
      "4     1      0  \n",
      "5     1      0  \n",
      "6     1      0  \n",
      "7     1      0  \n"
     ]
    }
   ],
   "source": [
    "#One-Hot Encoding\n",
    "encoded_columns = pd.get_dummies(data['Sex'])\n",
    "data = data.join(encoded_columns).drop('Sex', axis=1)\n",
    "print(data.head(8))"
   ]
  },
  {
   "cell_type": "code",
   "execution_count": 17,
   "id": "90771e79",
   "metadata": {},
   "outputs": [
    {
     "name": "stdout",
     "output_type": "stream",
     "text": [
      "   Survived  Pclass        Age  SibSp     Fare age_bin  log_fare  female  \\\n",
      "0         0       3  22.000000      1   7.2500   Adult  2.110213       0   \n",
      "1         1       1  38.000000      1  71.2833   Adult  4.280593       1   \n",
      "2         1       3  26.000000      0   7.9250   Adult  2.188856       1   \n",
      "3         1       1  35.000000      1  53.1000   Adult  3.990834       0   \n",
      "4         0       3  35.000000      0   8.0500   Adult  2.202765       0   \n",
      "5         0       3  29.699118      0   8.4583   Adult  2.246893       0   \n",
      "6         0       1  54.000000      0  51.8625     Old  3.967694       0   \n",
      "7         0       3   2.000000      3  21.0750   Child  3.094446       0   \n",
      "\n",
      "   male  other  fare_normalized  fare_standardized  \n",
      "0     1      0         0.014151          -0.500904  \n",
      "1     0      0         0.139136           0.783603  \n",
      "2     0      0         0.015469          -0.487364  \n",
      "3     0      1         0.103644           0.418846  \n",
      "4     1      0         0.015713          -0.484856  \n",
      "5     1      0         0.016510          -0.476666  \n",
      "6     1      0         0.101229           0.394022  \n",
      "7     1      0         0.041136          -0.223575  \n"
     ]
    }
   ],
   "source": [
    "# Scaling\n",
    "data['fare_normalized'] = (data['Fare'] - data['Fare'].min()) / (data['Fare'].max() - data['Fare'].min())\n",
    "data['fare_standardized'] = (data['Fare'] - data['Fare'].mean()) / data['Fare'].std()\n",
    "print(data.head(8))"
   ]
  },
  {
   "cell_type": "code",
   "execution_count": 18,
   "id": "0a895802",
   "metadata": {},
   "outputs": [
    {
     "data": {
      "text/html": [
       "<div>\n",
       "<style scoped>\n",
       "    .dataframe tbody tr th:only-of-type {\n",
       "        vertical-align: middle;\n",
       "    }\n",
       "\n",
       "    .dataframe tbody tr th {\n",
       "        vertical-align: top;\n",
       "    }\n",
       "\n",
       "    .dataframe thead th {\n",
       "        text-align: right;\n",
       "    }\n",
       "</style>\n",
       "<table border=\"1\" class=\"dataframe\">\n",
       "  <thead>\n",
       "    <tr style=\"text-align: right;\">\n",
       "      <th></th>\n",
       "      <th>Pclass</th>\n",
       "      <th>Age</th>\n",
       "      <th>SibSp</th>\n",
       "      <th>log_fare</th>\n",
       "      <th>Fare</th>\n",
       "      <th>fare_normalized</th>\n",
       "      <th>fare_standardized</th>\n",
       "    </tr>\n",
       "  </thead>\n",
       "  <tbody>\n",
       "    <tr>\n",
       "      <th>0</th>\n",
       "      <td>3</td>\n",
       "      <td>22.000000</td>\n",
       "      <td>1</td>\n",
       "      <td>2.110213</td>\n",
       "      <td>7.2500</td>\n",
       "      <td>0.014151</td>\n",
       "      <td>-0.500904</td>\n",
       "    </tr>\n",
       "    <tr>\n",
       "      <th>1</th>\n",
       "      <td>1</td>\n",
       "      <td>38.000000</td>\n",
       "      <td>1</td>\n",
       "      <td>4.280593</td>\n",
       "      <td>71.2833</td>\n",
       "      <td>0.139136</td>\n",
       "      <td>0.783603</td>\n",
       "    </tr>\n",
       "    <tr>\n",
       "      <th>2</th>\n",
       "      <td>3</td>\n",
       "      <td>26.000000</td>\n",
       "      <td>0</td>\n",
       "      <td>2.188856</td>\n",
       "      <td>7.9250</td>\n",
       "      <td>0.015469</td>\n",
       "      <td>-0.487364</td>\n",
       "    </tr>\n",
       "    <tr>\n",
       "      <th>3</th>\n",
       "      <td>1</td>\n",
       "      <td>35.000000</td>\n",
       "      <td>1</td>\n",
       "      <td>3.990834</td>\n",
       "      <td>53.1000</td>\n",
       "      <td>0.103644</td>\n",
       "      <td>0.418846</td>\n",
       "    </tr>\n",
       "    <tr>\n",
       "      <th>4</th>\n",
       "      <td>3</td>\n",
       "      <td>35.000000</td>\n",
       "      <td>0</td>\n",
       "      <td>2.202765</td>\n",
       "      <td>8.0500</td>\n",
       "      <td>0.015713</td>\n",
       "      <td>-0.484856</td>\n",
       "    </tr>\n",
       "    <tr>\n",
       "      <th>5</th>\n",
       "      <td>3</td>\n",
       "      <td>29.699118</td>\n",
       "      <td>0</td>\n",
       "      <td>2.246893</td>\n",
       "      <td>8.4583</td>\n",
       "      <td>0.016510</td>\n",
       "      <td>-0.476666</td>\n",
       "    </tr>\n",
       "    <tr>\n",
       "      <th>6</th>\n",
       "      <td>1</td>\n",
       "      <td>54.000000</td>\n",
       "      <td>0</td>\n",
       "      <td>3.967694</td>\n",
       "      <td>51.8625</td>\n",
       "      <td>0.101229</td>\n",
       "      <td>0.394022</td>\n",
       "    </tr>\n",
       "    <tr>\n",
       "      <th>7</th>\n",
       "      <td>3</td>\n",
       "      <td>2.000000</td>\n",
       "      <td>3</td>\n",
       "      <td>3.094446</td>\n",
       "      <td>21.0750</td>\n",
       "      <td>0.041136</td>\n",
       "      <td>-0.223575</td>\n",
       "    </tr>\n",
       "    <tr>\n",
       "      <th>8</th>\n",
       "      <td>3</td>\n",
       "      <td>27.000000</td>\n",
       "      <td>0</td>\n",
       "      <td>2.495954</td>\n",
       "      <td>11.1333</td>\n",
       "      <td>0.021731</td>\n",
       "      <td>-0.423005</td>\n",
       "    </tr>\n",
       "    <tr>\n",
       "      <th>9</th>\n",
       "      <td>2</td>\n",
       "      <td>14.000000</td>\n",
       "      <td>1</td>\n",
       "      <td>3.436268</td>\n",
       "      <td>30.0708</td>\n",
       "      <td>0.058694</td>\n",
       "      <td>-0.043119</td>\n",
       "    </tr>\n",
       "  </tbody>\n",
       "</table>\n",
       "</div>"
      ],
      "text/plain": [
       "   Pclass        Age  SibSp  log_fare     Fare  fare_normalized  \\\n",
       "0       3  22.000000      1  2.110213   7.2500         0.014151   \n",
       "1       1  38.000000      1  4.280593  71.2833         0.139136   \n",
       "2       3  26.000000      0  2.188856   7.9250         0.015469   \n",
       "3       1  35.000000      1  3.990834  53.1000         0.103644   \n",
       "4       3  35.000000      0  2.202765   8.0500         0.015713   \n",
       "5       3  29.699118      0  2.246893   8.4583         0.016510   \n",
       "6       1  54.000000      0  3.967694  51.8625         0.101229   \n",
       "7       3   2.000000      3  3.094446  21.0750         0.041136   \n",
       "8       3  27.000000      0  2.495954  11.1333         0.021731   \n",
       "9       2  14.000000      1  3.436268  30.0708         0.058694   \n",
       "\n",
       "   fare_standardized  \n",
       "0          -0.500904  \n",
       "1           0.783603  \n",
       "2          -0.487364  \n",
       "3           0.418846  \n",
       "4          -0.484856  \n",
       "5          -0.476666  \n",
       "6           0.394022  \n",
       "7          -0.223575  \n",
       "8          -0.423005  \n",
       "9          -0.043119  "
      ]
     },
     "execution_count": 18,
     "metadata": {},
     "output_type": "execute_result"
    }
   ],
   "source": [
    "# Feature Selection - Correlation\n",
    "feat_cols = ['Pclass', 'Age', 'SibSp', 'log_fare','Fare', 'fare_normalized', 'fare_standardized']\n",
    "X = data[feat_cols]\n",
    "Y = data['Survived']\n",
    "X.head(10)"
   ]
  },
  {
   "cell_type": "code",
   "execution_count": 19,
   "id": "4bb851d6",
   "metadata": {},
   "outputs": [
    {
     "name": "stdout",
     "output_type": "stream",
     "text": [
      "correlated features:  2 {'fare_normalized', 'fare_standardized'}\n"
     ]
    }
   ],
   "source": [
    "def correlation(dataset, threshold):\n",
    "    col_corr = set()\n",
    "    corr_matrix = dataset.corr()\n",
    "    for i in range(len(corr_matrix.columns)):\n",
    "        for j in range(i):\n",
    "            if abs(corr_matrix.iloc[i, j]) > threshold: \n",
    "                colname = corr_matrix.columns[i]\n",
    "                col_corr.add(colname)\n",
    "    return col_corr\n",
    "\n",
    "corr_features = correlation(X, 0.8)\n",
    "print('correlated features: ', len(set(corr_features)), corr_features )"
   ]
  },
  {
   "cell_type": "code",
   "execution_count": 20,
   "id": "2a81492d",
   "metadata": {},
   "outputs": [
    {
     "data": {
      "text/plain": [
       "<AxesSubplot:>"
      ]
     },
     "execution_count": 20,
     "metadata": {},
     "output_type": "execute_result"
    },
    {
     "data": {
      "image/png": "[encoded data removed]",
      "text/plain": [
       "<Figure size 792x792 with 2 Axes>"
      ]
     },
     "metadata": {
      "needs_background": "light"
     },
     "output_type": "display_data"
    }
   ],
   "source": [
    "# Visualize Correlated Features\n",
    "import seaborn as sns\n",
    "import matplotlib.pyplot as plt\n",
    "corr = X.corr()\n",
    "fig, ax = plt.subplots()\n",
    "fig.set_size_inches(11,11)\n",
    "sns.heatmap(corr, annot = True,fmt='.2%',cmap = 'viridis')"
   ]
  },
  {
   "cell_type": "code",
   "execution_count": null,
   "id": "29ec4b42",
   "metadata": {},
   "outputs": [],
   "source": []
  }
 ],
 "metadata": {
  "kernelspec": {
   "display_name": "Python 3 (ipykernel)",
   "language": "python",
   "name": "python3"
  },
  "language_info": {
   "codemirror_mode": {
    "name": "ipython",
    "version": 3
   },
   "file_extension": ".py",
   "mimetype": "text/x-python",
   "name": "python",
   "nbconvert_exporter": "python",
   "pygments_lexer": "ipython3",
   "version": "3.9.12"
  }
 },
 "nbformat": 4,
 "nbformat_minor": 5
}
