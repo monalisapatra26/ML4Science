{
 "cells": [
  {
   "cell_type": "markdown",
   "id": "ed6ceeb6",
   "metadata": {},
   "source": [
    "## Use the dataset ford.csv. \n",
    "\n",
    "1. First try to check which type of machine learning algorithm can be used for the analysis. Identify the features and the target variable\n",
    "\n",
    "2. Do a preliminary check of the data set using data vizualization techniques\n",
    "\n",
    "3. Take into account all the numerical features and implement PCA from scratch\n",
    "\n",
    "4. Cross check with the result from PCA module of the scikit learn package\n",
    "\n",
    "5. Do a scree plot and see how much variance is captured by each of the principal components\n",
    "\n",
    "6. Finally try to plot the data using PC1, PC2, PC3 and see if you are getting any additional information"
   ]
  },
  {
   "cell_type": "code",
   "execution_count": null,
   "id": "735da0cd",
   "metadata": {},
   "outputs": [],
   "source": []
  }
 ],
 "metadata": {
  "kernelspec": {
   "display_name": "Python 3 (ipykernel)",
   "language": "python",
   "name": "python3"
  },
  "language_info": {
   "codemirror_mode": {
    "name": "ipython",
    "version": 3
   },
   "file_extension": ".py",
   "mimetype": "text/x-python",
   "name": "python",
   "nbconvert_exporter": "python",
   "pygments_lexer": "ipython3",
   "version": "3.9.12"
  }
 },
 "nbformat": 4,
 "nbformat_minor": 5
}
